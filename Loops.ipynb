{
  "nbformat": 4,
  "nbformat_minor": 0,
  "metadata": {
    "colab": {
      "provenance": [],
      "authorship_tag": "ABX9TyOPoy9oJKwzVZEv9PZU+oW1",
      "include_colab_link": true
    },
    "kernelspec": {
      "name": "python3",
      "display_name": "Python 3"
    },
    "language_info": {
      "name": "python"
    }
  },
  "cells": [
    {
      "cell_type": "markdown",
      "metadata": {
        "id": "view-in-github",
        "colab_type": "text"
      },
      "source": [
        "<a href=\"https://colab.research.google.com/github/alirezasaharkhiz9/MyPythonWorkshop-at-FerdowsiUniversity/blob/main/Loops.ipynb\" target=\"_parent\"><img src=\"https://colab.research.google.com/assets/colab-badge.svg\" alt=\"Open In Colab\"/></a>"
      ]
    },
    {
      "cell_type": "markdown",
      "source": [
        "# Loops\n",
        "\n",
        "in this lesson we'll learn:\n",
        "1. range()\n",
        "2. input()\n",
        "3. Iterables\n",
        "4. for Loops\n",
        "5. while Loops\n",
        "6. List Comprehensions\n",
        "7. break, continue, pass\n",
        "8. enumerate()"
      ],
      "metadata": {
        "id": "9Dr0Cy4E_MyH"
      }
    },
    {
      "cell_type": "markdown",
      "source": [
        "## range()\n",
        "\n",
        "- range(start, stop, step)"
      ],
      "metadata": {
        "id": "6TO9p4qI_aWx"
      }
    },
    {
      "cell_type": "code",
      "execution_count": 8,
      "metadata": {
        "id": "N8FQfeRM_HWY",
        "colab": {
          "base_uri": "https://localhost:8080/"
        },
        "outputId": "f859cba4-9a3a-4c98-9f2d-839711d77d4b"
      },
      "outputs": [
        {
          "output_type": "execute_result",
          "data": {
            "text/plain": [
              "range(1, 20)"
            ]
          },
          "metadata": {},
          "execution_count": 8
        }
      ],
      "source": [
        "range(1, 20)"
      ]
    },
    {
      "cell_type": "code",
      "source": [
        "list(range(1, 21))"
      ],
      "metadata": {
        "colab": {
          "base_uri": "https://localhost:8080/"
        },
        "id": "EMH7sBk_lTam",
        "outputId": "ec01ac8a-0384-48f5-b770-b5be2177ab5e"
      },
      "execution_count": 10,
      "outputs": [
        {
          "output_type": "execute_result",
          "data": {
            "text/plain": [
              "[1, 2, 3, 4, 5, 6, 7, 8, 9, 10, 11, 12, 13, 14, 15, 16, 17, 18, 19, 20]"
            ]
          },
          "metadata": {},
          "execution_count": 10
        }
      ]
    },
    {
      "cell_type": "code",
      "source": [
        "list(range(1.5, 20.5, 0.5))"
      ],
      "metadata": {
        "colab": {
          "base_uri": "https://localhost:8080/",
          "height": 141
        },
        "id": "AY0Djr_0l5a5",
        "outputId": "02a1f306-fb93-4b75-b269-1da556196cd7"
      },
      "execution_count": 11,
      "outputs": [
        {
          "output_type": "error",
          "ename": "TypeError",
          "evalue": "'float' object cannot be interpreted as an integer",
          "traceback": [
            "\u001b[0;31m---------------------------------------------------------------------------\u001b[0m",
            "\u001b[0;31mTypeError\u001b[0m                                 Traceback (most recent call last)",
            "\u001b[0;32m<ipython-input-11-1d4c9cbeb8a2>\u001b[0m in \u001b[0;36m<cell line: 1>\u001b[0;34m()\u001b[0m\n\u001b[0;32m----> 1\u001b[0;31m \u001b[0mlist\u001b[0m\u001b[0;34m(\u001b[0m\u001b[0mrange\u001b[0m\u001b[0;34m(\u001b[0m\u001b[0;36m1.5\u001b[0m\u001b[0;34m,\u001b[0m \u001b[0;36m20.5\u001b[0m\u001b[0;34m,\u001b[0m \u001b[0;36m0.5\u001b[0m\u001b[0;34m)\u001b[0m\u001b[0;34m)\u001b[0m\u001b[0;34m\u001b[0m\u001b[0;34m\u001b[0m\u001b[0m\n\u001b[0m",
            "\u001b[0;31mTypeError\u001b[0m: 'float' object cannot be interpreted as an integer"
          ]
        }
      ]
    },
    {
      "cell_type": "code",
      "source": [
        "list(range(20, 200, 5))"
      ],
      "metadata": {
        "colab": {
          "base_uri": "https://localhost:8080/"
        },
        "id": "zCWpgf7XmFWo",
        "outputId": "130b955e-acc6-406a-acba-8c23b99ee5d8"
      },
      "execution_count": 15,
      "outputs": [
        {
          "output_type": "execute_result",
          "data": {
            "text/plain": [
              "[20,\n",
              " 25,\n",
              " 30,\n",
              " 35,\n",
              " 40,\n",
              " 45,\n",
              " 50,\n",
              " 55,\n",
              " 60,\n",
              " 65,\n",
              " 70,\n",
              " 75,\n",
              " 80,\n",
              " 85,\n",
              " 90,\n",
              " 95,\n",
              " 100,\n",
              " 105,\n",
              " 110,\n",
              " 115,\n",
              " 120,\n",
              " 125,\n",
              " 130,\n",
              " 135,\n",
              " 140,\n",
              " 145,\n",
              " 150,\n",
              " 155,\n",
              " 160,\n",
              " 165,\n",
              " 170,\n",
              " 175,\n",
              " 180,\n",
              " 185,\n",
              " 190,\n",
              " 195]"
            ]
          },
          "metadata": {},
          "execution_count": 15
        }
      ]
    },
    {
      "cell_type": "code",
      "source": [
        "list(range(200, 99, -5))"
      ],
      "metadata": {
        "colab": {
          "base_uri": "https://localhost:8080/"
        },
        "id": "ORVPy7lTmaTL",
        "outputId": "eb7de906-7378-41bb-ea28-205b11db8643"
      },
      "execution_count": 18,
      "outputs": [
        {
          "output_type": "execute_result",
          "data": {
            "text/plain": [
              "[200,\n",
              " 195,\n",
              " 190,\n",
              " 185,\n",
              " 180,\n",
              " 175,\n",
              " 170,\n",
              " 165,\n",
              " 160,\n",
              " 155,\n",
              " 150,\n",
              " 145,\n",
              " 140,\n",
              " 135,\n",
              " 130,\n",
              " 125,\n",
              " 120,\n",
              " 115,\n",
              " 110,\n",
              " 105,\n",
              " 100]"
            ]
          },
          "metadata": {},
          "execution_count": 18
        }
      ]
    },
    {
      "cell_type": "markdown",
      "source": [
        "## input()"
      ],
      "metadata": {
        "id": "pg4gtOPdRbhG"
      }
    },
    {
      "cell_type": "code",
      "source": [
        "x = input('enter your number: ')\n",
        "print(x)"
      ],
      "metadata": {
        "colab": {
          "base_uri": "https://localhost:8080/"
        },
        "id": "KDdcAXe_RfU7",
        "outputId": "1c821c49-0b31-4534-a577-898803c1418a"
      },
      "execution_count": 19,
      "outputs": [
        {
          "output_type": "stream",
          "name": "stdout",
          "text": [
            "enter your number: 45\n",
            "45\n"
          ]
        }
      ]
    },
    {
      "cell_type": "code",
      "source": [
        "x = input('text: ')\n",
        "print(x)"
      ],
      "metadata": {
        "colab": {
          "base_uri": "https://localhost:8080/"
        },
        "id": "5h6d7a-qnT4T",
        "outputId": "4dd75062-4fe6-4f93-8d67-4a4df04a2a3f"
      },
      "execution_count": 20,
      "outputs": [
        {
          "output_type": "stream",
          "name": "stdout",
          "text": [
            "text: alireza\n",
            "alireza\n"
          ]
        }
      ]
    },
    {
      "cell_type": "code",
      "source": [
        "x = input('text: ')\n",
        "print(f'my name is {x}')"
      ],
      "metadata": {
        "colab": {
          "base_uri": "https://localhost:8080/"
        },
        "id": "K4uWjWGqnhZN",
        "outputId": "576aca4c-70f1-4e48-c4d6-57a05442ac0d"
      },
      "execution_count": 21,
      "outputs": [
        {
          "output_type": "stream",
          "name": "stdout",
          "text": [
            "text: alireza\n",
            "my name is alireza\n"
          ]
        }
      ]
    },
    {
      "cell_type": "code",
      "source": [
        "x = input('number: ')\n",
        "print(x + 10)"
      ],
      "metadata": {
        "colab": {
          "base_uri": "https://localhost:8080/",
          "height": 176
        },
        "id": "ctdBpqaSoKR6",
        "outputId": "849cbbaf-0bfd-47ba-fa64-b1ed2ebe88f2"
      },
      "execution_count": 22,
      "outputs": [
        {
          "name": "stdout",
          "output_type": "stream",
          "text": [
            "number: 10\n"
          ]
        },
        {
          "output_type": "error",
          "ename": "TypeError",
          "evalue": "can only concatenate str (not \"int\") to str",
          "traceback": [
            "\u001b[0;31m---------------------------------------------------------------------------\u001b[0m",
            "\u001b[0;31mTypeError\u001b[0m                                 Traceback (most recent call last)",
            "\u001b[0;32m<ipython-input-22-ef7f2753b55f>\u001b[0m in \u001b[0;36m<cell line: 2>\u001b[0;34m()\u001b[0m\n\u001b[1;32m      1\u001b[0m \u001b[0mx\u001b[0m \u001b[0;34m=\u001b[0m \u001b[0minput\u001b[0m\u001b[0;34m(\u001b[0m\u001b[0;34m'number: '\u001b[0m\u001b[0;34m)\u001b[0m\u001b[0;34m\u001b[0m\u001b[0;34m\u001b[0m\u001b[0m\n\u001b[0;32m----> 2\u001b[0;31m \u001b[0mprint\u001b[0m\u001b[0;34m(\u001b[0m\u001b[0mx\u001b[0m \u001b[0;34m+\u001b[0m \u001b[0;36m10\u001b[0m\u001b[0;34m)\u001b[0m\u001b[0;34m\u001b[0m\u001b[0;34m\u001b[0m\u001b[0m\n\u001b[0m",
            "\u001b[0;31mTypeError\u001b[0m: can only concatenate str (not \"int\") to str"
          ]
        }
      ]
    },
    {
      "cell_type": "code",
      "source": [
        "x = input('number: ')\n",
        "# x = '10'\n",
        "x = int(x)\n",
        "print(x + 10)"
      ],
      "metadata": {
        "colab": {
          "base_uri": "https://localhost:8080/"
        },
        "id": "O7db-F2hoel5",
        "outputId": "787acc64-5e8b-4690-9493-d8b5c9ec5520"
      },
      "execution_count": 23,
      "outputs": [
        {
          "output_type": "stream",
          "name": "stdout",
          "text": [
            "number: 10\n",
            "20\n"
          ]
        }
      ]
    },
    {
      "cell_type": "markdown",
      "source": [
        "## Iterables\n",
        "\n",
        "- iterables ----> list, dict, tuple, set, string\n",
        "- iterate : one by one check each item in the collection"
      ],
      "metadata": {
        "id": "1d7mdq15BfSY"
      }
    },
    {
      "cell_type": "code",
      "source": [
        "x = [1, 5, 8, 7]\n",
        "'alireza'"
      ],
      "metadata": {
        "id": "lOokajNbB_Ta"
      },
      "execution_count": null,
      "outputs": []
    },
    {
      "cell_type": "markdown",
      "source": [
        "## for Loops"
      ],
      "metadata": {
        "id": "2dgiVOpYCAbg"
      }
    },
    {
      "cell_type": "code",
      "source": [
        "for i in [1, 2, 3]:\n",
        "  # i = 2\n",
        "  print(i)"
      ],
      "metadata": {
        "id": "pDdwjvklBhk-",
        "colab": {
          "base_uri": "https://localhost:8080/"
        },
        "outputId": "ab0f4876-7fe4-4fd4-c49d-02211624c3f0"
      },
      "execution_count": 24,
      "outputs": [
        {
          "output_type": "stream",
          "name": "stdout",
          "text": [
            "1\n",
            "2\n",
            "3\n"
          ]
        }
      ]
    },
    {
      "cell_type": "code",
      "source": [
        "for i in [5, 10, 15]:\n",
        "  print(i)"
      ],
      "metadata": {
        "colab": {
          "base_uri": "https://localhost:8080/"
        },
        "id": "7p2Ri0GzqgnV",
        "outputId": "834ec269-3c91-4eec-ef2a-c543de1ed95b"
      },
      "execution_count": 25,
      "outputs": [
        {
          "output_type": "stream",
          "name": "stdout",
          "text": [
            "5\n",
            "10\n",
            "15\n"
          ]
        }
      ]
    },
    {
      "cell_type": "code",
      "source": [
        "for i in [5, 10, 15]:\n",
        "  print('hello')"
      ],
      "metadata": {
        "colab": {
          "base_uri": "https://localhost:8080/"
        },
        "id": "YTbJzlacqv60",
        "outputId": "7ca1f310-1c40-4739-b7ce-6f7d3405c09a"
      },
      "execution_count": 26,
      "outputs": [
        {
          "output_type": "stream",
          "name": "stdout",
          "text": [
            "hello\n",
            "hello\n",
            "hello\n"
          ]
        }
      ]
    },
    {
      "cell_type": "code",
      "source": [
        "for i in range(1, 30):\n",
        "  print('hello')"
      ],
      "metadata": {
        "id": "wQwP9U7PrFSf"
      },
      "execution_count": null,
      "outputs": []
    },
    {
      "cell_type": "code",
      "source": [
        "for _ in range(1, 30):\n",
        "  print('hello')"
      ],
      "metadata": {
        "colab": {
          "base_uri": "https://localhost:8080/"
        },
        "id": "uwFduYshrcLk",
        "outputId": "76f777c0-cd64-416a-c514-6146ab8fa7e7"
      },
      "execution_count": 27,
      "outputs": [
        {
          "output_type": "stream",
          "name": "stdout",
          "text": [
            "hello\n",
            "hello\n",
            "hello\n",
            "hello\n",
            "hello\n",
            "hello\n",
            "hello\n",
            "hello\n",
            "hello\n",
            "hello\n",
            "hello\n",
            "hello\n",
            "hello\n",
            "hello\n",
            "hello\n",
            "hello\n",
            "hello\n",
            "hello\n",
            "hello\n",
            "hello\n",
            "hello\n",
            "hello\n",
            "hello\n",
            "hello\n",
            "hello\n",
            "hello\n",
            "hello\n",
            "hello\n",
            "hello\n"
          ]
        }
      ]
    },
    {
      "cell_type": "code",
      "source": [
        "for i in range(1, 101):\n",
        "  if i % 2 == 0:\n",
        "    print(f'{i} is even')"
      ],
      "metadata": {
        "colab": {
          "base_uri": "https://localhost:8080/"
        },
        "id": "RneZl93crn2V",
        "outputId": "26e76f02-228d-4999-cbbb-26e0cf6e6cf1"
      },
      "execution_count": 29,
      "outputs": [
        {
          "output_type": "stream",
          "name": "stdout",
          "text": [
            "2 is even\n",
            "4 is even\n",
            "6 is even\n",
            "8 is even\n",
            "10 is even\n",
            "12 is even\n",
            "14 is even\n",
            "16 is even\n",
            "18 is even\n",
            "20 is even\n",
            "22 is even\n",
            "24 is even\n",
            "26 is even\n",
            "28 is even\n",
            "30 is even\n",
            "32 is even\n",
            "34 is even\n",
            "36 is even\n",
            "38 is even\n",
            "40 is even\n",
            "42 is even\n",
            "44 is even\n",
            "46 is even\n",
            "48 is even\n",
            "50 is even\n",
            "52 is even\n",
            "54 is even\n",
            "56 is even\n",
            "58 is even\n",
            "60 is even\n",
            "62 is even\n",
            "64 is even\n",
            "66 is even\n",
            "68 is even\n",
            "70 is even\n",
            "72 is even\n",
            "74 is even\n",
            "76 is even\n",
            "78 is even\n",
            "80 is even\n",
            "82 is even\n",
            "84 is even\n",
            "86 is even\n",
            "88 is even\n",
            "90 is even\n",
            "92 is even\n",
            "94 is even\n",
            "96 is even\n",
            "98 is even\n",
            "100 is even\n"
          ]
        }
      ]
    },
    {
      "cell_type": "code",
      "source": [
        "for i in 'alireza':\n",
        "  # i = 'a'\n",
        "  print(i)"
      ],
      "metadata": {
        "colab": {
          "base_uri": "https://localhost:8080/"
        },
        "id": "5kTwUx0wssGx",
        "outputId": "0961deac-020b-4fed-c07d-ad525f092b3c"
      },
      "execution_count": 30,
      "outputs": [
        {
          "output_type": "stream",
          "name": "stdout",
          "text": [
            "a\n",
            "l\n",
            "i\n",
            "r\n",
            "e\n",
            "z\n",
            "a\n"
          ]
        }
      ]
    },
    {
      "cell_type": "code",
      "source": [
        "for i in 'alireza':\n",
        "  print('hello')"
      ],
      "metadata": {
        "colab": {
          "base_uri": "https://localhost:8080/"
        },
        "id": "YnnkHH7ns3Cj",
        "outputId": "74ee4883-efe6-4c09-ab15-91da149d2c24"
      },
      "execution_count": 31,
      "outputs": [
        {
          "output_type": "stream",
          "name": "stdout",
          "text": [
            "hello\n",
            "hello\n",
            "hello\n",
            "hello\n",
            "hello\n",
            "hello\n",
            "hello\n"
          ]
        }
      ]
    },
    {
      "cell_type": "code",
      "source": [
        "x = 'aaaaawooodkwojdwq8uwqqqq'\n",
        "for i in x:\n",
        "  if i == 'a':\n",
        "    print('dorost')\n",
        "  else:\n",
        "    print('ghalat')"
      ],
      "metadata": {
        "colab": {
          "base_uri": "https://localhost:8080/"
        },
        "id": "G04ZrETus9N0",
        "outputId": "b771bc3a-62e1-4515-b0cb-1771282f119d"
      },
      "execution_count": 33,
      "outputs": [
        {
          "output_type": "stream",
          "name": "stdout",
          "text": [
            "dorost\n",
            "dorost\n",
            "dorost\n",
            "dorost\n",
            "dorost\n",
            "ghalat\n",
            "ghalat\n",
            "ghalat\n",
            "ghalat\n",
            "ghalat\n",
            "ghalat\n",
            "ghalat\n",
            "ghalat\n",
            "ghalat\n",
            "ghalat\n",
            "ghalat\n",
            "ghalat\n",
            "ghalat\n",
            "ghalat\n",
            "ghalat\n",
            "ghalat\n",
            "ghalat\n",
            "ghalat\n",
            "ghalat\n"
          ]
        }
      ]
    },
    {
      "cell_type": "code",
      "source": [
        "x = ['ali', 'reza', 'mamad']\n",
        "for i in x:\n",
        "  for j in i:\n",
        "    if j == 'a':\n",
        "      print(j)"
      ],
      "metadata": {
        "colab": {
          "base_uri": "https://localhost:8080/"
        },
        "id": "HoY7FQYhuP4V",
        "outputId": "8fb8e030-eb70-4e0a-86d4-456086867b0b"
      },
      "execution_count": 37,
      "outputs": [
        {
          "output_type": "stream",
          "name": "stdout",
          "text": [
            "a\n",
            "a\n",
            "a\n",
            "a\n"
          ]
        }
      ]
    },
    {
      "cell_type": "markdown",
      "source": [
        "## while Loops"
      ],
      "metadata": {
        "id": "T_PEolPYCDS4"
      }
    },
    {
      "cell_type": "code",
      "source": [
        "# while shart:\n",
        "#   dastorat"
      ],
      "metadata": {
        "id": "4yTdoPQkCFnF"
      },
      "execution_count": null,
      "outputs": []
    },
    {
      "cell_type": "code",
      "source": [
        "x = 15\n",
        "while x < 50:\n",
        "  # x = 15\n",
        "  print(x)\n",
        "  x += 1\n",
        "  # x = x + 1"
      ],
      "metadata": {
        "colab": {
          "base_uri": "https://localhost:8080/"
        },
        "id": "XQPeP46ivnpn",
        "outputId": "abc8ecdb-8fa6-4322-99f0-57885c4c28c8"
      },
      "execution_count": 38,
      "outputs": [
        {
          "output_type": "stream",
          "name": "stdout",
          "text": [
            "15\n",
            "16\n",
            "17\n",
            "18\n",
            "19\n",
            "20\n",
            "21\n",
            "22\n",
            "23\n",
            "24\n",
            "25\n",
            "26\n",
            "27\n",
            "28\n",
            "29\n",
            "30\n",
            "31\n",
            "32\n",
            "33\n",
            "34\n",
            "35\n",
            "36\n",
            "37\n",
            "38\n",
            "39\n",
            "40\n",
            "41\n",
            "42\n",
            "43\n",
            "44\n",
            "45\n",
            "46\n",
            "47\n",
            "48\n",
            "49\n"
          ]
        }
      ]
    },
    {
      "cell_type": "code",
      "source": [
        "print(x)"
      ],
      "metadata": {
        "colab": {
          "base_uri": "https://localhost:8080/"
        },
        "id": "iB4GdvV9wVwV",
        "outputId": "407775b6-1b87-4b5f-d75a-b22df008f842"
      },
      "execution_count": 39,
      "outputs": [
        {
          "output_type": "stream",
          "name": "stdout",
          "text": [
            "50\n"
          ]
        }
      ]
    },
    {
      "cell_type": "markdown",
      "source": [
        "## List Comprehensions"
      ],
      "metadata": {
        "id": "Ebs24CZkCGA1"
      }
    },
    {
      "cell_type": "code",
      "source": [],
      "metadata": {
        "id": "Eiy8HlNUCJHd"
      },
      "execution_count": 7,
      "outputs": []
    },
    {
      "cell_type": "markdown",
      "source": [
        "## enumerate()"
      ],
      "metadata": {
        "id": "DPYIm8VFCVeX"
      }
    },
    {
      "cell_type": "code",
      "source": [],
      "metadata": {
        "id": "dO0lO054CWrv"
      },
      "execution_count": 3,
      "outputs": []
    }
  ]
}