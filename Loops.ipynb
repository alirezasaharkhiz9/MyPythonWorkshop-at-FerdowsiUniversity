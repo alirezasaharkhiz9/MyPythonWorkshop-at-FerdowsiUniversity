{
  "nbformat": 4,
  "nbformat_minor": 0,
  "metadata": {
    "colab": {
      "provenance": [],
      "toc_visible": true,
      "authorship_tag": "ABX9TyOGVUf/LHmgbgc5ZuuOHBuP",
      "include_colab_link": true
    },
    "kernelspec": {
      "name": "python3",
      "display_name": "Python 3"
    },
    "language_info": {
      "name": "python"
    }
  },
  "cells": [
    {
      "cell_type": "markdown",
      "metadata": {
        "id": "view-in-github",
        "colab_type": "text"
      },
      "source": [
        "<a href=\"https://colab.research.google.com/github/alirezasaharkhiz9/MyPythonWorkshop-at-FerdowsiUniversity/blob/main/Loops.ipynb\" target=\"_parent\"><img src=\"https://colab.research.google.com/assets/colab-badge.svg\" alt=\"Open In Colab\"/></a>"
      ]
    },
    {
      "cell_type": "markdown",
      "source": [
        "# Loops\n",
        "\n",
        "in this lesson we'll learn:\n",
        "1. range()\n",
        "2. input()\n",
        "3. Iterables\n",
        "4. for Loops\n",
        "5. while Loops\n",
        "6. List Comprehensions\n",
        "7. break, continue, pass\n",
        "8. enumerate()"
      ],
      "metadata": {
        "id": "9Dr0Cy4E_MyH"
      }
    },
    {
      "cell_type": "markdown",
      "source": [
        "## range()\n",
        "\n",
        "- range(start, stop, step)"
      ],
      "metadata": {
        "id": "6TO9p4qI_aWx"
      }
    },
    {
      "cell_type": "code",
      "execution_count": null,
      "metadata": {
        "id": "N8FQfeRM_HWY",
        "colab": {
          "base_uri": "https://localhost:8080/"
        },
        "outputId": "f859cba4-9a3a-4c98-9f2d-839711d77d4b"
      },
      "outputs": [
        {
          "output_type": "execute_result",
          "data": {
            "text/plain": [
              "range(1, 20)"
            ]
          },
          "metadata": {},
          "execution_count": 8
        }
      ],
      "source": [
        "range(1, 20)"
      ]
    },
    {
      "cell_type": "code",
      "source": [
        "list(range(1, 21))"
      ],
      "metadata": {
        "colab": {
          "base_uri": "https://localhost:8080/"
        },
        "id": "EMH7sBk_lTam",
        "outputId": "ec01ac8a-0384-48f5-b770-b5be2177ab5e"
      },
      "execution_count": null,
      "outputs": [
        {
          "output_type": "execute_result",
          "data": {
            "text/plain": [
              "[1, 2, 3, 4, 5, 6, 7, 8, 9, 10, 11, 12, 13, 14, 15, 16, 17, 18, 19, 20]"
            ]
          },
          "metadata": {},
          "execution_count": 10
        }
      ]
    },
    {
      "cell_type": "code",
      "source": [
        "list(range(1.5, 20.5, 0.5))"
      ],
      "metadata": {
        "colab": {
          "base_uri": "https://localhost:8080/",
          "height": 141
        },
        "id": "AY0Djr_0l5a5",
        "outputId": "02a1f306-fb93-4b75-b269-1da556196cd7"
      },
      "execution_count": null,
      "outputs": [
        {
          "output_type": "error",
          "ename": "TypeError",
          "evalue": "'float' object cannot be interpreted as an integer",
          "traceback": [
            "\u001b[0;31m---------------------------------------------------------------------------\u001b[0m",
            "\u001b[0;31mTypeError\u001b[0m                                 Traceback (most recent call last)",
            "\u001b[0;32m<ipython-input-11-1d4c9cbeb8a2>\u001b[0m in \u001b[0;36m<cell line: 1>\u001b[0;34m()\u001b[0m\n\u001b[0;32m----> 1\u001b[0;31m \u001b[0mlist\u001b[0m\u001b[0;34m(\u001b[0m\u001b[0mrange\u001b[0m\u001b[0;34m(\u001b[0m\u001b[0;36m1.5\u001b[0m\u001b[0;34m,\u001b[0m \u001b[0;36m20.5\u001b[0m\u001b[0;34m,\u001b[0m \u001b[0;36m0.5\u001b[0m\u001b[0;34m)\u001b[0m\u001b[0;34m)\u001b[0m\u001b[0;34m\u001b[0m\u001b[0;34m\u001b[0m\u001b[0m\n\u001b[0m",
            "\u001b[0;31mTypeError\u001b[0m: 'float' object cannot be interpreted as an integer"
          ]
        }
      ]
    },
    {
      "cell_type": "code",
      "source": [
        "list(range(20, 200, 5))"
      ],
      "metadata": {
        "colab": {
          "base_uri": "https://localhost:8080/"
        },
        "id": "zCWpgf7XmFWo",
        "outputId": "130b955e-acc6-406a-acba-8c23b99ee5d8"
      },
      "execution_count": null,
      "outputs": [
        {
          "output_type": "execute_result",
          "data": {
            "text/plain": [
              "[20,\n",
              " 25,\n",
              " 30,\n",
              " 35,\n",
              " 40,\n",
              " 45,\n",
              " 50,\n",
              " 55,\n",
              " 60,\n",
              " 65,\n",
              " 70,\n",
              " 75,\n",
              " 80,\n",
              " 85,\n",
              " 90,\n",
              " 95,\n",
              " 100,\n",
              " 105,\n",
              " 110,\n",
              " 115,\n",
              " 120,\n",
              " 125,\n",
              " 130,\n",
              " 135,\n",
              " 140,\n",
              " 145,\n",
              " 150,\n",
              " 155,\n",
              " 160,\n",
              " 165,\n",
              " 170,\n",
              " 175,\n",
              " 180,\n",
              " 185,\n",
              " 190,\n",
              " 195]"
            ]
          },
          "metadata": {},
          "execution_count": 15
        }
      ]
    },
    {
      "cell_type": "code",
      "source": [
        "list(range(200, 99, -5))"
      ],
      "metadata": {
        "colab": {
          "base_uri": "https://localhost:8080/"
        },
        "id": "ORVPy7lTmaTL",
        "outputId": "eb7de906-7378-41bb-ea28-205b11db8643"
      },
      "execution_count": null,
      "outputs": [
        {
          "output_type": "execute_result",
          "data": {
            "text/plain": [
              "[200,\n",
              " 195,\n",
              " 190,\n",
              " 185,\n",
              " 180,\n",
              " 175,\n",
              " 170,\n",
              " 165,\n",
              " 160,\n",
              " 155,\n",
              " 150,\n",
              " 145,\n",
              " 140,\n",
              " 135,\n",
              " 130,\n",
              " 125,\n",
              " 120,\n",
              " 115,\n",
              " 110,\n",
              " 105,\n",
              " 100]"
            ]
          },
          "metadata": {},
          "execution_count": 18
        }
      ]
    },
    {
      "cell_type": "markdown",
      "source": [
        "## input()"
      ],
      "metadata": {
        "id": "pg4gtOPdRbhG"
      }
    },
    {
      "cell_type": "code",
      "source": [
        "x = input('enter your number: ')\n",
        "print(x)"
      ],
      "metadata": {
        "colab": {
          "base_uri": "https://localhost:8080/"
        },
        "id": "KDdcAXe_RfU7",
        "outputId": "1c821c49-0b31-4534-a577-898803c1418a"
      },
      "execution_count": null,
      "outputs": [
        {
          "output_type": "stream",
          "name": "stdout",
          "text": [
            "enter your number: 45\n",
            "45\n"
          ]
        }
      ]
    },
    {
      "cell_type": "code",
      "source": [
        "x = input('text: ')\n",
        "print(x)"
      ],
      "metadata": {
        "colab": {
          "base_uri": "https://localhost:8080/"
        },
        "id": "5h6d7a-qnT4T",
        "outputId": "4dd75062-4fe6-4f93-8d67-4a4df04a2a3f"
      },
      "execution_count": null,
      "outputs": [
        {
          "output_type": "stream",
          "name": "stdout",
          "text": [
            "text: alireza\n",
            "alireza\n"
          ]
        }
      ]
    },
    {
      "cell_type": "code",
      "source": [
        "x = input('text: ')\n",
        "print(f'my name is {x}')"
      ],
      "metadata": {
        "colab": {
          "base_uri": "https://localhost:8080/"
        },
        "id": "K4uWjWGqnhZN",
        "outputId": "576aca4c-70f1-4e48-c4d6-57a05442ac0d"
      },
      "execution_count": null,
      "outputs": [
        {
          "output_type": "stream",
          "name": "stdout",
          "text": [
            "text: alireza\n",
            "my name is alireza\n"
          ]
        }
      ]
    },
    {
      "cell_type": "code",
      "source": [
        "x = input('number: ')\n",
        "print(x + 10)"
      ],
      "metadata": {
        "colab": {
          "base_uri": "https://localhost:8080/",
          "height": 176
        },
        "id": "ctdBpqaSoKR6",
        "outputId": "849cbbaf-0bfd-47ba-fa64-b1ed2ebe88f2"
      },
      "execution_count": null,
      "outputs": [
        {
          "name": "stdout",
          "output_type": "stream",
          "text": [
            "number: 10\n"
          ]
        },
        {
          "output_type": "error",
          "ename": "TypeError",
          "evalue": "can only concatenate str (not \"int\") to str",
          "traceback": [
            "\u001b[0;31m---------------------------------------------------------------------------\u001b[0m",
            "\u001b[0;31mTypeError\u001b[0m                                 Traceback (most recent call last)",
            "\u001b[0;32m<ipython-input-22-ef7f2753b55f>\u001b[0m in \u001b[0;36m<cell line: 2>\u001b[0;34m()\u001b[0m\n\u001b[1;32m      1\u001b[0m \u001b[0mx\u001b[0m \u001b[0;34m=\u001b[0m \u001b[0minput\u001b[0m\u001b[0;34m(\u001b[0m\u001b[0;34m'number: '\u001b[0m\u001b[0;34m)\u001b[0m\u001b[0;34m\u001b[0m\u001b[0;34m\u001b[0m\u001b[0m\n\u001b[0;32m----> 2\u001b[0;31m \u001b[0mprint\u001b[0m\u001b[0;34m(\u001b[0m\u001b[0mx\u001b[0m \u001b[0;34m+\u001b[0m \u001b[0;36m10\u001b[0m\u001b[0;34m)\u001b[0m\u001b[0;34m\u001b[0m\u001b[0;34m\u001b[0m\u001b[0m\n\u001b[0m",
            "\u001b[0;31mTypeError\u001b[0m: can only concatenate str (not \"int\") to str"
          ]
        }
      ]
    },
    {
      "cell_type": "code",
      "source": [
        "x = input('number: ')\n",
        "# x = '10'\n",
        "x = int(x)\n",
        "print(x + 10)"
      ],
      "metadata": {
        "colab": {
          "base_uri": "https://localhost:8080/"
        },
        "id": "O7db-F2hoel5",
        "outputId": "787acc64-5e8b-4690-9493-d8b5c9ec5520"
      },
      "execution_count": null,
      "outputs": [
        {
          "output_type": "stream",
          "name": "stdout",
          "text": [
            "number: 10\n",
            "20\n"
          ]
        }
      ]
    },
    {
      "cell_type": "markdown",
      "source": [
        "## Iterables\n",
        "\n",
        "- iterables ----> list, dict, tuple, set, string\n",
        "- iterate : one by one check each item in the collection"
      ],
      "metadata": {
        "id": "1d7mdq15BfSY"
      }
    },
    {
      "cell_type": "code",
      "source": [
        "x = [1, 5, 8, 7]\n",
        "'alireza'"
      ],
      "metadata": {
        "id": "lOokajNbB_Ta"
      },
      "execution_count": null,
      "outputs": []
    },
    {
      "cell_type": "markdown",
      "source": [
        "## for Loops"
      ],
      "metadata": {
        "id": "2dgiVOpYCAbg"
      }
    },
    {
      "cell_type": "code",
      "source": [
        "for i in [1, 2, 3]:\n",
        "  # i = 2\n",
        "  print(i)"
      ],
      "metadata": {
        "id": "pDdwjvklBhk-",
        "colab": {
          "base_uri": "https://localhost:8080/"
        },
        "outputId": "ab0f4876-7fe4-4fd4-c49d-02211624c3f0"
      },
      "execution_count": null,
      "outputs": [
        {
          "output_type": "stream",
          "name": "stdout",
          "text": [
            "1\n",
            "2\n",
            "3\n"
          ]
        }
      ]
    },
    {
      "cell_type": "code",
      "source": [
        "for i in [5, 10, 15]:\n",
        "  print(i)"
      ],
      "metadata": {
        "colab": {
          "base_uri": "https://localhost:8080/"
        },
        "id": "7p2Ri0GzqgnV",
        "outputId": "834ec269-3c91-4eec-ef2a-c543de1ed95b"
      },
      "execution_count": null,
      "outputs": [
        {
          "output_type": "stream",
          "name": "stdout",
          "text": [
            "5\n",
            "10\n",
            "15\n"
          ]
        }
      ]
    },
    {
      "cell_type": "code",
      "source": [
        "for i in [5, 10, 15]:\n",
        "  print('hello')"
      ],
      "metadata": {
        "colab": {
          "base_uri": "https://localhost:8080/"
        },
        "id": "YTbJzlacqv60",
        "outputId": "7ca1f310-1c40-4739-b7ce-6f7d3405c09a"
      },
      "execution_count": null,
      "outputs": [
        {
          "output_type": "stream",
          "name": "stdout",
          "text": [
            "hello\n",
            "hello\n",
            "hello\n"
          ]
        }
      ]
    },
    {
      "cell_type": "code",
      "source": [
        "for i in range(1, 30):\n",
        "  print('hello')"
      ],
      "metadata": {
        "id": "wQwP9U7PrFSf"
      },
      "execution_count": null,
      "outputs": []
    },
    {
      "cell_type": "code",
      "source": [
        "for _ in range(1, 30):\n",
        "  print('hello')"
      ],
      "metadata": {
        "colab": {
          "base_uri": "https://localhost:8080/"
        },
        "id": "uwFduYshrcLk",
        "outputId": "76f777c0-cd64-416a-c514-6146ab8fa7e7"
      },
      "execution_count": null,
      "outputs": [
        {
          "output_type": "stream",
          "name": "stdout",
          "text": [
            "hello\n",
            "hello\n",
            "hello\n",
            "hello\n",
            "hello\n",
            "hello\n",
            "hello\n",
            "hello\n",
            "hello\n",
            "hello\n",
            "hello\n",
            "hello\n",
            "hello\n",
            "hello\n",
            "hello\n",
            "hello\n",
            "hello\n",
            "hello\n",
            "hello\n",
            "hello\n",
            "hello\n",
            "hello\n",
            "hello\n",
            "hello\n",
            "hello\n",
            "hello\n",
            "hello\n",
            "hello\n",
            "hello\n"
          ]
        }
      ]
    },
    {
      "cell_type": "code",
      "source": [
        "for i in range(1, 101):\n",
        "  if i % 2 == 0:\n",
        "    print(f'{i} is even')"
      ],
      "metadata": {
        "colab": {
          "base_uri": "https://localhost:8080/"
        },
        "id": "RneZl93crn2V",
        "outputId": "26e76f02-228d-4999-cbbb-26e0cf6e6cf1"
      },
      "execution_count": null,
      "outputs": [
        {
          "output_type": "stream",
          "name": "stdout",
          "text": [
            "2 is even\n",
            "4 is even\n",
            "6 is even\n",
            "8 is even\n",
            "10 is even\n",
            "12 is even\n",
            "14 is even\n",
            "16 is even\n",
            "18 is even\n",
            "20 is even\n",
            "22 is even\n",
            "24 is even\n",
            "26 is even\n",
            "28 is even\n",
            "30 is even\n",
            "32 is even\n",
            "34 is even\n",
            "36 is even\n",
            "38 is even\n",
            "40 is even\n",
            "42 is even\n",
            "44 is even\n",
            "46 is even\n",
            "48 is even\n",
            "50 is even\n",
            "52 is even\n",
            "54 is even\n",
            "56 is even\n",
            "58 is even\n",
            "60 is even\n",
            "62 is even\n",
            "64 is even\n",
            "66 is even\n",
            "68 is even\n",
            "70 is even\n",
            "72 is even\n",
            "74 is even\n",
            "76 is even\n",
            "78 is even\n",
            "80 is even\n",
            "82 is even\n",
            "84 is even\n",
            "86 is even\n",
            "88 is even\n",
            "90 is even\n",
            "92 is even\n",
            "94 is even\n",
            "96 is even\n",
            "98 is even\n",
            "100 is even\n"
          ]
        }
      ]
    },
    {
      "cell_type": "code",
      "source": [
        "for i in 'alireza':\n",
        "  # i = 'a'\n",
        "  print(i)"
      ],
      "metadata": {
        "colab": {
          "base_uri": "https://localhost:8080/"
        },
        "id": "5kTwUx0wssGx",
        "outputId": "0961deac-020b-4fed-c07d-ad525f092b3c"
      },
      "execution_count": null,
      "outputs": [
        {
          "output_type": "stream",
          "name": "stdout",
          "text": [
            "a\n",
            "l\n",
            "i\n",
            "r\n",
            "e\n",
            "z\n",
            "a\n"
          ]
        }
      ]
    },
    {
      "cell_type": "code",
      "source": [
        "for i in 'alireza':\n",
        "  print('hello')"
      ],
      "metadata": {
        "colab": {
          "base_uri": "https://localhost:8080/"
        },
        "id": "YnnkHH7ns3Cj",
        "outputId": "74ee4883-efe6-4c09-ab15-91da149d2c24"
      },
      "execution_count": null,
      "outputs": [
        {
          "output_type": "stream",
          "name": "stdout",
          "text": [
            "hello\n",
            "hello\n",
            "hello\n",
            "hello\n",
            "hello\n",
            "hello\n",
            "hello\n"
          ]
        }
      ]
    },
    {
      "cell_type": "code",
      "source": [
        "x = 'aaaaawooodkwojdwq8uwqqqq'\n",
        "for i in x:\n",
        "  if i == 'a':\n",
        "    print('dorost')\n",
        "  else:\n",
        "    print('ghalat')"
      ],
      "metadata": {
        "colab": {
          "base_uri": "https://localhost:8080/"
        },
        "id": "G04ZrETus9N0",
        "outputId": "b771bc3a-62e1-4515-b0cb-1771282f119d"
      },
      "execution_count": null,
      "outputs": [
        {
          "output_type": "stream",
          "name": "stdout",
          "text": [
            "dorost\n",
            "dorost\n",
            "dorost\n",
            "dorost\n",
            "dorost\n",
            "ghalat\n",
            "ghalat\n",
            "ghalat\n",
            "ghalat\n",
            "ghalat\n",
            "ghalat\n",
            "ghalat\n",
            "ghalat\n",
            "ghalat\n",
            "ghalat\n",
            "ghalat\n",
            "ghalat\n",
            "ghalat\n",
            "ghalat\n",
            "ghalat\n",
            "ghalat\n",
            "ghalat\n",
            "ghalat\n",
            "ghalat\n"
          ]
        }
      ]
    },
    {
      "cell_type": "code",
      "source": [
        "x = ['ali', 'reza', 'mamad']\n",
        "for i in x:\n",
        "  for j in i:\n",
        "    if j == 'a':\n",
        "      print(j)"
      ],
      "metadata": {
        "colab": {
          "base_uri": "https://localhost:8080/"
        },
        "id": "HoY7FQYhuP4V",
        "outputId": "8fb8e030-eb70-4e0a-86d4-456086867b0b"
      },
      "execution_count": null,
      "outputs": [
        {
          "output_type": "stream",
          "name": "stdout",
          "text": [
            "a\n",
            "a\n",
            "a\n",
            "a\n"
          ]
        }
      ]
    },
    {
      "cell_type": "markdown",
      "source": [
        "## while Loops"
      ],
      "metadata": {
        "id": "T_PEolPYCDS4"
      }
    },
    {
      "cell_type": "code",
      "source": [
        "# while shart:\n",
        "#   dastorat"
      ],
      "metadata": {
        "id": "4yTdoPQkCFnF"
      },
      "execution_count": null,
      "outputs": []
    },
    {
      "cell_type": "code",
      "source": [
        "x = 15\n",
        "while x < 50:\n",
        "  # x = 15\n",
        "  print(x)\n",
        "  x += 1\n",
        "  # x = x + 1"
      ],
      "metadata": {
        "colab": {
          "base_uri": "https://localhost:8080/"
        },
        "id": "XQPeP46ivnpn",
        "outputId": "abc8ecdb-8fa6-4322-99f0-57885c4c28c8"
      },
      "execution_count": null,
      "outputs": [
        {
          "output_type": "stream",
          "name": "stdout",
          "text": [
            "15\n",
            "16\n",
            "17\n",
            "18\n",
            "19\n",
            "20\n",
            "21\n",
            "22\n",
            "23\n",
            "24\n",
            "25\n",
            "26\n",
            "27\n",
            "28\n",
            "29\n",
            "30\n",
            "31\n",
            "32\n",
            "33\n",
            "34\n",
            "35\n",
            "36\n",
            "37\n",
            "38\n",
            "39\n",
            "40\n",
            "41\n",
            "42\n",
            "43\n",
            "44\n",
            "45\n",
            "46\n",
            "47\n",
            "48\n",
            "49\n"
          ]
        }
      ]
    },
    {
      "cell_type": "code",
      "source": [
        "print(x)"
      ],
      "metadata": {
        "colab": {
          "base_uri": "https://localhost:8080/"
        },
        "id": "iB4GdvV9wVwV",
        "outputId": "407775b6-1b87-4b5f-d75a-b22df008f842"
      },
      "execution_count": null,
      "outputs": [
        {
          "output_type": "stream",
          "name": "stdout",
          "text": [
            "50\n"
          ]
        }
      ]
    },
    {
      "cell_type": "code",
      "source": [
        "while True:\n",
        "  x = input('text: ')\n",
        "  if x == 'ali':\n",
        "    break\n",
        "  else:\n",
        "    print('try again')\n"
      ],
      "metadata": {
        "colab": {
          "base_uri": "https://localhost:8080/"
        },
        "id": "ldkLo236t_MC",
        "outputId": "737e03eb-4b9d-4ec2-d736-bcf59fffe687"
      },
      "execution_count": null,
      "outputs": [
        {
          "name": "stdout",
          "output_type": "stream",
          "text": [
            "text: aliiiiiii\n",
            "try again\n",
            "text: 45\n",
            "try again\n",
            "text: ali\n"
          ]
        }
      ]
    },
    {
      "cell_type": "markdown",
      "source": [
        "## List Comprehensions"
      ],
      "metadata": {
        "id": "Ebs24CZkCGA1"
      }
    },
    {
      "cell_type": "code",
      "source": [
        "x = 2\n",
        "# if x % 2 == 0:\n",
        "#   print('even')\n",
        "# else:\n",
        "#   print('odd')\n",
        "\n",
        "print('even') if x % 2 == 0 else print('odd')"
      ],
      "metadata": {
        "id": "Eiy8HlNUCJHd",
        "colab": {
          "base_uri": "https://localhost:8080/"
        },
        "outputId": "fe60b371-c9c9-4c20-d6b2-615b82039867"
      },
      "execution_count": null,
      "outputs": [
        {
          "output_type": "execute_result",
          "data": {
            "text/plain": [
              "2"
            ]
          },
          "metadata": {},
          "execution_count": 7
        }
      ]
    },
    {
      "cell_type": "code",
      "source": [
        "# x = [i for i in range(1, 1001)]\n",
        "\n",
        "x = []\n",
        "for i in range(1, 1001):\n",
        "  x.append(i)\n",
        "print(x)\n",
        "\n",
        "# x = list(range(1, 1001))"
      ],
      "metadata": {
        "colab": {
          "base_uri": "https://localhost:8080/"
        },
        "id": "EvHzOFWNh4Jc",
        "outputId": "d7d91414-325a-4995-9a09-171ce0f35b5a"
      },
      "execution_count": null,
      "outputs": [
        {
          "output_type": "stream",
          "name": "stdout",
          "text": [
            "[1, 2, 3, 4, 5, 6, 7, 8, 9, 10, 11, 12, 13, 14, 15, 16, 17, 18, 19, 20, 21, 22, 23, 24, 25, 26, 27, 28, 29, 30, 31, 32, 33, 34, 35, 36, 37, 38, 39, 40, 41, 42, 43, 44, 45, 46, 47, 48, 49, 50, 51, 52, 53, 54, 55, 56, 57, 58, 59, 60, 61, 62, 63, 64, 65, 66, 67, 68, 69, 70, 71, 72, 73, 74, 75, 76, 77, 78, 79, 80, 81, 82, 83, 84, 85, 86, 87, 88, 89, 90, 91, 92, 93, 94, 95, 96, 97, 98, 99, 100, 101, 102, 103, 104, 105, 106, 107, 108, 109, 110, 111, 112, 113, 114, 115, 116, 117, 118, 119, 120, 121, 122, 123, 124, 125, 126, 127, 128, 129, 130, 131, 132, 133, 134, 135, 136, 137, 138, 139, 140, 141, 142, 143, 144, 145, 146, 147, 148, 149, 150, 151, 152, 153, 154, 155, 156, 157, 158, 159, 160, 161, 162, 163, 164, 165, 166, 167, 168, 169, 170, 171, 172, 173, 174, 175, 176, 177, 178, 179, 180, 181, 182, 183, 184, 185, 186, 187, 188, 189, 190, 191, 192, 193, 194, 195, 196, 197, 198, 199, 200, 201, 202, 203, 204, 205, 206, 207, 208, 209, 210, 211, 212, 213, 214, 215, 216, 217, 218, 219, 220, 221, 222, 223, 224, 225, 226, 227, 228, 229, 230, 231, 232, 233, 234, 235, 236, 237, 238, 239, 240, 241, 242, 243, 244, 245, 246, 247, 248, 249, 250, 251, 252, 253, 254, 255, 256, 257, 258, 259, 260, 261, 262, 263, 264, 265, 266, 267, 268, 269, 270, 271, 272, 273, 274, 275, 276, 277, 278, 279, 280, 281, 282, 283, 284, 285, 286, 287, 288, 289, 290, 291, 292, 293, 294, 295, 296, 297, 298, 299, 300, 301, 302, 303, 304, 305, 306, 307, 308, 309, 310, 311, 312, 313, 314, 315, 316, 317, 318, 319, 320, 321, 322, 323, 324, 325, 326, 327, 328, 329, 330, 331, 332, 333, 334, 335, 336, 337, 338, 339, 340, 341, 342, 343, 344, 345, 346, 347, 348, 349, 350, 351, 352, 353, 354, 355, 356, 357, 358, 359, 360, 361, 362, 363, 364, 365, 366, 367, 368, 369, 370, 371, 372, 373, 374, 375, 376, 377, 378, 379, 380, 381, 382, 383, 384, 385, 386, 387, 388, 389, 390, 391, 392, 393, 394, 395, 396, 397, 398, 399, 400, 401, 402, 403, 404, 405, 406, 407, 408, 409, 410, 411, 412, 413, 414, 415, 416, 417, 418, 419, 420, 421, 422, 423, 424, 425, 426, 427, 428, 429, 430, 431, 432, 433, 434, 435, 436, 437, 438, 439, 440, 441, 442, 443, 444, 445, 446, 447, 448, 449, 450, 451, 452, 453, 454, 455, 456, 457, 458, 459, 460, 461, 462, 463, 464, 465, 466, 467, 468, 469, 470, 471, 472, 473, 474, 475, 476, 477, 478, 479, 480, 481, 482, 483, 484, 485, 486, 487, 488, 489, 490, 491, 492, 493, 494, 495, 496, 497, 498, 499, 500, 501, 502, 503, 504, 505, 506, 507, 508, 509, 510, 511, 512, 513, 514, 515, 516, 517, 518, 519, 520, 521, 522, 523, 524, 525, 526, 527, 528, 529, 530, 531, 532, 533, 534, 535, 536, 537, 538, 539, 540, 541, 542, 543, 544, 545, 546, 547, 548, 549, 550, 551, 552, 553, 554, 555, 556, 557, 558, 559, 560, 561, 562, 563, 564, 565, 566, 567, 568, 569, 570, 571, 572, 573, 574, 575, 576, 577, 578, 579, 580, 581, 582, 583, 584, 585, 586, 587, 588, 589, 590, 591, 592, 593, 594, 595, 596, 597, 598, 599, 600, 601, 602, 603, 604, 605, 606, 607, 608, 609, 610, 611, 612, 613, 614, 615, 616, 617, 618, 619, 620, 621, 622, 623, 624, 625, 626, 627, 628, 629, 630, 631, 632, 633, 634, 635, 636, 637, 638, 639, 640, 641, 642, 643, 644, 645, 646, 647, 648, 649, 650, 651, 652, 653, 654, 655, 656, 657, 658, 659, 660, 661, 662, 663, 664, 665, 666, 667, 668, 669, 670, 671, 672, 673, 674, 675, 676, 677, 678, 679, 680, 681, 682, 683, 684, 685, 686, 687, 688, 689, 690, 691, 692, 693, 694, 695, 696, 697, 698, 699, 700, 701, 702, 703, 704, 705, 706, 707, 708, 709, 710, 711, 712, 713, 714, 715, 716, 717, 718, 719, 720, 721, 722, 723, 724, 725, 726, 727, 728, 729, 730, 731, 732, 733, 734, 735, 736, 737, 738, 739, 740, 741, 742, 743, 744, 745, 746, 747, 748, 749, 750, 751, 752, 753, 754, 755, 756, 757, 758, 759, 760, 761, 762, 763, 764, 765, 766, 767, 768, 769, 770, 771, 772, 773, 774, 775, 776, 777, 778, 779, 780, 781, 782, 783, 784, 785, 786, 787, 788, 789, 790, 791, 792, 793, 794, 795, 796, 797, 798, 799, 800, 801, 802, 803, 804, 805, 806, 807, 808, 809, 810, 811, 812, 813, 814, 815, 816, 817, 818, 819, 820, 821, 822, 823, 824, 825, 826, 827, 828, 829, 830, 831, 832, 833, 834, 835, 836, 837, 838, 839, 840, 841, 842, 843, 844, 845, 846, 847, 848, 849, 850, 851, 852, 853, 854, 855, 856, 857, 858, 859, 860, 861, 862, 863, 864, 865, 866, 867, 868, 869, 870, 871, 872, 873, 874, 875, 876, 877, 878, 879, 880, 881, 882, 883, 884, 885, 886, 887, 888, 889, 890, 891, 892, 893, 894, 895, 896, 897, 898, 899, 900, 901, 902, 903, 904, 905, 906, 907, 908, 909, 910, 911, 912, 913, 914, 915, 916, 917, 918, 919, 920, 921, 922, 923, 924, 925, 926, 927, 928, 929, 930, 931, 932, 933, 934, 935, 936, 937, 938, 939, 940, 941, 942, 943, 944, 945, 946, 947, 948, 949, 950, 951, 952, 953, 954, 955, 956, 957, 958, 959, 960, 961, 962, 963, 964, 965, 966, 967, 968, 969, 970, 971, 972, 973, 974, 975, 976, 977, 978, 979, 980, 981, 982, 983, 984, 985, 986, 987, 988, 989, 990, 991, 992, 993, 994, 995, 996, 997, 998, 999, 1000]\n"
          ]
        }
      ]
    },
    {
      "cell_type": "code",
      "source": [
        "x = [i if i % 2 == 0 else 'odd' for i in range(1, 100+1)]\n",
        "x"
      ],
      "metadata": {
        "colab": {
          "base_uri": "https://localhost:8080/"
        },
        "id": "edhPjbd_jpk_",
        "outputId": "8303b520-37ad-4599-ff29-d1b216b648cf"
      },
      "execution_count": null,
      "outputs": [
        {
          "output_type": "execute_result",
          "data": {
            "text/plain": [
              "['odd',\n",
              " 2,\n",
              " 'odd',\n",
              " 4,\n",
              " 'odd',\n",
              " 6,\n",
              " 'odd',\n",
              " 8,\n",
              " 'odd',\n",
              " 10,\n",
              " 'odd',\n",
              " 12,\n",
              " 'odd',\n",
              " 14,\n",
              " 'odd',\n",
              " 16,\n",
              " 'odd',\n",
              " 18,\n",
              " 'odd',\n",
              " 20,\n",
              " 'odd',\n",
              " 22,\n",
              " 'odd',\n",
              " 24,\n",
              " 'odd',\n",
              " 26,\n",
              " 'odd',\n",
              " 28,\n",
              " 'odd',\n",
              " 30,\n",
              " 'odd',\n",
              " 32,\n",
              " 'odd',\n",
              " 34,\n",
              " 'odd',\n",
              " 36,\n",
              " 'odd',\n",
              " 38,\n",
              " 'odd',\n",
              " 40,\n",
              " 'odd',\n",
              " 42,\n",
              " 'odd',\n",
              " 44,\n",
              " 'odd',\n",
              " 46,\n",
              " 'odd',\n",
              " 48,\n",
              " 'odd',\n",
              " 50,\n",
              " 'odd',\n",
              " 52,\n",
              " 'odd',\n",
              " 54,\n",
              " 'odd',\n",
              " 56,\n",
              " 'odd',\n",
              " 58,\n",
              " 'odd',\n",
              " 60,\n",
              " 'odd',\n",
              " 62,\n",
              " 'odd',\n",
              " 64,\n",
              " 'odd',\n",
              " 66,\n",
              " 'odd',\n",
              " 68,\n",
              " 'odd',\n",
              " 70,\n",
              " 'odd',\n",
              " 72,\n",
              " 'odd',\n",
              " 74,\n",
              " 'odd',\n",
              " 76,\n",
              " 'odd',\n",
              " 78,\n",
              " 'odd',\n",
              " 80,\n",
              " 'odd',\n",
              " 82,\n",
              " 'odd',\n",
              " 84,\n",
              " 'odd',\n",
              " 86,\n",
              " 'odd',\n",
              " 88,\n",
              " 'odd',\n",
              " 90,\n",
              " 'odd',\n",
              " 92,\n",
              " 'odd',\n",
              " 94,\n",
              " 'odd',\n",
              " 96,\n",
              " 'odd',\n",
              " 98,\n",
              " 'odd',\n",
              " 100]"
            ]
          },
          "metadata": {},
          "execution_count": 15
        }
      ]
    },
    {
      "cell_type": "code",
      "source": [
        "x = [i for i in range(1, 100+1) if i % 2 == 0]\n",
        "x"
      ],
      "metadata": {
        "colab": {
          "base_uri": "https://localhost:8080/"
        },
        "id": "iiYt1Yscl5Ne",
        "outputId": "2102be48-49a4-4d27-d856-db69fb7ea096"
      },
      "execution_count": null,
      "outputs": [
        {
          "output_type": "execute_result",
          "data": {
            "text/plain": [
              "[2,\n",
              " 4,\n",
              " 6,\n",
              " 8,\n",
              " 10,\n",
              " 12,\n",
              " 14,\n",
              " 16,\n",
              " 18,\n",
              " 20,\n",
              " 22,\n",
              " 24,\n",
              " 26,\n",
              " 28,\n",
              " 30,\n",
              " 32,\n",
              " 34,\n",
              " 36,\n",
              " 38,\n",
              " 40,\n",
              " 42,\n",
              " 44,\n",
              " 46,\n",
              " 48,\n",
              " 50,\n",
              " 52,\n",
              " 54,\n",
              " 56,\n",
              " 58,\n",
              " 60,\n",
              " 62,\n",
              " 64,\n",
              " 66,\n",
              " 68,\n",
              " 70,\n",
              " 72,\n",
              " 74,\n",
              " 76,\n",
              " 78,\n",
              " 80,\n",
              " 82,\n",
              " 84,\n",
              " 86,\n",
              " 88,\n",
              " 90,\n",
              " 92,\n",
              " 94,\n",
              " 96,\n",
              " 98,\n",
              " 100]"
            ]
          },
          "metadata": {},
          "execution_count": 16
        }
      ]
    },
    {
      "cell_type": "code",
      "source": [
        "x = [i for i in 'aaaaaaaaaaaawjdnwajdwawawh']\n",
        "x"
      ],
      "metadata": {
        "colab": {
          "base_uri": "https://localhost:8080/"
        },
        "id": "4PVaX_wCmiHH",
        "outputId": "6c396726-8d2c-4a61-d80d-d2479b9400f1"
      },
      "execution_count": null,
      "outputs": [
        {
          "output_type": "execute_result",
          "data": {
            "text/plain": [
              "['a',\n",
              " 'a',\n",
              " 'a',\n",
              " 'a',\n",
              " 'a',\n",
              " 'a',\n",
              " 'a',\n",
              " 'a',\n",
              " 'a',\n",
              " 'a',\n",
              " 'a',\n",
              " 'a',\n",
              " 'w',\n",
              " 'j',\n",
              " 'd',\n",
              " 'n',\n",
              " 'w',\n",
              " 'a',\n",
              " 'j',\n",
              " 'd',\n",
              " 'w',\n",
              " 'a',\n",
              " 'w',\n",
              " 'a',\n",
              " 'w',\n",
              " 'h']"
            ]
          },
          "metadata": {},
          "execution_count": 20
        }
      ]
    },
    {
      "cell_type": "markdown",
      "source": [
        "## enumerate()"
      ],
      "metadata": {
        "id": "DPYIm8VFCVeX"
      }
    },
    {
      "cell_type": "code",
      "source": [
        "x = ['ali', 'reza', 'mamad']\n",
        "for i in enumerate(x):\n",
        "  print(i)"
      ],
      "metadata": {
        "id": "dO0lO054CWrv",
        "colab": {
          "base_uri": "https://localhost:8080/"
        },
        "outputId": "18c9ecec-b78d-481b-ef1a-125557399311"
      },
      "execution_count": null,
      "outputs": [
        {
          "output_type": "stream",
          "name": "stdout",
          "text": [
            "(0, 'ali')\n",
            "(1, 'reza')\n",
            "(2, 'mamad')\n"
          ]
        }
      ]
    },
    {
      "cell_type": "markdown",
      "source": [
        "## exercise"
      ],
      "metadata": {
        "id": "ig1BaDZ2Ybfe"
      }
    },
    {
      "cell_type": "code",
      "source": [
        "x = 'ali2'\n",
        "x.isdigit()\n",
        "\n",
        "x = '12'\n",
        "x.isdigit()\n",
        "\n",
        "# ali12 reza\n",
        "x = input('text: ')\n",
        "n = 0\n",
        "for i in x:\n",
        "  if i.isdigit():\n",
        "    n += 1\n",
        "print(n)"
      ],
      "metadata": {
        "colab": {
          "base_uri": "https://localhost:8080/"
        },
        "id": "vge5L45yYdCR",
        "outputId": "45815bbe-16fa-4db6-aa3e-c49beafcb7b9"
      },
      "execution_count": null,
      "outputs": [
        {
          "output_type": "stream",
          "name": "stdout",
          "text": [
            "text: aliii155ajjasas2\n",
            "4\n"
          ]
        }
      ]
    },
    {
      "cell_type": "code",
      "source": [
        "# *\n",
        "# **\n",
        "# ***\n",
        "# ****"
      ],
      "metadata": {
        "id": "_FNupylpqXN6"
      },
      "execution_count": null,
      "outputs": []
    },
    {
      "cell_type": "code",
      "source": [
        "for i in range(1, 5):\n",
        "  print('*' * i)"
      ],
      "metadata": {
        "colab": {
          "base_uri": "https://localhost:8080/"
        },
        "id": "abq5ANjIqxKx",
        "outputId": "c68713b9-d483-4f58-f86f-34a2ca1eff27"
      },
      "execution_count": null,
      "outputs": [
        {
          "output_type": "stream",
          "name": "stdout",
          "text": [
            "*\n",
            "**\n",
            "***\n",
            "****\n"
          ]
        }
      ]
    },
    {
      "cell_type": "code",
      "source": [
        "print('*', end='')\n",
        "print('*')"
      ],
      "metadata": {
        "colab": {
          "base_uri": "https://localhost:8080/"
        },
        "id": "GxOtj13usYhQ",
        "outputId": "bc87096b-a951-4b55-b79d-b2eda4dffcdf"
      },
      "execution_count": null,
      "outputs": [
        {
          "output_type": "stream",
          "name": "stdout",
          "text": [
            "**\n"
          ]
        }
      ]
    },
    {
      "cell_type": "code",
      "source": [
        "for i in range(1, 5):\n",
        "  # i = 3\n",
        "  for j in range(0, i):\n",
        "    # j = 0\n",
        "    # 0 ta 3\n",
        "    print('*', end='')\n",
        "  print('')"
      ],
      "metadata": {
        "colab": {
          "base_uri": "https://localhost:8080/"
        },
        "id": "LgRwikMqrM8U",
        "outputId": "0317ae54-d631-44f8-f26c-8697b67c7535"
      },
      "execution_count": null,
      "outputs": [
        {
          "output_type": "stream",
          "name": "stdout",
          "text": [
            "*\n",
            "**\n",
            "***\n",
            "****\n"
          ]
        }
      ]
    }
  ]
}