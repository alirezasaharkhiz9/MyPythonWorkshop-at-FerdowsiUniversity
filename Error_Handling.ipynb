{
  "nbformat": 4,
  "nbformat_minor": 0,
  "metadata": {
    "colab": {
      "provenance": [],
      "toc_visible": true,
      "authorship_tag": "ABX9TyN62/ED0qk8gFdqvZro0o1Y",
      "include_colab_link": true
    },
    "kernelspec": {
      "name": "python3",
      "display_name": "Python 3"
    },
    "language_info": {
      "name": "python"
    }
  },
  "cells": [
    {
      "cell_type": "markdown",
      "metadata": {
        "id": "view-in-github",
        "colab_type": "text"
      },
      "source": [
        "<a href=\"https://colab.research.google.com/github/alirezasaharkhiz9/MyPythonWorkshop-at-FerdowsiUniversity/blob/main/Error_Handling.ipynb\" target=\"_parent\"><img src=\"https://colab.research.google.com/assets/colab-badge.svg\" alt=\"Open In Colab\"/></a>"
      ]
    },
    {
      "cell_type": "markdown",
      "source": [
        "# Error Handling\n",
        "\n",
        "in this lesson we'll learn:\n",
        "- try and except"
      ],
      "metadata": {
        "id": "nhuC883PPmb2"
      }
    },
    {
      "cell_type": "markdown",
      "source": [
        "## try and except"
      ],
      "metadata": {
        "id": "AczpLIA-RGhc"
      }
    },
    {
      "cell_type": "code",
      "source": [
        "print('alireza)"
      ],
      "metadata": {
        "colab": {
          "base_uri": "https://localhost:8080/",
          "height": 106
        },
        "id": "XYPXx2ZeqEbF",
        "outputId": "a6236035-3cda-4e51-ab58-570c26d58b29"
      },
      "execution_count": null,
      "outputs": [
        {
          "output_type": "error",
          "ename": "SyntaxError",
          "evalue": "unterminated string literal (detected at line 1) (<ipython-input-9-237bfb6eafd5>, line 1)",
          "traceback": [
            "\u001b[0;36m  File \u001b[0;32m\"<ipython-input-9-237bfb6eafd5>\"\u001b[0;36m, line \u001b[0;32m1\u001b[0m\n\u001b[0;31m    print('alireza)\u001b[0m\n\u001b[0m          ^\u001b[0m\n\u001b[0;31mSyntaxError\u001b[0m\u001b[0;31m:\u001b[0m unterminated string literal (detected at line 1)\n"
          ]
        }
      ]
    },
    {
      "cell_type": "code",
      "source": [
        "x = 'alireza'\n",
        "x = int(x)\n",
        "print(x)"
      ],
      "metadata": {
        "colab": {
          "base_uri": "https://localhost:8080/",
          "height": 176
        },
        "id": "_vjGz3yeqWSR",
        "outputId": "2e63ea0b-c996-49a1-e0c0-a90ac5210097"
      },
      "execution_count": null,
      "outputs": [
        {
          "output_type": "error",
          "ename": "ValueError",
          "evalue": "invalid literal for int() with base 10: 'alireza'",
          "traceback": [
            "\u001b[0;31m---------------------------------------------------------------------------\u001b[0m",
            "\u001b[0;31mValueError\u001b[0m                                Traceback (most recent call last)",
            "\u001b[0;32m<ipython-input-10-314f3ed8ef47>\u001b[0m in \u001b[0;36m<cell line: 2>\u001b[0;34m()\u001b[0m\n\u001b[1;32m      1\u001b[0m \u001b[0mx\u001b[0m \u001b[0;34m=\u001b[0m \u001b[0;34m'alireza'\u001b[0m\u001b[0;34m\u001b[0m\u001b[0;34m\u001b[0m\u001b[0m\n\u001b[0;32m----> 2\u001b[0;31m \u001b[0mx\u001b[0m \u001b[0;34m=\u001b[0m \u001b[0mint\u001b[0m\u001b[0;34m(\u001b[0m\u001b[0mx\u001b[0m\u001b[0;34m)\u001b[0m\u001b[0;34m\u001b[0m\u001b[0;34m\u001b[0m\u001b[0m\n\u001b[0m\u001b[1;32m      3\u001b[0m \u001b[0mprint\u001b[0m\u001b[0;34m(\u001b[0m\u001b[0mx\u001b[0m\u001b[0;34m)\u001b[0m\u001b[0;34m\u001b[0m\u001b[0;34m\u001b[0m\u001b[0m\n",
            "\u001b[0;31mValueError\u001b[0m: invalid literal for int() with base 10: 'alireza'"
          ]
        }
      ]
    },
    {
      "cell_type": "markdown",
      "source": [
        "### create try except"
      ],
      "metadata": {
        "id": "_KdQ0xARRRTJ"
      }
    },
    {
      "cell_type": "code",
      "execution_count": null,
      "metadata": {
        "id": "1MQC81lBPVrL",
        "colab": {
          "base_uri": "https://localhost:8080/"
        },
        "outputId": "78b6f998-3694-4e85-b032-d1856bbecb91"
      },
      "outputs": [
        {
          "name": "stdout",
          "output_type": "stream",
          "text": [
            "enter a number: 14\n"
          ]
        }
      ],
      "source": [
        "while True:\n",
        "  try:\n",
        "    x = input('enter a number: ')\n",
        "    x = int(x)\n",
        "    break\n",
        "  except:\n",
        "    print('invalid')\n"
      ]
    },
    {
      "cell_type": "code",
      "source": [
        "try:\n",
        "    x = input('enter a number: ')\n",
        "    x = int(x)\n",
        "except:\n",
        "    print('invalid')"
      ],
      "metadata": {
        "colab": {
          "base_uri": "https://localhost:8080/"
        },
        "id": "eXQHxcakx2g8",
        "outputId": "315fb79d-66db-4033-ea8c-c4bafd30ef13"
      },
      "execution_count": null,
      "outputs": [
        {
          "output_type": "stream",
          "name": "stdout",
          "text": [
            "enter a number: ali\n",
            "invalid\n"
          ]
        }
      ]
    },
    {
      "cell_type": "code",
      "source": [
        "try:\n",
        "    x = input('enter a number: ')\n",
        "    x = int(x)\n",
        "except:\n",
        "    print('invalid')"
      ],
      "metadata": {
        "colab": {
          "base_uri": "https://localhost:8080/"
        },
        "id": "erCBiMi1yF0S",
        "outputId": "90617d2b-a099-498d-832b-4aaef8e51d8f"
      },
      "execution_count": null,
      "outputs": [
        {
          "name": "stdout",
          "output_type": "stream",
          "text": [
            "enter a number: 14\n"
          ]
        }
      ]
    },
    {
      "cell_type": "code",
      "source": [
        "print(10 / x)"
      ],
      "metadata": {
        "colab": {
          "base_uri": "https://localhost:8080/",
          "height": 141
        },
        "id": "sBW4NsJcyyKQ",
        "outputId": "5f5532cf-2bae-4a61-99de-e77298d7f16c"
      },
      "execution_count": null,
      "outputs": [
        {
          "output_type": "error",
          "ename": "ZeroDivisionError",
          "evalue": "division by zero",
          "traceback": [
            "\u001b[0;31m---------------------------------------------------------------------------\u001b[0m",
            "\u001b[0;31mZeroDivisionError\u001b[0m                         Traceback (most recent call last)",
            "\u001b[0;32m<ipython-input-8-a79ef275b76c>\u001b[0m in \u001b[0;36m<cell line: 1>\u001b[0;34m()\u001b[0m\n\u001b[0;32m----> 1\u001b[0;31m \u001b[0mprint\u001b[0m\u001b[0;34m(\u001b[0m\u001b[0;36m10\u001b[0m \u001b[0;34m/\u001b[0m \u001b[0mx\u001b[0m\u001b[0;34m)\u001b[0m\u001b[0;34m\u001b[0m\u001b[0;34m\u001b[0m\u001b[0m\n\u001b[0m",
            "\u001b[0;31mZeroDivisionError\u001b[0m: division by zero"
          ]
        }
      ]
    },
    {
      "cell_type": "code",
      "source": [
        "try:\n",
        "  x = input('number: ')\n",
        "  x = int(x)\n",
        "  print(10 / x)\n",
        "except:\n",
        "  print('invalid')"
      ],
      "metadata": {
        "colab": {
          "base_uri": "https://localhost:8080/"
        },
        "id": "LXWnR7M9yNWf",
        "outputId": "a25c66d9-9b8c-4804-83fd-f28f491b3513"
      },
      "execution_count": null,
      "outputs": [
        {
          "output_type": "stream",
          "name": "stdout",
          "text": [
            "number: 8\n",
            "1.25\n"
          ]
        }
      ]
    },
    {
      "cell_type": "markdown",
      "source": [
        "### finally"
      ],
      "metadata": {
        "id": "pW74QYceRWcT"
      }
    },
    {
      "cell_type": "code",
      "source": [
        "try:\n",
        "  x = input('number: ')\n",
        "  x = int(x)\n",
        "  print(10 / x)\n",
        "except:\n",
        "  print('invalid')\n",
        "finally:\n",
        "  print('done')"
      ],
      "metadata": {
        "id": "YvTmo80JRbu9",
        "colab": {
          "base_uri": "https://localhost:8080/"
        },
        "outputId": "2d35f512-a78e-43f1-e71d-05e7db82ae78"
      },
      "execution_count": null,
      "outputs": [
        {
          "output_type": "stream",
          "name": "stdout",
          "text": [
            "number: ali\n",
            "invalid\n",
            "done\n"
          ]
        }
      ]
    },
    {
      "cell_type": "markdown",
      "source": [
        "### else"
      ],
      "metadata": {
        "id": "jKWqKDK9RcAg"
      }
    },
    {
      "cell_type": "code",
      "source": [
        "try:\n",
        "  x = input('number: ')\n",
        "  x = int(x)\n",
        "  print(10 / x)\n",
        "except:\n",
        "  print('invalid')\n",
        "else:\n",
        "  print('thank')"
      ],
      "metadata": {
        "id": "6-_QQVw6RdlL",
        "colab": {
          "base_uri": "https://localhost:8080/"
        },
        "outputId": "56842cbe-6b5f-4eb5-8f8a-ee569806beab"
      },
      "execution_count": null,
      "outputs": [
        {
          "output_type": "stream",
          "name": "stdout",
          "text": [
            "number: 20\n",
            "0.5\n",
            "thank\n"
          ]
        }
      ]
    }
  ]
}