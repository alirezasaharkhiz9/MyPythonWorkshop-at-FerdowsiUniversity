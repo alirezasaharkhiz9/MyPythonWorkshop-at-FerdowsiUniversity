{
  "nbformat": 4,
  "nbformat_minor": 0,
  "metadata": {
    "colab": {
      "provenance": [],
      "toc_visible": true,
      "authorship_tag": "ABX9TyOFq6RiFqdKJkSItLiyPbFk",
      "include_colab_link": true
    },
    "kernelspec": {
      "name": "python3",
      "display_name": "Python 3"
    },
    "language_info": {
      "name": "python"
    }
  },
  "cells": [
    {
      "cell_type": "markdown",
      "metadata": {
        "id": "view-in-github",
        "colab_type": "text"
      },
      "source": [
        "<a href=\"https://colab.research.google.com/github/alirezasaharkhiz9/MyPythonWorkshop-at-FerdowsiUniversity/blob/main/Data_Structure.ipynb\" target=\"_parent\"><img src=\"https://colab.research.google.com/assets/colab-badge.svg\" alt=\"Open In Colab\"/></a>"
      ]
    },
    {
      "cell_type": "markdown",
      "source": [
        "# Data Structure\n",
        "\n",
        "in this lesson we'll learn:\n",
        "1. numbers\n",
        "2. variable\n",
        "3. string\n",
        "4. list\n",
        "5. Dictionary\n",
        "6. tuple\n",
        "7. set\n",
        "8. boolean\n",
        "9. Type Conversion\n",
        "10. built-in functions"
      ],
      "metadata": {
        "id": "iQsN3sebmM0I"
      }
    },
    {
      "cell_type": "markdown",
      "source": [
        "## numbers"
      ],
      "metadata": {
        "id": "_nQJQAXPnwKL"
      }
    },
    {
      "cell_type": "markdown",
      "source": [
        "### Types of numbers\n",
        "\n",
        "Python has various \"types\" of numbers (numeric literals). We'll mainly focus on integers and floating point numbers."
      ],
      "metadata": {
        "id": "8P941qJWpa3V"
      }
    },
    {
      "cell_type": "code",
      "execution_count": null,
      "metadata": {
        "id": "rJy1tAQcl0eG",
        "colab": {
          "base_uri": "https://localhost:8080/"
        },
        "outputId": "e41c6f69-3bf1-44b9-861c-1adc7964a794"
      },
      "outputs": [
        {
          "output_type": "stream",
          "name": "stdout",
          "text": [
            "5\n"
          ]
        }
      ],
      "source": [
        "print(5)"
      ]
    },
    {
      "cell_type": "code",
      "source": [
        "print(5.5)"
      ],
      "metadata": {
        "colab": {
          "base_uri": "https://localhost:8080/"
        },
        "id": "3ghXqueaQOkK",
        "outputId": "5db814b2-b592-4805-e43c-7a9876849746"
      },
      "execution_count": null,
      "outputs": [
        {
          "output_type": "stream",
          "name": "stdout",
          "text": [
            "5.5\n"
          ]
        }
      ]
    },
    {
      "cell_type": "code",
      "source": [
        "print(15.5)"
      ],
      "metadata": {
        "colab": {
          "base_uri": "https://localhost:8080/"
        },
        "id": "i1fnM6BtQUc_",
        "outputId": "6c23a03c-c71b-48f4-c27f-cb61d5d1467b"
      },
      "execution_count": null,
      "outputs": [
        {
          "output_type": "stream",
          "name": "stdout",
          "text": [
            "15.5\n"
          ]
        }
      ]
    },
    {
      "cell_type": "markdown",
      "source": [
        "### Arithmetic"
      ],
      "metadata": {
        "id": "NJywoGrupzUf"
      }
    },
    {
      "cell_type": "code",
      "source": [
        "print(5 + 10)"
      ],
      "metadata": {
        "id": "Q5f-KhDzp2sX",
        "colab": {
          "base_uri": "https://localhost:8080/"
        },
        "outputId": "2d0c3158-9b43-40d6-d359-b6502ae34028"
      },
      "execution_count": null,
      "outputs": [
        {
          "output_type": "stream",
          "name": "stdout",
          "text": [
            "15\n"
          ]
        }
      ]
    },
    {
      "cell_type": "code",
      "source": [
        "print(5 - 10)"
      ],
      "metadata": {
        "colab": {
          "base_uri": "https://localhost:8080/"
        },
        "id": "H-bNJiFfQwms",
        "outputId": "95801f1f-51d4-468f-ca7b-48b7c37963dd"
      },
      "execution_count": null,
      "outputs": [
        {
          "output_type": "stream",
          "name": "stdout",
          "text": [
            "-5\n"
          ]
        }
      ]
    },
    {
      "cell_type": "code",
      "source": [
        "print(15 * 10)"
      ],
      "metadata": {
        "colab": {
          "base_uri": "https://localhost:8080/"
        },
        "id": "IaXoRBn1RAZD",
        "outputId": "f1a62c82-ba94-4f80-b354-9d627fa73bb1"
      },
      "execution_count": null,
      "outputs": [
        {
          "output_type": "stream",
          "name": "stdout",
          "text": [
            "150\n"
          ]
        }
      ]
    },
    {
      "cell_type": "code",
      "source": [
        "print(10 / 2)"
      ],
      "metadata": {
        "colab": {
          "base_uri": "https://localhost:8080/"
        },
        "id": "4vo8_562RDC3",
        "outputId": "29c710d8-b254-416f-a919-799c7e4b9849"
      },
      "execution_count": null,
      "outputs": [
        {
          "output_type": "stream",
          "name": "stdout",
          "text": [
            "5.0\n"
          ]
        }
      ]
    },
    {
      "cell_type": "code",
      "source": [
        "print(10 // 2)"
      ],
      "metadata": {
        "colab": {
          "base_uri": "https://localhost:8080/"
        },
        "id": "fDA52mYSRFU0",
        "outputId": "1b13848d-7f23-42d3-c73b-d8ef1b5177d8"
      },
      "execution_count": null,
      "outputs": [
        {
          "output_type": "stream",
          "name": "stdout",
          "text": [
            "5\n"
          ]
        }
      ]
    },
    {
      "cell_type": "code",
      "source": [
        "print(9 / 2)"
      ],
      "metadata": {
        "colab": {
          "base_uri": "https://localhost:8080/"
        },
        "id": "-tfQTIeyReh_",
        "outputId": "329c4934-b5f7-4071-bc00-f39ced25b2c7"
      },
      "execution_count": null,
      "outputs": [
        {
          "output_type": "stream",
          "name": "stdout",
          "text": [
            "4.5\n"
          ]
        }
      ]
    },
    {
      "cell_type": "code",
      "source": [
        "print(type(5.5))"
      ],
      "metadata": {
        "colab": {
          "base_uri": "https://localhost:8080/"
        },
        "id": "3P0wTMFwRlUS",
        "outputId": "371d33af-eda0-43a8-e2fa-b69dea262f63"
      },
      "execution_count": null,
      "outputs": [
        {
          "output_type": "stream",
          "name": "stdout",
          "text": [
            "<class 'float'>\n"
          ]
        }
      ]
    },
    {
      "cell_type": "code",
      "source": [
        "print(type(5))"
      ],
      "metadata": {
        "colab": {
          "base_uri": "https://localhost:8080/"
        },
        "id": "H0K4QMTxRukp",
        "outputId": "45ecd268-1c2f-483e-f3ce-426e050dd282"
      },
      "execution_count": null,
      "outputs": [
        {
          "output_type": "stream",
          "name": "stdout",
          "text": [
            "<class 'int'>\n"
          ]
        }
      ]
    },
    {
      "cell_type": "code",
      "source": [
        "print(5 % 10)"
      ],
      "metadata": {
        "colab": {
          "base_uri": "https://localhost:8080/"
        },
        "id": "oDS0efLFSK28",
        "outputId": "582c5a30-59bf-4bf0-d053-adc941017ede"
      },
      "execution_count": null,
      "outputs": [
        {
          "output_type": "stream",
          "name": "stdout",
          "text": [
            "5\n"
          ]
        }
      ]
    },
    {
      "cell_type": "code",
      "source": [
        "print(10 % 10)"
      ],
      "metadata": {
        "colab": {
          "base_uri": "https://localhost:8080/"
        },
        "id": "0Jt7e2r_SoAt",
        "outputId": "801270a3-5090-4aaa-d98f-39b1e819e115"
      },
      "execution_count": null,
      "outputs": [
        {
          "output_type": "stream",
          "name": "stdout",
          "text": [
            "0\n"
          ]
        }
      ]
    },
    {
      "cell_type": "code",
      "source": [
        "print(5 * 10 + 2 / 10)"
      ],
      "metadata": {
        "id": "FdzNsJFaSwKp"
      },
      "execution_count": null,
      "outputs": []
    },
    {
      "cell_type": "code",
      "source": [
        "print(5 * (10 + 2) / 10)"
      ],
      "metadata": {
        "id": "uZwaza0wTKTn"
      },
      "execution_count": null,
      "outputs": []
    },
    {
      "cell_type": "markdown",
      "source": [
        "## variable\n",
        "\n",
        "We use a single equals sign to assign labels to variables. Let's see a few examples of how we can do this.\n",
        "\n"
      ],
      "metadata": {
        "id": "IdUvY5h_nyql"
      }
    },
    {
      "cell_type": "markdown",
      "source": [
        "### Rules for variable names\n",
        "- names can not start with a number\n",
        "- names can not contain spaces, use _ intead\n",
        "- names can not contain any of these symbols:\n",
        "\n",
        "    :'\",<>/?|\\!@#%^&*~-+\n",
        "- it's considered best practice (PEP8) that names are lowercase with underscores\n",
        "- avoid using Python built-in keywords like list and str\n",
        "- avoid using the single characters l (lowercase letter el), O (uppercase letter oh) and I (uppercase letter eye) as they can be confused with 1 and 0"
      ],
      "metadata": {
        "id": "XrBaEz4NrJ51"
      }
    },
    {
      "cell_type": "code",
      "source": [
        "# myNumber\n",
        "# my_number\n",
        "\n",
        "# djTUWUHuw\n",
        "# number\n",
        "\n",
        "my_number = 10\n",
        "print(my_number)"
      ],
      "metadata": {
        "id": "yZSmhDSloAfo",
        "colab": {
          "base_uri": "https://localhost:8080/"
        },
        "outputId": "8629a111-7acd-46bf-c0bd-cf688f29f9cc"
      },
      "execution_count": null,
      "outputs": [
        {
          "output_type": "stream",
          "name": "stdout",
          "text": [
            "10\n"
          ]
        }
      ]
    },
    {
      "cell_type": "code",
      "source": [
        "my_number = 15 * 510 + 4 - 10\n",
        "print(my_number)"
      ],
      "metadata": {
        "colab": {
          "base_uri": "https://localhost:8080/"
        },
        "id": "LKxVWHOUVD8P",
        "outputId": "d1ada01d-2527-42dd-b236-82eb8580571a"
      },
      "execution_count": null,
      "outputs": [
        {
          "output_type": "stream",
          "name": "stdout",
          "text": [
            "7644\n"
          ]
        }
      ]
    },
    {
      "cell_type": "code",
      "source": [
        "print(my_number + 5)"
      ],
      "metadata": {
        "colab": {
          "base_uri": "https://localhost:8080/"
        },
        "id": "jWX_-hhSVtBb",
        "outputId": "165d0c80-b3f9-4d50-b690-4cb38469d211"
      },
      "execution_count": null,
      "outputs": [
        {
          "output_type": "stream",
          "name": "stdout",
          "text": [
            "7649\n"
          ]
        }
      ]
    },
    {
      "cell_type": "code",
      "source": [
        "Print(4)"
      ],
      "metadata": {
        "colab": {
          "base_uri": "https://localhost:8080/",
          "height": 141
        },
        "id": "4nmSEgXaUt-t",
        "outputId": "9c73d55c-defd-4d7f-b2e6-e3a80519116c"
      },
      "execution_count": null,
      "outputs": [
        {
          "output_type": "error",
          "ename": "NameError",
          "evalue": "name 'Print' is not defined",
          "traceback": [
            "\u001b[0;31m---------------------------------------------------------------------------\u001b[0m",
            "\u001b[0;31mNameError\u001b[0m                                 Traceback (most recent call last)",
            "\u001b[0;32m<ipython-input-20-868d479656f0>\u001b[0m in \u001b[0;36m<cell line: 1>\u001b[0;34m()\u001b[0m\n\u001b[0;32m----> 1\u001b[0;31m \u001b[0mPrint\u001b[0m\u001b[0;34m(\u001b[0m\u001b[0;36m4\u001b[0m\u001b[0;34m)\u001b[0m\u001b[0;34m\u001b[0m\u001b[0;34m\u001b[0m\u001b[0m\n\u001b[0m",
            "\u001b[0;31mNameError\u001b[0m: name 'Print' is not defined"
          ]
        }
      ]
    },
    {
      "cell_type": "markdown",
      "source": [
        "### Dynamic Typing"
      ],
      "metadata": {
        "id": "TpKPdy97rr3s"
      }
    },
    {
      "cell_type": "code",
      "source": [
        "number = 15\n",
        "number = 47\n",
        "print(number)"
      ],
      "metadata": {
        "id": "d41tBfXTrvmO",
        "colab": {
          "base_uri": "https://localhost:8080/"
        },
        "outputId": "ba5f5b88-b95a-4f52-8a7b-58a705a8236e"
      },
      "execution_count": null,
      "outputs": [
        {
          "output_type": "stream",
          "name": "stdout",
          "text": [
            "47\n"
          ]
        }
      ]
    },
    {
      "cell_type": "code",
      "source": [
        "print(number * 10)\n",
        "print(number)\n",
        "\n",
        "number = number * 10\n",
        "print(number)"
      ],
      "metadata": {
        "colab": {
          "base_uri": "https://localhost:8080/"
        },
        "id": "b4zlRxhgVk-c",
        "outputId": "d48a0f98-5851-4e42-be63-3ed5bd829339"
      },
      "execution_count": null,
      "outputs": [
        {
          "output_type": "stream",
          "name": "stdout",
          "text": [
            "470\n",
            "47\n",
            "470\n"
          ]
        }
      ]
    },
    {
      "cell_type": "code",
      "source": [
        "print(number + my_number)"
      ],
      "metadata": {
        "colab": {
          "base_uri": "https://localhost:8080/"
        },
        "id": "GjohH_n3V3qn",
        "outputId": "20123d11-c64e-4b84-fe4a-c4bb7e04ab5f"
      },
      "execution_count": null,
      "outputs": [
        {
          "output_type": "stream",
          "name": "stdout",
          "text": [
            "7691\n"
          ]
        }
      ]
    },
    {
      "cell_type": "markdown",
      "source": [
        "### variable type with type()"
      ],
      "metadata": {
        "id": "D46P45tsr3kC"
      }
    },
    {
      "cell_type": "code",
      "source": [
        "print(   type(number)   )"
      ],
      "metadata": {
        "id": "jDdbWM4Lr48F",
        "colab": {
          "base_uri": "https://localhost:8080/"
        },
        "outputId": "ca3385c7-227f-4551-8471-8a3a91bb2d8f"
      },
      "execution_count": null,
      "outputs": [
        {
          "output_type": "stream",
          "name": "stdout",
          "text": [
            "<class 'int'>\n"
          ]
        }
      ]
    },
    {
      "cell_type": "code",
      "source": [
        "type_number = type(number)\n",
        "print(type_number)"
      ],
      "metadata": {
        "colab": {
          "base_uri": "https://localhost:8080/"
        },
        "id": "vf3Qv8XlX11j",
        "outputId": "786cecef-bc98-458f-b003-d6ecff97380c"
      },
      "execution_count": null,
      "outputs": [
        {
          "output_type": "stream",
          "name": "stdout",
          "text": [
            "<class 'int'>\n"
          ]
        }
      ]
    },
    {
      "cell_type": "markdown",
      "source": [
        "## string\n",
        "Strings are used in Python to record text information, such as names. Strings in Python are actually a sequence, which basically means Python keeps track of every element in the string as a sequence. For example, Python understands the string \"hello' to be a sequence of letters in a specific order. This means we will be able to use indexing to grab particular letters (like the first letter, or the last letter)."
      ],
      "metadata": {
        "id": "AA70cAQun1of"
      }
    },
    {
      "cell_type": "markdown",
      "source": [
        "### Creating a String"
      ],
      "metadata": {
        "id": "ZsQjv_UKsh8C"
      }
    },
    {
      "cell_type": "code",
      "source": [
        "my_string = 'hello'\n",
        "print(my_string)\n",
        "print(  type(my_string)  )"
      ],
      "metadata": {
        "id": "bDlWTX1BoBGD",
        "colab": {
          "base_uri": "https://localhost:8080/"
        },
        "outputId": "a7572d46-33a0-431a-cbcf-32926ad6a735"
      },
      "execution_count": null,
      "outputs": [
        {
          "output_type": "stream",
          "name": "stdout",
          "text": [
            "hello\n",
            "<class 'str'>\n"
          ]
        }
      ]
    },
    {
      "cell_type": "code",
      "source": [
        "my_string = hello\n",
        "print(my_string)"
      ],
      "metadata": {
        "colab": {
          "base_uri": "https://localhost:8080/",
          "height": 159
        },
        "id": "NKk8nlM-XzpM",
        "outputId": "cd1b0b53-2c70-43b9-9cbe-40771bdd76c3"
      },
      "execution_count": null,
      "outputs": [
        {
          "output_type": "error",
          "ename": "NameError",
          "evalue": "name 'hello' is not defined",
          "traceback": [
            "\u001b[0;31m---------------------------------------------------------------------------\u001b[0m",
            "\u001b[0;31mNameError\u001b[0m                                 Traceback (most recent call last)",
            "\u001b[0;32m<ipython-input-2-f03a0e9d7b81>\u001b[0m in \u001b[0;36m<cell line: 1>\u001b[0;34m()\u001b[0m\n\u001b[0;32m----> 1\u001b[0;31m \u001b[0mmy_string\u001b[0m \u001b[0;34m=\u001b[0m \u001b[0mhello\u001b[0m\u001b[0;34m\u001b[0m\u001b[0;34m\u001b[0m\u001b[0m\n\u001b[0m\u001b[1;32m      2\u001b[0m \u001b[0mprint\u001b[0m\u001b[0;34m(\u001b[0m\u001b[0mmy_string\u001b[0m\u001b[0;34m)\u001b[0m\u001b[0;34m\u001b[0m\u001b[0;34m\u001b[0m\u001b[0m\n",
            "\u001b[0;31mNameError\u001b[0m: name 'hello' is not defined"
          ]
        }
      ]
    },
    {
      "cell_type": "code",
      "source": [
        "my_string = \"hello\"\n",
        "print(my_string)\n",
        "print(  type(my_string)  )"
      ],
      "metadata": {
        "colab": {
          "base_uri": "https://localhost:8080/"
        },
        "id": "cJVrDqu5YCUT",
        "outputId": "38f4a868-d949-4906-a4a1-06a6ab6e1a82"
      },
      "execution_count": null,
      "outputs": [
        {
          "output_type": "stream",
          "name": "stdout",
          "text": [
            "hello\n",
            "<class 'str'>\n"
          ]
        }
      ]
    },
    {
      "cell_type": "code",
      "source": [
        "myString = ''' hello\n",
        "im alireza\n",
        "\n",
        "whwi\n",
        "iwe'''\n",
        "print(myString)"
      ],
      "metadata": {
        "colab": {
          "base_uri": "https://localhost:8080/"
        },
        "id": "99k1ChwUYKI5",
        "outputId": "d1dc0313-58ed-49b7-893d-2f4eef09d4fc"
      },
      "execution_count": null,
      "outputs": [
        {
          "output_type": "stream",
          "name": "stdout",
          "text": [
            " hello \n",
            "im alireza\n",
            "\n"
          ]
        }
      ]
    },
    {
      "cell_type": "code",
      "source": [
        "# i'm alireza\n",
        "my_string = ' i'm alireza'\n",
        "print(my_string)"
      ],
      "metadata": {
        "colab": {
          "base_uri": "https://localhost:8080/",
          "height": 106
        },
        "id": "adaHnruTZCMt",
        "outputId": "909523e1-5a70-4f12-a983-e89044cf8c0f"
      },
      "execution_count": null,
      "outputs": [
        {
          "output_type": "error",
          "ename": "SyntaxError",
          "evalue": "unterminated string literal (detected at line 1) (<ipython-input-8-01309422ad4b>, line 1)",
          "traceback": [
            "\u001b[0;36m  File \u001b[0;32m\"<ipython-input-8-01309422ad4b>\"\u001b[0;36m, line \u001b[0;32m1\u001b[0m\n\u001b[0;31m    my_string = ' i'm alireza'\u001b[0m\n\u001b[0m                             ^\u001b[0m\n\u001b[0;31mSyntaxError\u001b[0m\u001b[0;31m:\u001b[0m unterminated string literal (detected at line 1)\n"
          ]
        }
      ]
    },
    {
      "cell_type": "code",
      "source": [
        "my_string = \" i'm alireza\"\n",
        "print(my_string)"
      ],
      "metadata": {
        "id": "4XcvP0qdZkuv"
      },
      "execution_count": null,
      "outputs": []
    },
    {
      "cell_type": "code",
      "source": [
        "my_string = 'jds\n",
        "sjd\n",
        "isd'\n",
        "print(my_string)"
      ],
      "metadata": {
        "colab": {
          "base_uri": "https://localhost:8080/",
          "height": 106
        },
        "id": "Sbx_JrWYabBN",
        "outputId": "f0eeb29d-3abf-4791-eb7e-60a96c8018a0"
      },
      "execution_count": null,
      "outputs": [
        {
          "output_type": "error",
          "ename": "SyntaxError",
          "evalue": "unterminated string literal (detected at line 1) (<ipython-input-9-023a2bd416c3>, line 1)",
          "traceback": [
            "\u001b[0;36m  File \u001b[0;32m\"<ipython-input-9-023a2bd416c3>\"\u001b[0;36m, line \u001b[0;32m1\u001b[0m\n\u001b[0;31m    my_string = 'jds\u001b[0m\n\u001b[0m                ^\u001b[0m\n\u001b[0;31mSyntaxError\u001b[0m\u001b[0;31m:\u001b[0m unterminated string literal (detected at line 1)\n"
          ]
        }
      ]
    },
    {
      "cell_type": "markdown",
      "source": [
        "### String Indexing"
      ],
      "metadata": {
        "id": "3dUia6dWskF3"
      }
    },
    {
      "cell_type": "code",
      "source": [
        "my_string = 'alireza'"
      ],
      "metadata": {
        "id": "8iUOFzsYssCE"
      },
      "execution_count": null,
      "outputs": []
    },
    {
      "cell_type": "code",
      "source": [
        "print(my_string[0])"
      ],
      "metadata": {
        "colab": {
          "base_uri": "https://localhost:8080/"
        },
        "id": "bAnnzZencwmQ",
        "outputId": "8cf094e9-bcda-45ce-dcd9-b3a167ad940e"
      },
      "execution_count": null,
      "outputs": [
        {
          "output_type": "stream",
          "name": "stdout",
          "text": [
            "a\n"
          ]
        }
      ]
    },
    {
      "cell_type": "code",
      "source": [
        "print(my_string[5])"
      ],
      "metadata": {
        "colab": {
          "base_uri": "https://localhost:8080/"
        },
        "id": "S3Q72yZ3cxpB",
        "outputId": "0c8bf53e-5f52-43ec-8bf9-0bcb0c9dde2c"
      },
      "execution_count": null,
      "outputs": [
        {
          "output_type": "stream",
          "name": "stdout",
          "text": [
            "z\n"
          ]
        }
      ]
    },
    {
      "cell_type": "code",
      "source": [
        "myString = 'alireza saharkhiz'\n",
        "print(myString[8])\n"
      ],
      "metadata": {
        "colab": {
          "base_uri": "https://localhost:8080/"
        },
        "id": "_WsE3HMxc13w",
        "outputId": "1a30cbde-55e9-41b0-9684-aa5189aa39db"
      },
      "execution_count": null,
      "outputs": [
        {
          "output_type": "stream",
          "name": "stdout",
          "text": [
            "s\n"
          ]
        }
      ]
    },
    {
      "cell_type": "markdown",
      "source": [
        "### String Slicing"
      ],
      "metadata": {
        "id": "0kFCS3x_suFm"
      }
    },
    {
      "cell_type": "code",
      "source": [
        "# variable_name[start:end:step]\n",
        "print(my_string[0:7])"
      ],
      "metadata": {
        "id": "Ped6N7Gds0ZH",
        "colab": {
          "base_uri": "https://localhost:8080/"
        },
        "outputId": "b8a50ca2-339f-41a8-ff7a-289affef3b5b"
      },
      "execution_count": null,
      "outputs": [
        {
          "output_type": "stream",
          "name": "stdout",
          "text": [
            "alireza\n"
          ]
        }
      ]
    },
    {
      "cell_type": "code",
      "source": [
        "# alireza\n",
        "print(my_string[0:7:2])"
      ],
      "metadata": {
        "colab": {
          "base_uri": "https://localhost:8080/"
        },
        "id": "-XAoI6_Xdu-N",
        "outputId": "89c12a66-14cc-40d1-cb04-8b390c3a6b0e"
      },
      "execution_count": null,
      "outputs": [
        {
          "output_type": "stream",
          "name": "stdout",
          "text": [
            "aiea\n"
          ]
        }
      ]
    },
    {
      "cell_type": "code",
      "source": [
        "my_string = 'shdh82723==@3121)'\n",
        "print(my_string)"
      ],
      "metadata": {
        "colab": {
          "base_uri": "https://localhost:8080/"
        },
        "id": "1h4zMgFocpaJ",
        "outputId": "e180f782-4ee9-4599-e14a-74ecbcdc80a8"
      },
      "execution_count": null,
      "outputs": [
        {
          "output_type": "stream",
          "name": "stdout",
          "text": [
            "shdh82723==@3121\n"
          ]
        }
      ]
    },
    {
      "cell_type": "code",
      "source": [
        "string_slicing = my_string[0:10]\n",
        "print(string_slicing)"
      ],
      "metadata": {
        "colab": {
          "base_uri": "https://localhost:8080/"
        },
        "id": "uq1kLQ46eJFN",
        "outputId": "cf5863dc-1cd4-4b98-b110-78cb5ca8c578"
      },
      "execution_count": null,
      "outputs": [
        {
          "output_type": "stream",
          "name": "stdout",
          "text": [
            "shdh82723=\n"
          ]
        }
      ]
    },
    {
      "cell_type": "markdown",
      "source": [
        "### String Properties\n",
        "It's important to note that strings have an important property known as immutability. This means that once a string is created, the elements within it can not be changed or replaced."
      ],
      "metadata": {
        "id": "uj3g620ZujYo"
      }
    },
    {
      "cell_type": "code",
      "source": [
        "myString[0] = 'y'\n",
        "print(myString)"
      ],
      "metadata": {
        "id": "BM2ToUzTumx3",
        "colab": {
          "base_uri": "https://localhost:8080/",
          "height": 159
        },
        "outputId": "210b3d4e-9a62-4f3b-8303-da118ce7b928"
      },
      "execution_count": null,
      "outputs": [
        {
          "output_type": "error",
          "ename": "TypeError",
          "evalue": "'str' object does not support item assignment",
          "traceback": [
            "\u001b[0;31m---------------------------------------------------------------------------\u001b[0m",
            "\u001b[0;31mTypeError\u001b[0m                                 Traceback (most recent call last)",
            "\u001b[0;32m<ipython-input-21-dbab3734733e>\u001b[0m in \u001b[0;36m<cell line: 1>\u001b[0;34m()\u001b[0m\n\u001b[0;32m----> 1\u001b[0;31m \u001b[0mmyString\u001b[0m\u001b[0;34m[\u001b[0m\u001b[0;36m0\u001b[0m\u001b[0;34m]\u001b[0m \u001b[0;34m=\u001b[0m \u001b[0;34m'y'\u001b[0m\u001b[0;34m\u001b[0m\u001b[0;34m\u001b[0m\u001b[0m\n\u001b[0m\u001b[1;32m      2\u001b[0m \u001b[0mprint\u001b[0m\u001b[0;34m(\u001b[0m\u001b[0mmyString\u001b[0m\u001b[0;34m)\u001b[0m\u001b[0;34m\u001b[0m\u001b[0;34m\u001b[0m\u001b[0m\n",
            "\u001b[0;31mTypeError\u001b[0m: 'str' object does not support item assignment"
          ]
        }
      ]
    },
    {
      "cell_type": "code",
      "source": [
        "print('alireza ' + 'saharkhiz')\n",
        "print(myString + my_string)"
      ],
      "metadata": {
        "colab": {
          "base_uri": "https://localhost:8080/"
        },
        "id": "Nsn-BsF5fqVO",
        "outputId": "9d43b9af-2b8d-4483-a245-9eb9ab56a8dc"
      },
      "execution_count": null,
      "outputs": [
        {
          "output_type": "stream",
          "name": "stdout",
          "text": [
            "alireza saharkhiz\n",
            "alireza saharkhizshdh82723==@3121\n"
          ]
        }
      ]
    },
    {
      "cell_type": "code",
      "source": [
        "name = 'alireza'\n",
        "family = 'saharkhiz'\n",
        "print(name + '\\n' + family)"
      ],
      "metadata": {
        "colab": {
          "base_uri": "https://localhost:8080/"
        },
        "id": "H9Mnwj3Jf1mW",
        "outputId": "c0c48790-6de8-4f9a-d7e1-296ddb77a69a"
      },
      "execution_count": 3,
      "outputs": [
        {
          "output_type": "stream",
          "name": "stdout",
          "text": [
            "alireza\n",
            "saharkhiz\n"
          ]
        }
      ]
    },
    {
      "cell_type": "code",
      "source": [
        "print('ali ' * 10)"
      ],
      "metadata": {
        "colab": {
          "base_uri": "https://localhost:8080/"
        },
        "id": "rZo_xpV9krQD",
        "outputId": "69c9a263-c898-465b-cfae-3030421bab2b"
      },
      "execution_count": null,
      "outputs": [
        {
          "output_type": "stream",
          "name": "stdout",
          "text": [
            "ali ali ali ali ali ali ali ali ali ali \n"
          ]
        }
      ]
    },
    {
      "cell_type": "code",
      "source": [
        "print('ali' + 10)"
      ],
      "metadata": {
        "colab": {
          "base_uri": "https://localhost:8080/",
          "height": 141
        },
        "id": "RLn1lAmYkxF2",
        "outputId": "607b48ef-7af7-47de-f65f-57b5e84aa001"
      },
      "execution_count": null,
      "outputs": [
        {
          "output_type": "error",
          "ename": "TypeError",
          "evalue": "can only concatenate str (not \"int\") to str",
          "traceback": [
            "\u001b[0;31m---------------------------------------------------------------------------\u001b[0m",
            "\u001b[0;31mTypeError\u001b[0m                                 Traceback (most recent call last)",
            "\u001b[0;32m<ipython-input-41-c410f457b686>\u001b[0m in \u001b[0;36m<cell line: 1>\u001b[0;34m()\u001b[0m\n\u001b[0;32m----> 1\u001b[0;31m \u001b[0mprint\u001b[0m\u001b[0;34m(\u001b[0m\u001b[0;34m'ali'\u001b[0m \u001b[0;34m+\u001b[0m \u001b[0;36m10\u001b[0m\u001b[0;34m)\u001b[0m\u001b[0;34m\u001b[0m\u001b[0;34m\u001b[0m\u001b[0m\n\u001b[0m",
            "\u001b[0;31mTypeError\u001b[0m: can only concatenate str (not \"int\") to str"
          ]
        }
      ]
    },
    {
      "cell_type": "code",
      "source": [
        "print('10 ' + '10')"
      ],
      "metadata": {
        "colab": {
          "base_uri": "https://localhost:8080/"
        },
        "id": "hSym04pelNqT",
        "outputId": "485d6889-67f8-49de-95ea-13a0d2ccb57c"
      },
      "execution_count": null,
      "outputs": [
        {
          "output_type": "stream",
          "name": "stdout",
          "text": [
            "10 10\n"
          ]
        }
      ]
    },
    {
      "cell_type": "markdown",
      "source": [
        "### Methods\n",
        "Objects in Python usually have built-in methods. These methods are functions inside the object (we will learn about these in much more depth later) that can perform actions or commands on the object itself.\n",
        "\n",
        "We call methods with a period and then the method name. Methods are in the form:\n",
        "\n",
        "object.method(parameters)"
      ],
      "metadata": {
        "id": "NSAbS5YvvSTe"
      }
    },
    {
      "cell_type": "code",
      "source": [
        "# object.method_name()\n",
        "print(name.count('a'))"
      ],
      "metadata": {
        "id": "fbUuIocqvVoY",
        "colab": {
          "base_uri": "https://localhost:8080/"
        },
        "outputId": "d96ef085-1ee5-4d72-c6ea-7903a3f0d58e"
      },
      "execution_count": null,
      "outputs": [
        {
          "output_type": "stream",
          "name": "stdout",
          "text": [
            "2\n"
          ]
        }
      ]
    },
    {
      "cell_type": "code",
      "source": [
        "print(name.upper())\n",
        "# print(name.lower())\n",
        "print(name)"
      ],
      "metadata": {
        "colab": {
          "base_uri": "https://localhost:8080/"
        },
        "id": "nXds9mtihpbf",
        "outputId": "654859c6-2a14-4524-857f-4c2772f0267b"
      },
      "execution_count": null,
      "outputs": [
        {
          "output_type": "stream",
          "name": "stdout",
          "text": [
            "ALIREZA\n",
            "alireza\n"
          ]
        }
      ]
    },
    {
      "cell_type": "code",
      "source": [
        "name = name.upper()\n",
        "print(name)"
      ],
      "metadata": {
        "colab": {
          "base_uri": "https://localhost:8080/"
        },
        "id": "zHEQJJnzjqGB",
        "outputId": "53830978-19cd-4547-b5ea-842aec292c25"
      },
      "execution_count": null,
      "outputs": [
        {
          "output_type": "stream",
          "name": "stdout",
          "text": [
            "ALIREZA\n"
          ]
        }
      ]
    },
    {
      "cell_type": "code",
      "source": [
        "print(' * '.join(name))"
      ],
      "metadata": {
        "colab": {
          "base_uri": "https://localhost:8080/"
        },
        "id": "Vzn7sEAMjd9j",
        "outputId": "0129226a-e420-42e9-cce7-743e1e393f34"
      },
      "execution_count": null,
      "outputs": [
        {
          "output_type": "stream",
          "name": "stdout",
          "text": [
            "A * L * I * R * E * Z * A\n"
          ]
        }
      ]
    },
    {
      "cell_type": "markdown",
      "source": [
        "### f String"
      ],
      "metadata": {
        "id": "mjGuR_HVwRcX"
      }
    },
    {
      "cell_type": "code",
      "source": [
        "# print('alireza' + 5)\n",
        "print(f'alireza {5}')"
      ],
      "metadata": {
        "id": "qlyNorb0wUdJ",
        "colab": {
          "base_uri": "https://localhost:8080/"
        },
        "outputId": "3d271cdf-5fdc-4002-d969-c9ddea82a643"
      },
      "execution_count": null,
      "outputs": [
        {
          "output_type": "stream",
          "name": "stdout",
          "text": [
            "alireza 5\n"
          ]
        }
      ]
    },
    {
      "cell_type": "code",
      "source": [
        "number = 10\n",
        "print(f'alireza {number}')"
      ],
      "metadata": {
        "colab": {
          "base_uri": "https://localhost:8080/"
        },
        "id": "8h6eKyshmxnT",
        "outputId": "9de448c0-0bfe-41db-e99e-57958166be5e"
      },
      "execution_count": null,
      "outputs": [
        {
          "output_type": "stream",
          "name": "stdout",
          "text": [
            "alireza 10\n"
          ]
        }
      ]
    },
    {
      "cell_type": "markdown",
      "source": [
        "## list\n",
        "Earlier when discussing strings we introduced the concept of a sequence in Python. Lists can be thought of the most general version of a sequence in Python. Unlike strings, they are mutable, meaning the elements inside a list can be changed!"
      ],
      "metadata": {
        "id": "PsCzhPYen4ho"
      }
    },
    {
      "cell_type": "markdown",
      "source": [
        "### Creating lists"
      ],
      "metadata": {
        "id": "DeakAx21xAX_"
      }
    },
    {
      "cell_type": "code",
      "source": [
        "my_list = ['ali', 'reza', 'mamad']\n",
        "print(my_list)"
      ],
      "metadata": {
        "id": "18qF9nFtoBeV",
        "colab": {
          "base_uri": "https://localhost:8080/"
        },
        "outputId": "4f9a699a-205e-4346-ab42-692e40ff36b6"
      },
      "execution_count": 1,
      "outputs": [
        {
          "output_type": "stream",
          "name": "stdout",
          "text": [
            "['ali', 'reza', 'mamad']\n"
          ]
        }
      ]
    },
    {
      "cell_type": "code",
      "source": [
        "my_list = [10, 20, 30]\n",
        "print(my_list)"
      ],
      "metadata": {
        "colab": {
          "base_uri": "https://localhost:8080/"
        },
        "id": "yapwsPnanlmw",
        "outputId": "2a58398c-9f47-4fd7-a56e-9329169dad5e"
      },
      "execution_count": null,
      "outputs": [
        {
          "output_type": "stream",
          "name": "stdout",
          "text": [
            "[10, 20, 30]\n"
          ]
        }
      ]
    },
    {
      "cell_type": "markdown",
      "source": [
        "### Indexing and Slicing"
      ],
      "metadata": {
        "id": "jsnkN-UyxBkv"
      }
    },
    {
      "cell_type": "code",
      "source": [
        "my_list = ['ali', 'reza', 'mamad']\n",
        "print(my_list[0])"
      ],
      "metadata": {
        "id": "ZlcFlQ9CxI_g",
        "colab": {
          "base_uri": "https://localhost:8080/"
        },
        "outputId": "33919593-4874-4c03-a29e-1666f1a6ad90"
      },
      "execution_count": null,
      "outputs": [
        {
          "output_type": "stream",
          "name": "stdout",
          "text": [
            "ali\n"
          ]
        }
      ]
    },
    {
      "cell_type": "code",
      "source": [
        "print(my_list[0:2])"
      ],
      "metadata": {
        "colab": {
          "base_uri": "https://localhost:8080/"
        },
        "id": "XNjCAZoGn23D",
        "outputId": "21aa528f-9d6a-406f-ddb2-f83e994a8cd8"
      },
      "execution_count": null,
      "outputs": [
        {
          "output_type": "stream",
          "name": "stdout",
          "text": [
            "['ali', 'reza']\n"
          ]
        }
      ]
    },
    {
      "cell_type": "markdown",
      "source": [
        "### Methods"
      ],
      "metadata": {
        "id": "up2oxMZJxJgA"
      }
    },
    {
      "cell_type": "code",
      "source": [
        "my_list.append('zahra')\n",
        "print(my_list)"
      ],
      "metadata": {
        "id": "LrZxlwsWxMgv",
        "colab": {
          "base_uri": "https://localhost:8080/"
        },
        "outputId": "944f0092-bdf6-48ca-8fcd-6c6ca53769ef"
      },
      "execution_count": null,
      "outputs": [
        {
          "output_type": "stream",
          "name": "stdout",
          "text": [
            "['ali', 'reza', 'mamad', 'zahra']\n"
          ]
        }
      ]
    },
    {
      "cell_type": "code",
      "source": [
        "my_list.append('hamid')\n",
        "print(my_list)"
      ],
      "metadata": {
        "colab": {
          "base_uri": "https://localhost:8080/"
        },
        "id": "mzEGlIR0olIN",
        "outputId": "7994c34d-e557-48cc-cdc9-263468959540"
      },
      "execution_count": null,
      "outputs": [
        {
          "output_type": "stream",
          "name": "stdout",
          "text": [
            "['ali', 'reza', 'mamad', 'zahra', 'hamid']\n"
          ]
        }
      ]
    },
    {
      "cell_type": "markdown",
      "source": [
        "### List Properties"
      ],
      "metadata": {
        "id": "wXQTmKWwxdMb"
      }
    },
    {
      "cell_type": "code",
      "source": [
        "my_list[0] = 'fateme'\n",
        "print(my_list)"
      ],
      "metadata": {
        "id": "n6rYBG85xgY3",
        "colab": {
          "base_uri": "https://localhost:8080/"
        },
        "outputId": "aa8635f0-9a29-4c31-ee64-713638628c44"
      },
      "execution_count": null,
      "outputs": [
        {
          "output_type": "stream",
          "name": "stdout",
          "text": [
            "['fateme', 'reza', 'ali', 'zahra', 'hamid']\n"
          ]
        }
      ]
    },
    {
      "cell_type": "code",
      "source": [
        "my_list2 = [1, 2, 3]\n",
        "print(my_list + my_list2)"
      ],
      "metadata": {
        "colab": {
          "base_uri": "https://localhost:8080/"
        },
        "id": "UE3R9QjkpGIQ",
        "outputId": "576e9a52-6e15-4758-f17b-f627a3fa18b2"
      },
      "execution_count": null,
      "outputs": [
        {
          "output_type": "stream",
          "name": "stdout",
          "text": [
            "['fateme', 'reza', 'ali', 'zahra', 'hamid', 1, 2, 3]\n"
          ]
        }
      ]
    },
    {
      "cell_type": "code",
      "source": [
        "name = my_list[0]\n",
        "my_list[0] = my_list[2]\n",
        "my_list[2] = name\n",
        "print(my_list)"
      ],
      "metadata": {
        "colab": {
          "base_uri": "https://localhost:8080/"
        },
        "id": "FxwgwUgnpkGb",
        "outputId": "8d798d59-7bd6-41bc-ba5e-edc704758933"
      },
      "execution_count": null,
      "outputs": [
        {
          "output_type": "stream",
          "name": "stdout",
          "text": [
            "['ali', 'reza', 'fateme', 'zahra', 'hamid']\n"
          ]
        }
      ]
    },
    {
      "cell_type": "markdown",
      "source": [
        "## Dictionary"
      ],
      "metadata": {
        "id": "PdwWp7tOn7pA"
      }
    },
    {
      "cell_type": "markdown",
      "source": [
        "### Creating Dict"
      ],
      "metadata": {
        "id": "9kyC2UQYxzM8"
      }
    },
    {
      "cell_type": "code",
      "source": [
        "# { key:value }\n",
        "my_dict = {'name': 'alireza', 'number': '5576'}\n",
        "print(my_dict)"
      ],
      "metadata": {
        "id": "ZhxFch3IoB8C",
        "colab": {
          "base_uri": "https://localhost:8080/"
        },
        "outputId": "0baa1f58-4e3c-462c-9879-fe0376c1a5ad"
      },
      "execution_count": 5,
      "outputs": [
        {
          "output_type": "stream",
          "name": "stdout",
          "text": [
            "{'name': 'alireza', 'number': '5576'}\n"
          ]
        }
      ]
    },
    {
      "cell_type": "code",
      "source": [
        "my_dict = {'name':['ali', 'reza'], 'number':[587, 8788]}\n",
        "print(my_dict)"
      ],
      "metadata": {
        "colab": {
          "base_uri": "https://localhost:8080/"
        },
        "id": "UDXmZu1ffTyh",
        "outputId": "69ff8605-fb12-47e3-c3ae-a68aa3a5d0bc"
      },
      "execution_count": 8,
      "outputs": [
        {
          "output_type": "stream",
          "name": "stdout",
          "text": [
            "{'name': ['ali', 'reza'], 'number': [587, 8788]}\n"
          ]
        }
      ]
    },
    {
      "cell_type": "code",
      "source": [
        "my_dict = dict(\n",
        "    name = 'alireza',\n",
        "    number = 5576\n",
        ")\n",
        "print(my_dict)"
      ],
      "metadata": {
        "colab": {
          "base_uri": "https://localhost:8080/"
        },
        "id": "Xl6ZTcqbf4JK",
        "outputId": "b3babaf4-6065-40f8-cbe0-e3a40e49c11e"
      },
      "execution_count": 9,
      "outputs": [
        {
          "output_type": "stream",
          "name": "stdout",
          "text": [
            "{'name': 'alireza', 'number': 5576}\n"
          ]
        }
      ]
    },
    {
      "cell_type": "code",
      "source": [
        "my_dict['name']"
      ],
      "metadata": {
        "colab": {
          "base_uri": "https://localhost:8080/",
          "height": 35
        },
        "id": "8G1g_7wrgeka",
        "outputId": "b98ab8e3-792b-4449-ba50-71a3750cb355"
      },
      "execution_count": 12,
      "outputs": [
        {
          "output_type": "execute_result",
          "data": {
            "text/plain": [
              "'alireza'"
            ],
            "application/vnd.google.colaboratory.intrinsic+json": {
              "type": "string"
            }
          },
          "metadata": {},
          "execution_count": 12
        }
      ]
    },
    {
      "cell_type": "code",
      "source": [
        "my_dict['alireza']"
      ],
      "metadata": {
        "colab": {
          "base_uri": "https://localhost:8080/",
          "height": 141
        },
        "id": "w8t43Zv8g1ht",
        "outputId": "a2cdab07-e8a4-4db0-8820-4c2c3bbe3912"
      },
      "execution_count": 13,
      "outputs": [
        {
          "output_type": "error",
          "ename": "KeyError",
          "evalue": "'alireza'",
          "traceback": [
            "\u001b[0;31m---------------------------------------------------------------------------\u001b[0m",
            "\u001b[0;31mKeyError\u001b[0m                                  Traceback (most recent call last)",
            "\u001b[0;32m<ipython-input-13-a8727c4204ac>\u001b[0m in \u001b[0;36m<cell line: 1>\u001b[0;34m()\u001b[0m\n\u001b[0;32m----> 1\u001b[0;31m \u001b[0mmy_dict\u001b[0m\u001b[0;34m[\u001b[0m\u001b[0;34m'alireza'\u001b[0m\u001b[0;34m]\u001b[0m\u001b[0;34m\u001b[0m\u001b[0;34m\u001b[0m\u001b[0m\n\u001b[0m",
            "\u001b[0;31mKeyError\u001b[0m: 'alireza'"
          ]
        }
      ]
    },
    {
      "cell_type": "code",
      "source": [
        "my_dict = {'name':['ali', 'reza'], 'number':[587, 8788]}\n",
        "my_dict['name']\n"
      ],
      "metadata": {
        "colab": {
          "base_uri": "https://localhost:8080/"
        },
        "id": "4_6btPggg_sE",
        "outputId": "3b68d6c3-837e-49ee-8e68-553597ac62c4"
      },
      "execution_count": 20,
      "outputs": [
        {
          "output_type": "execute_result",
          "data": {
            "text/plain": [
              "['ali', 'reza']"
            ]
          },
          "metadata": {},
          "execution_count": 20
        }
      ]
    },
    {
      "cell_type": "code",
      "source": [
        "my_dict['name'][0]"
      ],
      "metadata": {
        "colab": {
          "base_uri": "https://localhost:8080/",
          "height": 35
        },
        "id": "kFZJSbrIh2t-",
        "outputId": "8e4889a5-39ed-4ad5-a08e-c2729a7ccb03"
      },
      "execution_count": 21,
      "outputs": [
        {
          "output_type": "execute_result",
          "data": {
            "text/plain": [
              "'ali'"
            ],
            "application/vnd.google.colaboratory.intrinsic+json": {
              "type": "string"
            }
          },
          "metadata": {},
          "execution_count": 21
        }
      ]
    },
    {
      "cell_type": "code",
      "source": [
        "my_dict['number'][1]"
      ],
      "metadata": {
        "colab": {
          "base_uri": "https://localhost:8080/"
        },
        "id": "pFe7RKsuh1Ge",
        "outputId": "599696e5-2273-4def-a1f5-efe1cc17f6dd"
      },
      "execution_count": 22,
      "outputs": [
        {
          "output_type": "execute_result",
          "data": {
            "text/plain": [
              "8788"
            ]
          },
          "metadata": {},
          "execution_count": 22
        }
      ]
    },
    {
      "cell_type": "markdown",
      "source": [
        "### Methods"
      ],
      "metadata": {
        "id": "HoH4cxhgx8lk"
      }
    },
    {
      "cell_type": "code",
      "source": [
        "my_dict.values()"
      ],
      "metadata": {
        "id": "FMFY3apSx-aV",
        "colab": {
          "base_uri": "https://localhost:8080/"
        },
        "outputId": "a64c68d8-db8d-42af-8280-ba2e45aa3c12"
      },
      "execution_count": 23,
      "outputs": [
        {
          "output_type": "execute_result",
          "data": {
            "text/plain": [
              "dict_values([['ali', 'reza'], [587, 8788]])"
            ]
          },
          "metadata": {},
          "execution_count": 23
        }
      ]
    },
    {
      "cell_type": "code",
      "source": [
        "my_dict.keys()"
      ],
      "metadata": {
        "colab": {
          "base_uri": "https://localhost:8080/"
        },
        "id": "DLz9y5tEiN57",
        "outputId": "60c3aaa1-1b1d-458f-816e-db4e5624b3db"
      },
      "execution_count": 24,
      "outputs": [
        {
          "output_type": "execute_result",
          "data": {
            "text/plain": [
              "dict_keys(['name', 'number'])"
            ]
          },
          "metadata": {},
          "execution_count": 24
        }
      ]
    },
    {
      "cell_type": "code",
      "source": [
        "my_dict.items()"
      ],
      "metadata": {
        "colab": {
          "base_uri": "https://localhost:8080/"
        },
        "id": "wo-DZaA3iTd9",
        "outputId": "c914ab24-a080-4d69-cdd3-1bcb342a6764"
      },
      "execution_count": 25,
      "outputs": [
        {
          "output_type": "execute_result",
          "data": {
            "text/plain": [
              "dict_items([('name', ['ali', 'reza']), ('number', [587, 8788])])"
            ]
          },
          "metadata": {},
          "execution_count": 25
        }
      ]
    },
    {
      "cell_type": "code",
      "source": [
        "my_dict.pop('name')\n",
        "my_dict"
      ],
      "metadata": {
        "colab": {
          "base_uri": "https://localhost:8080/"
        },
        "id": "vKRbQd_DiYd7",
        "outputId": "90c317ee-0b2c-4004-9252-a24692379035"
      },
      "execution_count": 26,
      "outputs": [
        {
          "output_type": "execute_result",
          "data": {
            "text/plain": [
              "{'number': [587, 8788]}"
            ]
          },
          "metadata": {},
          "execution_count": 26
        }
      ]
    },
    {
      "cell_type": "code",
      "source": [
        "my_dict.pop()"
      ],
      "metadata": {
        "colab": {
          "base_uri": "https://localhost:8080/",
          "height": 141
        },
        "id": "AbQ-l1uMiuWE",
        "outputId": "865b8b85-a38d-4650-deaf-ee28cf7d7ea9"
      },
      "execution_count": 27,
      "outputs": [
        {
          "output_type": "error",
          "ename": "TypeError",
          "evalue": "pop expected at least 1 argument, got 0",
          "traceback": [
            "\u001b[0;31m---------------------------------------------------------------------------\u001b[0m",
            "\u001b[0;31mTypeError\u001b[0m                                 Traceback (most recent call last)",
            "\u001b[0;32m<ipython-input-27-4b70941aafe7>\u001b[0m in \u001b[0;36m<cell line: 1>\u001b[0;34m()\u001b[0m\n\u001b[0;32m----> 1\u001b[0;31m \u001b[0mmy_dict\u001b[0m\u001b[0;34m.\u001b[0m\u001b[0mpop\u001b[0m\u001b[0;34m(\u001b[0m\u001b[0;34m)\u001b[0m\u001b[0;34m\u001b[0m\u001b[0;34m\u001b[0m\u001b[0m\n\u001b[0m",
            "\u001b[0;31mTypeError\u001b[0m: pop expected at least 1 argument, got 0"
          ]
        }
      ]
    },
    {
      "cell_type": "markdown",
      "source": [
        "## tuple\n",
        "In Python tuples are very similar to lists, however, unlike lists they are immutable meaning they can not be changed. You would use tuples to present things that shouldn't be changed, such as days of the week, or dates on a calendar."
      ],
      "metadata": {
        "id": "CD4FFRkfn_j8"
      }
    },
    {
      "cell_type": "markdown",
      "source": [
        "### Creating tuple"
      ],
      "metadata": {
        "id": "FNHOSVIXyLFS"
      }
    },
    {
      "cell_type": "code",
      "source": [
        "my_tuple = (14, 8, 9, 10)\n",
        "print(my_tuple)\n",
        "my_tuple"
      ],
      "metadata": {
        "id": "U0RUDiZpyI5e",
        "colab": {
          "base_uri": "https://localhost:8080/"
        },
        "outputId": "8cf3bf25-8a6a-4baf-abdf-7b88f9ebd0c0"
      },
      "execution_count": 33,
      "outputs": [
        {
          "output_type": "stream",
          "name": "stdout",
          "text": [
            "(14, 8, 9, 10)\n"
          ]
        },
        {
          "output_type": "execute_result",
          "data": {
            "text/plain": [
              "(14, 8, 9, 10)"
            ]
          },
          "metadata": {},
          "execution_count": 33
        }
      ]
    },
    {
      "cell_type": "markdown",
      "source": [
        "### Immutability"
      ],
      "metadata": {
        "id": "KSCOBLA1yRM3"
      }
    },
    {
      "cell_type": "code",
      "source": [
        "my_tuple[0] = 10"
      ],
      "metadata": {
        "id": "BpCB6w85oCbD",
        "colab": {
          "base_uri": "https://localhost:8080/",
          "height": 141
        },
        "outputId": "902567e1-ac38-4307-d983-d7e348ede9b2"
      },
      "execution_count": 29,
      "outputs": [
        {
          "output_type": "error",
          "ename": "TypeError",
          "evalue": "'tuple' object does not support item assignment",
          "traceback": [
            "\u001b[0;31m---------------------------------------------------------------------------\u001b[0m",
            "\u001b[0;31mTypeError\u001b[0m                                 Traceback (most recent call last)",
            "\u001b[0;32m<ipython-input-29-b455177814b8>\u001b[0m in \u001b[0;36m<cell line: 1>\u001b[0;34m()\u001b[0m\n\u001b[0;32m----> 1\u001b[0;31m \u001b[0mmy_tuple\u001b[0m\u001b[0;34m[\u001b[0m\u001b[0;36m0\u001b[0m\u001b[0;34m]\u001b[0m \u001b[0;34m=\u001b[0m \u001b[0;36m10\u001b[0m\u001b[0;34m\u001b[0m\u001b[0;34m\u001b[0m\u001b[0m\n\u001b[0m",
            "\u001b[0;31mTypeError\u001b[0m: 'tuple' object does not support item assignment"
          ]
        }
      ]
    },
    {
      "cell_type": "markdown",
      "source": [
        "### Methods"
      ],
      "metadata": {
        "id": "PbyHHeTGyWx_"
      }
    },
    {
      "cell_type": "code",
      "source": [
        "my_tuple.count(10)"
      ],
      "metadata": {
        "id": "3L8HVfV6yZC5",
        "colab": {
          "base_uri": "https://localhost:8080/"
        },
        "outputId": "a9e79803-0096-4e89-9fe7-9c06892177c1"
      },
      "execution_count": 30,
      "outputs": [
        {
          "output_type": "execute_result",
          "data": {
            "text/plain": [
              "1"
            ]
          },
          "metadata": {},
          "execution_count": 30
        }
      ]
    },
    {
      "cell_type": "code",
      "source": [
        "# index 1\n",
        "my_tuple[0]"
      ],
      "metadata": {
        "colab": {
          "base_uri": "https://localhost:8080/"
        },
        "id": "9Zs1VyafkYkv",
        "outputId": "fc3e7fbb-91cc-414f-a342-fd976e6ff5ba"
      },
      "execution_count": 31,
      "outputs": [
        {
          "output_type": "execute_result",
          "data": {
            "text/plain": [
              "14"
            ]
          },
          "metadata": {},
          "execution_count": 31
        }
      ]
    },
    {
      "cell_type": "code",
      "source": [
        "my_tuple[0:2]"
      ],
      "metadata": {
        "colab": {
          "base_uri": "https://localhost:8080/"
        },
        "id": "N1bpXpnalLop",
        "outputId": "a7de332d-107e-4f5f-eb94-8c39043e0c36"
      },
      "execution_count": 34,
      "outputs": [
        {
          "output_type": "execute_result",
          "data": {
            "text/plain": [
              "(14, 8)"
            ]
          },
          "metadata": {},
          "execution_count": 34
        }
      ]
    },
    {
      "cell_type": "code",
      "source": [
        "my_tuple[0] + my_tuple[1]"
      ],
      "metadata": {
        "colab": {
          "base_uri": "https://localhost:8080/"
        },
        "id": "W24pdbzFlSAs",
        "outputId": "ac504a24-f8eb-4963-c9cc-531495bc480a"
      },
      "execution_count": 35,
      "outputs": [
        {
          "output_type": "execute_result",
          "data": {
            "text/plain": [
              "22"
            ]
          },
          "metadata": {},
          "execution_count": 35
        }
      ]
    },
    {
      "cell_type": "markdown",
      "source": [
        "## set"
      ],
      "metadata": {
        "id": "Jp1184XeoHI6"
      }
    },
    {
      "cell_type": "markdown",
      "source": [
        "### Creating set"
      ],
      "metadata": {
        "id": "A3A57LG1ynRI"
      }
    },
    {
      "cell_type": "code",
      "source": [
        "my_set = {1, 2, 4, 7, 8}\n",
        "my_set"
      ],
      "metadata": {
        "id": "wZHNimVkoGXo",
        "colab": {
          "base_uri": "https://localhost:8080/"
        },
        "outputId": "da6baebd-e707-4d62-a2f7-02b137f62223"
      },
      "execution_count": 36,
      "outputs": [
        {
          "output_type": "execute_result",
          "data": {
            "text/plain": [
              "{1, 2, 4, 7, 8}"
            ]
          },
          "metadata": {},
          "execution_count": 36
        }
      ]
    },
    {
      "cell_type": "markdown",
      "source": [
        "### Methods"
      ],
      "metadata": {
        "id": "P2ThpUCcyp7-"
      }
    },
    {
      "cell_type": "code",
      "source": [
        "# method\n",
        "my_set2 = {4, 2, 14, 97}\n",
        "my_set.issubset(my_set2)"
      ],
      "metadata": {
        "id": "cup7Vlc3yr_0",
        "colab": {
          "base_uri": "https://localhost:8080/"
        },
        "outputId": "d7f4c737-cbdf-44b0-9e97-e381a4cfcfc0"
      },
      "execution_count": 37,
      "outputs": [
        {
          "output_type": "execute_result",
          "data": {
            "text/plain": [
              "False"
            ]
          },
          "metadata": {},
          "execution_count": 37
        }
      ]
    },
    {
      "cell_type": "markdown",
      "source": [
        "## boolean\n",
        "Python comes with Booleans (with predefined True and False displays that are basically just the integers 1 and 0)"
      ],
      "metadata": {
        "id": "ZfNR8mMjoIaH"
      }
    },
    {
      "cell_type": "code",
      "source": [
        "x = True\n",
        "type(x)"
      ],
      "metadata": {
        "id": "xz29SyH-oKdA",
        "colab": {
          "base_uri": "https://localhost:8080/"
        },
        "outputId": "c7947d45-5140-49a8-cbde-1971861aa4eb"
      },
      "execution_count": 38,
      "outputs": [
        {
          "output_type": "execute_result",
          "data": {
            "text/plain": [
              "bool"
            ]
          },
          "metadata": {},
          "execution_count": 38
        }
      ]
    },
    {
      "cell_type": "code",
      "source": [
        "x = False\n",
        "type(x)"
      ],
      "metadata": {
        "colab": {
          "base_uri": "https://localhost:8080/"
        },
        "id": "T-06JNrdmLyy",
        "outputId": "932c0155-1be6-4be1-ff5c-706eb782ae28"
      },
      "execution_count": 39,
      "outputs": [
        {
          "output_type": "execute_result",
          "data": {
            "text/plain": [
              "bool"
            ]
          },
          "metadata": {},
          "execution_count": 39
        }
      ]
    },
    {
      "cell_type": "markdown",
      "source": [
        "## Type Conversion"
      ],
      "metadata": {
        "id": "pGe-Wayg92-O"
      }
    },
    {
      "cell_type": "code",
      "source": [
        "# int ---> float\n",
        "x = 10\n",
        "print(type(x))\n",
        "\n",
        "x = float(x)\n",
        "print(type(x))"
      ],
      "metadata": {
        "id": "XM3USlfa94KW",
        "colab": {
          "base_uri": "https://localhost:8080/"
        },
        "outputId": "dd181318-a82c-4ffd-9dce-8e645b236df8"
      },
      "execution_count": 40,
      "outputs": [
        {
          "output_type": "stream",
          "name": "stdout",
          "text": [
            "<class 'int'>\n",
            "<class 'float'>\n"
          ]
        }
      ]
    },
    {
      "cell_type": "code",
      "source": [
        "# str ---> int\n",
        "x = 'ali'\n",
        "x = int(x)\n",
        "print(type(x))"
      ],
      "metadata": {
        "colab": {
          "base_uri": "https://localhost:8080/",
          "height": 193
        },
        "id": "k6_ZmmrenCL5",
        "outputId": "9713cb6b-5ecf-4e9c-a0b5-a7455a2a1f90"
      },
      "execution_count": 41,
      "outputs": [
        {
          "output_type": "error",
          "ename": "ValueError",
          "evalue": "invalid literal for int() with base 10: 'ali'",
          "traceback": [
            "\u001b[0;31m---------------------------------------------------------------------------\u001b[0m",
            "\u001b[0;31mValueError\u001b[0m                                Traceback (most recent call last)",
            "\u001b[0;32m<ipython-input-41-58b92d22bcd8>\u001b[0m in \u001b[0;36m<cell line: 3>\u001b[0;34m()\u001b[0m\n\u001b[1;32m      1\u001b[0m \u001b[0;31m# str ---> int\u001b[0m\u001b[0;34m\u001b[0m\u001b[0;34m\u001b[0m\u001b[0m\n\u001b[1;32m      2\u001b[0m \u001b[0mx\u001b[0m \u001b[0;34m=\u001b[0m \u001b[0;34m'ali'\u001b[0m\u001b[0;34m\u001b[0m\u001b[0;34m\u001b[0m\u001b[0m\n\u001b[0;32m----> 3\u001b[0;31m \u001b[0mx\u001b[0m \u001b[0;34m=\u001b[0m \u001b[0mint\u001b[0m\u001b[0;34m(\u001b[0m\u001b[0mx\u001b[0m\u001b[0;34m)\u001b[0m\u001b[0;34m\u001b[0m\u001b[0;34m\u001b[0m\u001b[0m\n\u001b[0m\u001b[1;32m      4\u001b[0m \u001b[0mprint\u001b[0m\u001b[0;34m(\u001b[0m\u001b[0mtype\u001b[0m\u001b[0;34m(\u001b[0m\u001b[0mx\u001b[0m\u001b[0;34m)\u001b[0m\u001b[0;34m)\u001b[0m\u001b[0;34m\u001b[0m\u001b[0;34m\u001b[0m\u001b[0m\n",
            "\u001b[0;31mValueError\u001b[0m: invalid literal for int() with base 10: 'ali'"
          ]
        }
      ]
    },
    {
      "cell_type": "code",
      "source": [
        "x = '10'\n",
        "print(type(x))\n",
        "x = int(x)\n",
        "print(type(x))"
      ],
      "metadata": {
        "colab": {
          "base_uri": "https://localhost:8080/"
        },
        "id": "MuZUZ9vPnPrX",
        "outputId": "bf4cb685-ae02-466f-c4c7-31835491c2c8"
      },
      "execution_count": 43,
      "outputs": [
        {
          "output_type": "stream",
          "name": "stdout",
          "text": [
            "<class 'str'>\n",
            "<class 'int'>\n"
          ]
        }
      ]
    },
    {
      "cell_type": "code",
      "source": [
        "x = '10'\n",
        "x + x"
      ],
      "metadata": {
        "colab": {
          "base_uri": "https://localhost:8080/",
          "height": 35
        },
        "id": "SUZOimranqr5",
        "outputId": "ed916de0-9f6d-4268-af69-65806c83fd84"
      },
      "execution_count": 44,
      "outputs": [
        {
          "output_type": "execute_result",
          "data": {
            "text/plain": [
              "'1010'"
            ],
            "application/vnd.google.colaboratory.intrinsic+json": {
              "type": "string"
            }
          },
          "metadata": {},
          "execution_count": 44
        }
      ]
    },
    {
      "cell_type": "code",
      "source": [
        "x = '10'\n",
        "x = int(x)\n",
        "x + x"
      ],
      "metadata": {
        "colab": {
          "base_uri": "https://localhost:8080/"
        },
        "id": "Vo6mfEhhnuZ8",
        "outputId": "6298260f-6c1f-4017-cc70-c9ee1549f4ce"
      },
      "execution_count": 45,
      "outputs": [
        {
          "output_type": "execute_result",
          "data": {
            "text/plain": [
              "20"
            ]
          },
          "metadata": {},
          "execution_count": 45
        }
      ]
    },
    {
      "cell_type": "markdown",
      "source": [
        "## built-in functions"
      ],
      "metadata": {
        "id": "6BatiEa4-L3Q"
      }
    },
    {
      "cell_type": "markdown",
      "source": [
        "### len()"
      ],
      "metadata": {
        "id": "SKZZbxOs-Sds"
      }
    },
    {
      "cell_type": "code",
      "source": [
        "len(my_list)"
      ],
      "metadata": {
        "id": "It8LEOVQ-LYt",
        "colab": {
          "base_uri": "https://localhost:8080/"
        },
        "outputId": "42747db7-7bd1-49fe-e166-0779f55716cc"
      },
      "execution_count": 46,
      "outputs": [
        {
          "output_type": "execute_result",
          "data": {
            "text/plain": [
              "3"
            ]
          },
          "metadata": {},
          "execution_count": 46
        }
      ]
    },
    {
      "cell_type": "code",
      "source": [
        "len(my_tuple)"
      ],
      "metadata": {
        "colab": {
          "base_uri": "https://localhost:8080/"
        },
        "id": "DcmdR74PoeWc",
        "outputId": "59f15600-4e00-43ac-f13e-66af447cf6e7"
      },
      "execution_count": 47,
      "outputs": [
        {
          "output_type": "execute_result",
          "data": {
            "text/plain": [
              "4"
            ]
          },
          "metadata": {},
          "execution_count": 47
        }
      ]
    },
    {
      "cell_type": "markdown",
      "source": [
        "### max()"
      ],
      "metadata": {
        "id": "XR6K_0Su-T00"
      }
    },
    {
      "cell_type": "code",
      "source": [
        "max(my_tuple)"
      ],
      "metadata": {
        "id": "-gHmRQt1-WFB",
        "colab": {
          "base_uri": "https://localhost:8080/"
        },
        "outputId": "c13c531b-73d4-41f7-dfbd-c10938976370"
      },
      "execution_count": 49,
      "outputs": [
        {
          "output_type": "execute_result",
          "data": {
            "text/plain": [
              "14"
            ]
          },
          "metadata": {},
          "execution_count": 49
        }
      ]
    },
    {
      "cell_type": "code",
      "source": [
        "my_tuple4"
      ],
      "metadata": {
        "colab": {
          "base_uri": "https://localhost:8080/",
          "height": 141
        },
        "id": "QT2NHeg3opOW",
        "outputId": "e689d2ea-c0c8-4707-9350-705b2669c8c7"
      },
      "execution_count": 50,
      "outputs": [
        {
          "output_type": "error",
          "ename": "NameError",
          "evalue": "name 'my_tuple4' is not defined",
          "traceback": [
            "\u001b[0;31m---------------------------------------------------------------------------\u001b[0m",
            "\u001b[0;31mNameError\u001b[0m                                 Traceback (most recent call last)",
            "\u001b[0;32m<ipython-input-50-6fad433d8938>\u001b[0m in \u001b[0;36m<cell line: 1>\u001b[0;34m()\u001b[0m\n\u001b[0;32m----> 1\u001b[0;31m \u001b[0mmy_tuple4\u001b[0m\u001b[0;34m\u001b[0m\u001b[0;34m\u001b[0m\u001b[0m\n\u001b[0m",
            "\u001b[0;31mNameError\u001b[0m: name 'my_tuple4' is not defined"
          ]
        }
      ]
    },
    {
      "cell_type": "markdown",
      "source": [
        "### min()"
      ],
      "metadata": {
        "id": "PO8Pbla--Wcs"
      }
    },
    {
      "cell_type": "code",
      "source": [
        "min(my_tuple)"
      ],
      "metadata": {
        "id": "0lJAHFx0-YC5",
        "colab": {
          "base_uri": "https://localhost:8080/"
        },
        "outputId": "32f98168-cda1-476b-b60e-373cd27b8254"
      },
      "execution_count": 51,
      "outputs": [
        {
          "output_type": "execute_result",
          "data": {
            "text/plain": [
              "8"
            ]
          },
          "metadata": {},
          "execution_count": 51
        }
      ]
    },
    {
      "cell_type": "markdown",
      "source": [
        "### sorted()"
      ],
      "metadata": {
        "id": "GBCcy4bY-fzQ"
      }
    },
    {
      "cell_type": "code",
      "source": [
        "sorted(my_tuple)"
      ],
      "metadata": {
        "id": "3K2ZBwpI-ghA",
        "colab": {
          "base_uri": "https://localhost:8080/"
        },
        "outputId": "4d53bfc3-20aa-4bf8-82a5-0783c05bedd5"
      },
      "execution_count": 52,
      "outputs": [
        {
          "output_type": "execute_result",
          "data": {
            "text/plain": [
              "[8, 9, 10, 14]"
            ]
          },
          "metadata": {},
          "execution_count": 52
        }
      ]
    },
    {
      "cell_type": "code",
      "source": [
        "sorted(my_tuple, reverse=True)"
      ],
      "metadata": {
        "colab": {
          "base_uri": "https://localhost:8080/"
        },
        "id": "egd_vi2ppAX_",
        "outputId": "d5781797-fd2c-4e96-daa3-5f23b8a37948"
      },
      "execution_count": 53,
      "outputs": [
        {
          "output_type": "execute_result",
          "data": {
            "text/plain": [
              "[14, 10, 9, 8]"
            ]
          },
          "metadata": {},
          "execution_count": 53
        }
      ]
    },
    {
      "cell_type": "code",
      "source": [
        "sorted(my_list)"
      ],
      "metadata": {
        "colab": {
          "base_uri": "https://localhost:8080/"
        },
        "id": "EK9AZG1hpIp5",
        "outputId": "8929194f-7d57-4a75-e7a4-76758792327b"
      },
      "execution_count": 54,
      "outputs": [
        {
          "output_type": "execute_result",
          "data": {
            "text/plain": [
              "['ali', 'mamad', 'reza']"
            ]
          },
          "metadata": {},
          "execution_count": 54
        }
      ]
    }
  ]
}