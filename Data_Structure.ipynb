{
  "nbformat": 4,
  "nbformat_minor": 0,
  "metadata": {
    "colab": {
      "provenance": [],
      "toc_visible": true,
      "authorship_tag": "ABX9TyPADcSFAIQJ1KrPuPtgaP8C",
      "include_colab_link": true
    },
    "kernelspec": {
      "name": "python3",
      "display_name": "Python 3"
    },
    "language_info": {
      "name": "python"
    }
  },
  "cells": [
    {
      "cell_type": "markdown",
      "metadata": {
        "id": "view-in-github",
        "colab_type": "text"
      },
      "source": [
        "<a href=\"https://colab.research.google.com/github/alirezasaharkhiz9/MyPythonWorkshop-at-FerdowsiUniversity/blob/main/Data_Structure.ipynb\" target=\"_parent\"><img src=\"https://colab.research.google.com/assets/colab-badge.svg\" alt=\"Open In Colab\"/></a>"
      ]
    },
    {
      "cell_type": "markdown",
      "source": [
        "# Data Structure\n",
        "\n",
        "in this lesson we'll learn:\n",
        "1. numbers\n",
        "2. variable\n",
        "3. string\n",
        "4. list\n",
        "5. Dictionary\n",
        "6. tuple\n",
        "7. set\n",
        "8. boolean\n",
        "9. Type Conversion\n",
        "10. built-in functions"
      ],
      "metadata": {
        "id": "iQsN3sebmM0I"
      }
    },
    {
      "cell_type": "markdown",
      "source": [
        "## numbers"
      ],
      "metadata": {
        "id": "_nQJQAXPnwKL"
      }
    },
    {
      "cell_type": "markdown",
      "source": [
        "### Types of numbers\n",
        "\n",
        "Python has various \"types\" of numbers (numeric literals). We'll mainly focus on integers and floating point numbers."
      ],
      "metadata": {
        "id": "8P941qJWpa3V"
      }
    },
    {
      "cell_type": "code",
      "execution_count": 2,
      "metadata": {
        "id": "rJy1tAQcl0eG",
        "colab": {
          "base_uri": "https://localhost:8080/"
        },
        "outputId": "e41c6f69-3bf1-44b9-861c-1adc7964a794"
      },
      "outputs": [
        {
          "output_type": "stream",
          "name": "stdout",
          "text": [
            "5\n"
          ]
        }
      ],
      "source": [
        "print(5)"
      ]
    },
    {
      "cell_type": "code",
      "source": [
        "print(5.5)"
      ],
      "metadata": {
        "colab": {
          "base_uri": "https://localhost:8080/"
        },
        "id": "3ghXqueaQOkK",
        "outputId": "5db814b2-b592-4805-e43c-7a9876849746"
      },
      "execution_count": 3,
      "outputs": [
        {
          "output_type": "stream",
          "name": "stdout",
          "text": [
            "5.5\n"
          ]
        }
      ]
    },
    {
      "cell_type": "code",
      "source": [
        "print(15.5)"
      ],
      "metadata": {
        "colab": {
          "base_uri": "https://localhost:8080/"
        },
        "id": "i1fnM6BtQUc_",
        "outputId": "6c23a03c-c71b-48f4-c27f-cb61d5d1467b"
      },
      "execution_count": 4,
      "outputs": [
        {
          "output_type": "stream",
          "name": "stdout",
          "text": [
            "15.5\n"
          ]
        }
      ]
    },
    {
      "cell_type": "markdown",
      "source": [
        "### Arithmetic"
      ],
      "metadata": {
        "id": "NJywoGrupzUf"
      }
    },
    {
      "cell_type": "code",
      "source": [
        "print(5 + 10)"
      ],
      "metadata": {
        "id": "Q5f-KhDzp2sX",
        "colab": {
          "base_uri": "https://localhost:8080/"
        },
        "outputId": "2d0c3158-9b43-40d6-d359-b6502ae34028"
      },
      "execution_count": 6,
      "outputs": [
        {
          "output_type": "stream",
          "name": "stdout",
          "text": [
            "15\n"
          ]
        }
      ]
    },
    {
      "cell_type": "code",
      "source": [
        "print(5 - 10)"
      ],
      "metadata": {
        "colab": {
          "base_uri": "https://localhost:8080/"
        },
        "id": "H-bNJiFfQwms",
        "outputId": "95801f1f-51d4-468f-ca7b-48b7c37963dd"
      },
      "execution_count": 7,
      "outputs": [
        {
          "output_type": "stream",
          "name": "stdout",
          "text": [
            "-5\n"
          ]
        }
      ]
    },
    {
      "cell_type": "code",
      "source": [
        "print(15 * 10)"
      ],
      "metadata": {
        "colab": {
          "base_uri": "https://localhost:8080/"
        },
        "id": "IaXoRBn1RAZD",
        "outputId": "f1a62c82-ba94-4f80-b354-9d627fa73bb1"
      },
      "execution_count": 8,
      "outputs": [
        {
          "output_type": "stream",
          "name": "stdout",
          "text": [
            "150\n"
          ]
        }
      ]
    },
    {
      "cell_type": "code",
      "source": [
        "print(10 / 2)"
      ],
      "metadata": {
        "colab": {
          "base_uri": "https://localhost:8080/"
        },
        "id": "4vo8_562RDC3",
        "outputId": "29c710d8-b254-416f-a919-799c7e4b9849"
      },
      "execution_count": 12,
      "outputs": [
        {
          "output_type": "stream",
          "name": "stdout",
          "text": [
            "5.0\n"
          ]
        }
      ]
    },
    {
      "cell_type": "code",
      "source": [
        "print(10 // 2)"
      ],
      "metadata": {
        "colab": {
          "base_uri": "https://localhost:8080/"
        },
        "id": "fDA52mYSRFU0",
        "outputId": "1b13848d-7f23-42d3-c73b-d8ef1b5177d8"
      },
      "execution_count": 11,
      "outputs": [
        {
          "output_type": "stream",
          "name": "stdout",
          "text": [
            "5\n"
          ]
        }
      ]
    },
    {
      "cell_type": "code",
      "source": [
        "print(9 / 2)"
      ],
      "metadata": {
        "colab": {
          "base_uri": "https://localhost:8080/"
        },
        "id": "-tfQTIeyReh_",
        "outputId": "329c4934-b5f7-4071-bc00-f39ced25b2c7"
      },
      "execution_count": 14,
      "outputs": [
        {
          "output_type": "stream",
          "name": "stdout",
          "text": [
            "4.5\n"
          ]
        }
      ]
    },
    {
      "cell_type": "code",
      "source": [
        "print(type(5.5))"
      ],
      "metadata": {
        "colab": {
          "base_uri": "https://localhost:8080/"
        },
        "id": "3P0wTMFwRlUS",
        "outputId": "371d33af-eda0-43a8-e2fa-b69dea262f63"
      },
      "execution_count": 15,
      "outputs": [
        {
          "output_type": "stream",
          "name": "stdout",
          "text": [
            "<class 'float'>\n"
          ]
        }
      ]
    },
    {
      "cell_type": "code",
      "source": [
        "print(type(5))"
      ],
      "metadata": {
        "colab": {
          "base_uri": "https://localhost:8080/"
        },
        "id": "H0K4QMTxRukp",
        "outputId": "45ecd268-1c2f-483e-f3ce-426e050dd282"
      },
      "execution_count": 16,
      "outputs": [
        {
          "output_type": "stream",
          "name": "stdout",
          "text": [
            "<class 'int'>\n"
          ]
        }
      ]
    },
    {
      "cell_type": "code",
      "source": [
        "print(5 % 10)"
      ],
      "metadata": {
        "colab": {
          "base_uri": "https://localhost:8080/"
        },
        "id": "oDS0efLFSK28",
        "outputId": "582c5a30-59bf-4bf0-d053-adc941017ede"
      },
      "execution_count": 18,
      "outputs": [
        {
          "output_type": "stream",
          "name": "stdout",
          "text": [
            "5\n"
          ]
        }
      ]
    },
    {
      "cell_type": "code",
      "source": [
        "print(10 % 10)"
      ],
      "metadata": {
        "colab": {
          "base_uri": "https://localhost:8080/"
        },
        "id": "0Jt7e2r_SoAt",
        "outputId": "801270a3-5090-4aaa-d98f-39b1e819e115"
      },
      "execution_count": 19,
      "outputs": [
        {
          "output_type": "stream",
          "name": "stdout",
          "text": [
            "0\n"
          ]
        }
      ]
    },
    {
      "cell_type": "code",
      "source": [
        "print(5 * 10 + 2 / 10)"
      ],
      "metadata": {
        "id": "FdzNsJFaSwKp"
      },
      "execution_count": null,
      "outputs": []
    },
    {
      "cell_type": "code",
      "source": [
        "print(5 * (10 + 2) / 10)"
      ],
      "metadata": {
        "id": "uZwaza0wTKTn"
      },
      "execution_count": null,
      "outputs": []
    },
    {
      "cell_type": "markdown",
      "source": [
        "## variable\n",
        "\n",
        "We use a single equals sign to assign labels to variables. Let's see a few examples of how we can do this.\n",
        "\n"
      ],
      "metadata": {
        "id": "IdUvY5h_nyql"
      }
    },
    {
      "cell_type": "markdown",
      "source": [
        "### Rules for variable names\n",
        "- names can not start with a number\n",
        "- names can not contain spaces, use _ intead\n",
        "- names can not contain any of these symbols:\n",
        "\n",
        "    :'\",<>/?|\\!@#%^&*~-+\n",
        "- it's considered best practice (PEP8) that names are lowercase with underscores\n",
        "- avoid using Python built-in keywords like list and str\n",
        "- avoid using the single characters l (lowercase letter el), O (uppercase letter oh) and I (uppercase letter eye) as they can be confused with 1 and 0"
      ],
      "metadata": {
        "id": "XrBaEz4NrJ51"
      }
    },
    {
      "cell_type": "code",
      "source": [
        "# myNumber\n",
        "# my_number\n",
        "\n",
        "# djTUWUHuw\n",
        "# number\n",
        "\n",
        "my_number = 10\n",
        "print(my_number)"
      ],
      "metadata": {
        "id": "yZSmhDSloAfo",
        "colab": {
          "base_uri": "https://localhost:8080/"
        },
        "outputId": "8629a111-7acd-46bf-c0bd-cf688f29f9cc"
      },
      "execution_count": 21,
      "outputs": [
        {
          "output_type": "stream",
          "name": "stdout",
          "text": [
            "10\n"
          ]
        }
      ]
    },
    {
      "cell_type": "code",
      "source": [
        "my_number = 15 * 510 + 4 - 10\n",
        "print(my_number)"
      ],
      "metadata": {
        "colab": {
          "base_uri": "https://localhost:8080/"
        },
        "id": "LKxVWHOUVD8P",
        "outputId": "d1ada01d-2527-42dd-b236-82eb8580571a"
      },
      "execution_count": 25,
      "outputs": [
        {
          "output_type": "stream",
          "name": "stdout",
          "text": [
            "7644\n"
          ]
        }
      ]
    },
    {
      "cell_type": "code",
      "source": [
        "print(my_number + 5)"
      ],
      "metadata": {
        "colab": {
          "base_uri": "https://localhost:8080/"
        },
        "id": "jWX_-hhSVtBb",
        "outputId": "165d0c80-b3f9-4d50-b690-4cb38469d211"
      },
      "execution_count": 26,
      "outputs": [
        {
          "output_type": "stream",
          "name": "stdout",
          "text": [
            "7649\n"
          ]
        }
      ]
    },
    {
      "cell_type": "code",
      "source": [
        "Print(4)"
      ],
      "metadata": {
        "colab": {
          "base_uri": "https://localhost:8080/",
          "height": 141
        },
        "id": "4nmSEgXaUt-t",
        "outputId": "9c73d55c-defd-4d7f-b2e6-e3a80519116c"
      },
      "execution_count": 20,
      "outputs": [
        {
          "output_type": "error",
          "ename": "NameError",
          "evalue": "name 'Print' is not defined",
          "traceback": [
            "\u001b[0;31m---------------------------------------------------------------------------\u001b[0m",
            "\u001b[0;31mNameError\u001b[0m                                 Traceback (most recent call last)",
            "\u001b[0;32m<ipython-input-20-868d479656f0>\u001b[0m in \u001b[0;36m<cell line: 1>\u001b[0;34m()\u001b[0m\n\u001b[0;32m----> 1\u001b[0;31m \u001b[0mPrint\u001b[0m\u001b[0;34m(\u001b[0m\u001b[0;36m4\u001b[0m\u001b[0;34m)\u001b[0m\u001b[0;34m\u001b[0m\u001b[0;34m\u001b[0m\u001b[0m\n\u001b[0m",
            "\u001b[0;31mNameError\u001b[0m: name 'Print' is not defined"
          ]
        }
      ]
    },
    {
      "cell_type": "markdown",
      "source": [
        "### Dynamic Typing"
      ],
      "metadata": {
        "id": "TpKPdy97rr3s"
      }
    },
    {
      "cell_type": "code",
      "source": [
        "number = 15\n",
        "number = 47\n",
        "print(number)"
      ],
      "metadata": {
        "id": "d41tBfXTrvmO",
        "colab": {
          "base_uri": "https://localhost:8080/"
        },
        "outputId": "ba5f5b88-b95a-4f52-8a7b-58a705a8236e"
      },
      "execution_count": 28,
      "outputs": [
        {
          "output_type": "stream",
          "name": "stdout",
          "text": [
            "47\n"
          ]
        }
      ]
    },
    {
      "cell_type": "code",
      "source": [
        "print(number * 10)\n",
        "print(number)\n",
        "\n",
        "number = number * 10\n",
        "print(number)"
      ],
      "metadata": {
        "colab": {
          "base_uri": "https://localhost:8080/"
        },
        "id": "b4zlRxhgVk-c",
        "outputId": "d48a0f98-5851-4e42-be63-3ed5bd829339"
      },
      "execution_count": 30,
      "outputs": [
        {
          "output_type": "stream",
          "name": "stdout",
          "text": [
            "470\n",
            "47\n",
            "470\n"
          ]
        }
      ]
    },
    {
      "cell_type": "code",
      "source": [
        "print(number + my_number)"
      ],
      "metadata": {
        "colab": {
          "base_uri": "https://localhost:8080/"
        },
        "id": "GjohH_n3V3qn",
        "outputId": "20123d11-c64e-4b84-fe4a-c4bb7e04ab5f"
      },
      "execution_count": 27,
      "outputs": [
        {
          "output_type": "stream",
          "name": "stdout",
          "text": [
            "7691\n"
          ]
        }
      ]
    },
    {
      "cell_type": "markdown",
      "source": [
        "### variable type with type()"
      ],
      "metadata": {
        "id": "D46P45tsr3kC"
      }
    },
    {
      "cell_type": "code",
      "source": [
        "print(   type(number)   )"
      ],
      "metadata": {
        "id": "jDdbWM4Lr48F",
        "colab": {
          "base_uri": "https://localhost:8080/"
        },
        "outputId": "ca3385c7-227f-4551-8471-8a3a91bb2d8f"
      },
      "execution_count": 31,
      "outputs": [
        {
          "output_type": "stream",
          "name": "stdout",
          "text": [
            "<class 'int'>\n"
          ]
        }
      ]
    },
    {
      "cell_type": "code",
      "source": [
        "type_number = type(number)\n",
        "print(type_number)"
      ],
      "metadata": {
        "colab": {
          "base_uri": "https://localhost:8080/"
        },
        "id": "vf3Qv8XlX11j",
        "outputId": "786cecef-bc98-458f-b003-d6ecff97380c"
      },
      "execution_count": 32,
      "outputs": [
        {
          "output_type": "stream",
          "name": "stdout",
          "text": [
            "<class 'int'>\n"
          ]
        }
      ]
    },
    {
      "cell_type": "markdown",
      "source": [
        "## string\n",
        "Strings are used in Python to record text information, such as names. Strings in Python are actually a sequence, which basically means Python keeps track of every element in the string as a sequence. For example, Python understands the string \"hello' to be a sequence of letters in a specific order. This means we will be able to use indexing to grab particular letters (like the first letter, or the last letter)."
      ],
      "metadata": {
        "id": "AA70cAQun1of"
      }
    },
    {
      "cell_type": "markdown",
      "source": [
        "### Creating a String"
      ],
      "metadata": {
        "id": "ZsQjv_UKsh8C"
      }
    },
    {
      "cell_type": "code",
      "source": [],
      "metadata": {
        "id": "bDlWTX1BoBGD"
      },
      "execution_count": null,
      "outputs": []
    },
    {
      "cell_type": "markdown",
      "source": [
        "### String Indexing"
      ],
      "metadata": {
        "id": "3dUia6dWskF3"
      }
    },
    {
      "cell_type": "code",
      "source": [],
      "metadata": {
        "id": "8iUOFzsYssCE"
      },
      "execution_count": null,
      "outputs": []
    },
    {
      "cell_type": "markdown",
      "source": [
        "### String Slicing"
      ],
      "metadata": {
        "id": "0kFCS3x_suFm"
      }
    },
    {
      "cell_type": "code",
      "source": [],
      "metadata": {
        "id": "Ped6N7Gds0ZH"
      },
      "execution_count": null,
      "outputs": []
    },
    {
      "cell_type": "markdown",
      "source": [
        "### String Properties\n",
        "It's important to note that strings have an important property known as immutability. This means that once a string is created, the elements within it can not be changed or replaced."
      ],
      "metadata": {
        "id": "uj3g620ZujYo"
      }
    },
    {
      "cell_type": "code",
      "source": [],
      "metadata": {
        "id": "BM2ToUzTumx3"
      },
      "execution_count": null,
      "outputs": []
    },
    {
      "cell_type": "markdown",
      "source": [
        "### Methods\n",
        "Objects in Python usually have built-in methods. These methods are functions inside the object (we will learn about these in much more depth later) that can perform actions or commands on the object itself.\n",
        "\n",
        "We call methods with a period and then the method name. Methods are in the form:\n",
        "\n",
        "object.method(parameters)"
      ],
      "metadata": {
        "id": "NSAbS5YvvSTe"
      }
    },
    {
      "cell_type": "code",
      "source": [],
      "metadata": {
        "id": "fbUuIocqvVoY"
      },
      "execution_count": 21,
      "outputs": []
    },
    {
      "cell_type": "markdown",
      "source": [
        "### f String"
      ],
      "metadata": {
        "id": "mjGuR_HVwRcX"
      }
    },
    {
      "cell_type": "code",
      "source": [],
      "metadata": {
        "id": "qlyNorb0wUdJ"
      },
      "execution_count": null,
      "outputs": []
    },
    {
      "cell_type": "markdown",
      "source": [
        "## list\n",
        "Earlier when discussing strings we introduced the concept of a sequence in Python. Lists can be thought of the most general version of a sequence in Python. Unlike strings, they are mutable, meaning the elements inside a list can be changed!"
      ],
      "metadata": {
        "id": "PsCzhPYen4ho"
      }
    },
    {
      "cell_type": "markdown",
      "source": [
        "### Creating lists"
      ],
      "metadata": {
        "id": "DeakAx21xAX_"
      }
    },
    {
      "cell_type": "code",
      "source": [],
      "metadata": {
        "id": "18qF9nFtoBeV"
      },
      "execution_count": null,
      "outputs": []
    },
    {
      "cell_type": "markdown",
      "source": [
        "### Indexing and Slicing"
      ],
      "metadata": {
        "id": "jsnkN-UyxBkv"
      }
    },
    {
      "cell_type": "code",
      "source": [],
      "metadata": {
        "id": "ZlcFlQ9CxI_g"
      },
      "execution_count": null,
      "outputs": []
    },
    {
      "cell_type": "markdown",
      "source": [
        "### Methods"
      ],
      "metadata": {
        "id": "up2oxMZJxJgA"
      }
    },
    {
      "cell_type": "code",
      "source": [],
      "metadata": {
        "id": "LrZxlwsWxMgv"
      },
      "execution_count": 24,
      "outputs": []
    },
    {
      "cell_type": "markdown",
      "source": [
        "### List Properties"
      ],
      "metadata": {
        "id": "wXQTmKWwxdMb"
      }
    },
    {
      "cell_type": "code",
      "source": [],
      "metadata": {
        "id": "n6rYBG85xgY3"
      },
      "execution_count": null,
      "outputs": []
    },
    {
      "cell_type": "markdown",
      "source": [
        "## Dictionary"
      ],
      "metadata": {
        "id": "PdwWp7tOn7pA"
      }
    },
    {
      "cell_type": "markdown",
      "source": [
        "### Creating Dict"
      ],
      "metadata": {
        "id": "9kyC2UQYxzM8"
      }
    },
    {
      "cell_type": "code",
      "source": [],
      "metadata": {
        "id": "ZhxFch3IoB8C"
      },
      "execution_count": null,
      "outputs": []
    },
    {
      "cell_type": "markdown",
      "source": [
        "### Methods"
      ],
      "metadata": {
        "id": "HoH4cxhgx8lk"
      }
    },
    {
      "cell_type": "code",
      "source": [],
      "metadata": {
        "id": "FMFY3apSx-aV"
      },
      "execution_count": 31,
      "outputs": []
    },
    {
      "cell_type": "markdown",
      "source": [
        "## tuple\n",
        "In Python tuples are very similar to lists, however, unlike lists they are immutable meaning they can not be changed. You would use tuples to present things that shouldn't be changed, such as days of the week, or dates on a calendar."
      ],
      "metadata": {
        "id": "CD4FFRkfn_j8"
      }
    },
    {
      "cell_type": "markdown",
      "source": [
        "### Creating tuple"
      ],
      "metadata": {
        "id": "FNHOSVIXyLFS"
      }
    },
    {
      "cell_type": "code",
      "source": [],
      "metadata": {
        "id": "U0RUDiZpyI5e"
      },
      "execution_count": null,
      "outputs": []
    },
    {
      "cell_type": "markdown",
      "source": [
        "### Immutability"
      ],
      "metadata": {
        "id": "KSCOBLA1yRM3"
      }
    },
    {
      "cell_type": "code",
      "source": [],
      "metadata": {
        "id": "BpCB6w85oCbD"
      },
      "execution_count": null,
      "outputs": []
    },
    {
      "cell_type": "markdown",
      "source": [
        "### Methods"
      ],
      "metadata": {
        "id": "PbyHHeTGyWx_"
      }
    },
    {
      "cell_type": "code",
      "source": [],
      "metadata": {
        "id": "3L8HVfV6yZC5"
      },
      "execution_count": null,
      "outputs": []
    },
    {
      "cell_type": "markdown",
      "source": [
        "## set"
      ],
      "metadata": {
        "id": "Jp1184XeoHI6"
      }
    },
    {
      "cell_type": "markdown",
      "source": [
        "### Creating set"
      ],
      "metadata": {
        "id": "A3A57LG1ynRI"
      }
    },
    {
      "cell_type": "code",
      "source": [],
      "metadata": {
        "id": "wZHNimVkoGXo"
      },
      "execution_count": 35,
      "outputs": []
    },
    {
      "cell_type": "markdown",
      "source": [
        "### Methods"
      ],
      "metadata": {
        "id": "P2ThpUCcyp7-"
      }
    },
    {
      "cell_type": "code",
      "source": [],
      "metadata": {
        "id": "cup7Vlc3yr_0"
      },
      "execution_count": null,
      "outputs": []
    },
    {
      "cell_type": "markdown",
      "source": [
        "## boolean\n",
        "Python comes with Booleans (with predefined True and False displays that are basically just the integers 1 and 0)"
      ],
      "metadata": {
        "id": "ZfNR8mMjoIaH"
      }
    },
    {
      "cell_type": "code",
      "source": [],
      "metadata": {
        "id": "xz29SyH-oKdA"
      },
      "execution_count": null,
      "outputs": []
    },
    {
      "cell_type": "markdown",
      "source": [
        "## Type Conversion"
      ],
      "metadata": {
        "id": "pGe-Wayg92-O"
      }
    },
    {
      "cell_type": "code",
      "source": [],
      "metadata": {
        "id": "XM3USlfa94KW"
      },
      "execution_count": null,
      "outputs": []
    },
    {
      "cell_type": "markdown",
      "source": [
        "## built-in functions"
      ],
      "metadata": {
        "id": "6BatiEa4-L3Q"
      }
    },
    {
      "cell_type": "markdown",
      "source": [
        "### len()"
      ],
      "metadata": {
        "id": "SKZZbxOs-Sds"
      }
    },
    {
      "cell_type": "code",
      "source": [],
      "metadata": {
        "id": "It8LEOVQ-LYt"
      },
      "execution_count": null,
      "outputs": []
    },
    {
      "cell_type": "markdown",
      "source": [
        "### max()"
      ],
      "metadata": {
        "id": "XR6K_0Su-T00"
      }
    },
    {
      "cell_type": "code",
      "source": [],
      "metadata": {
        "id": "-gHmRQt1-WFB"
      },
      "execution_count": null,
      "outputs": []
    },
    {
      "cell_type": "markdown",
      "source": [
        "### min()"
      ],
      "metadata": {
        "id": "PO8Pbla--Wcs"
      }
    },
    {
      "cell_type": "code",
      "source": [],
      "metadata": {
        "id": "0lJAHFx0-YC5"
      },
      "execution_count": null,
      "outputs": []
    },
    {
      "cell_type": "markdown",
      "source": [
        "### sorted()"
      ],
      "metadata": {
        "id": "GBCcy4bY-fzQ"
      }
    },
    {
      "cell_type": "code",
      "source": [],
      "metadata": {
        "id": "3K2ZBwpI-ghA"
      },
      "execution_count": null,
      "outputs": []
    }
  ]
}