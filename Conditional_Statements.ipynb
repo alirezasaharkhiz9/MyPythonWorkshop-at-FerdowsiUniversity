{
  "nbformat": 4,
  "nbformat_minor": 0,
  "metadata": {
    "colab": {
      "provenance": [],
      "authorship_tag": "ABX9TyNcEAlPOo0XBLwTMyve9Lrf",
      "include_colab_link": true
    },
    "kernelspec": {
      "name": "python3",
      "display_name": "Python 3"
    },
    "language_info": {
      "name": "python"
    }
  },
  "cells": [
    {
      "cell_type": "markdown",
      "metadata": {
        "id": "view-in-github",
        "colab_type": "text"
      },
      "source": [
        "<a href=\"https://colab.research.google.com/github/alirezasaharkhiz9/MyPythonWorkshop-at-FerdowsiUniversity/blob/main/Conditional_Statements.ipynb\" target=\"_parent\"><img src=\"https://colab.research.google.com/assets/colab-badge.svg\" alt=\"Open In Colab\"/></a>"
      ]
    },
    {
      "cell_type": "markdown",
      "source": [
        "# Conditional Statements\n",
        "\n",
        "in this lesson we'll learn:\n",
        "1. Comparison Operators\n",
        "2. Chained Comparison Operators\n",
        "3. Useful Operators\n",
        "4. if\n",
        "5. elif\n",
        "6. else\n"
      ],
      "metadata": {
        "id": "aolpumWI4UvA"
      }
    },
    {
      "cell_type": "markdown",
      "source": [
        "## Comparison Operators\n",
        "In this lecture we will be learning about Comparison Operators in Python. These operators will allow us to compare variables and output a Boolean value (True or False). If you have any sort of background in Math, these operators should be very straight forward. First we'll present a table of the comparison operators and then work through some examples: <h3> Table of Comparison Operators </h3><p>  In the table below, a=3 and b=4.</p> <table class=\"table table-bordered\"> <tr> <th style=\"width:10%\">Operator</th><th style=\"width:45%\">Description</th><th>Example</th> </tr> <tr> <td>==</td> <td>If the values of two operands are equal, then the condition becomes true.</td> <td> (a == b) is not true.</td> </tr> <tr> <td>!=</td> <td>If values of two operands are not equal, then condition becomes true.</td> <td>(a != b) is true</td> </tr> <tr> <td>&gt;</td> <td>If the value of left operand is greater than the value of right operand, then condition becomes true.</td> <td> (a &gt; b) is not true.</td> </tr> <tr> <td>&lt;</td> <td>If the value of left operand is less than the value of right operand, then condition becomes true.</td> <td> (a &lt; b) is true.</td> </tr> <tr> <td>&gt;=</td> <td>If the value of left operand is greater than or equal to the value of right operand, then condition becomes true.</td> <td> (a &gt;= b) is not true. </td> </tr> <tr> <td>&lt;=</td> <td>If the value of left operand is less than or equal to the value of right operand, then condition becomes true.</td> <td> (a &lt;= b) is true. </td> </tr> </table>"
      ],
      "metadata": {
        "id": "PrfzbYwK2SGz"
      }
    },
    {
      "cell_type": "code",
      "execution_count": null,
      "metadata": {
        "id": "71wdrXGA1MXp",
        "colab": {
          "base_uri": "https://localhost:8080/"
        },
        "outputId": "e7ceeeaf-081d-4cfa-c1b2-90921be846fa"
      },
      "outputs": [
        {
          "output_type": "execute_result",
          "data": {
            "text/plain": [
              "True"
            ]
          },
          "metadata": {},
          "execution_count": 1
        }
      ],
      "source": [
        "15 == 15"
      ]
    },
    {
      "cell_type": "code",
      "source": [
        "15 == 16"
      ],
      "metadata": {
        "colab": {
          "base_uri": "https://localhost:8080/"
        },
        "id": "JQGwhoZkqv_8",
        "outputId": "4e1a5062-211e-4904-ae0f-f99d8fece4fe"
      },
      "execution_count": null,
      "outputs": [
        {
          "output_type": "execute_result",
          "data": {
            "text/plain": [
              "False"
            ]
          },
          "metadata": {},
          "execution_count": 2
        }
      ]
    },
    {
      "cell_type": "code",
      "source": [
        "15 < 15"
      ],
      "metadata": {
        "colab": {
          "base_uri": "https://localhost:8080/"
        },
        "id": "S_dxlj4Eqxkp",
        "outputId": "7fdf6269-76ab-4202-b879-d74b72918ab6"
      },
      "execution_count": null,
      "outputs": [
        {
          "output_type": "execute_result",
          "data": {
            "text/plain": [
              "False"
            ]
          },
          "metadata": {},
          "execution_count": 3
        }
      ]
    },
    {
      "cell_type": "code",
      "source": [
        "15 <= 15"
      ],
      "metadata": {
        "colab": {
          "base_uri": "https://localhost:8080/"
        },
        "id": "Ph2QTuKhqzV4",
        "outputId": "9abcb7fa-beae-4e83-c13d-6eb51d57ab5b"
      },
      "execution_count": null,
      "outputs": [
        {
          "output_type": "execute_result",
          "data": {
            "text/plain": [
              "True"
            ]
          },
          "metadata": {},
          "execution_count": 4
        }
      ]
    },
    {
      "cell_type": "code",
      "source": [
        "15 >= 17"
      ],
      "metadata": {
        "colab": {
          "base_uri": "https://localhost:8080/"
        },
        "id": "sfiJqqgZq0-w",
        "outputId": "50863da4-c7ba-4f79-ecd0-ec102f6b9b30"
      },
      "execution_count": null,
      "outputs": [
        {
          "output_type": "execute_result",
          "data": {
            "text/plain": [
              "False"
            ]
          },
          "metadata": {},
          "execution_count": 5
        }
      ]
    },
    {
      "cell_type": "code",
      "source": [
        "x = 15 * 20\n",
        "y = 10 + 15\n",
        "x == y"
      ],
      "metadata": {
        "colab": {
          "base_uri": "https://localhost:8080/"
        },
        "id": "k9Wwu7qZq6Sb",
        "outputId": "2a80d6b9-9c7d-4103-84a1-1b5e51c737f4"
      },
      "execution_count": null,
      "outputs": [
        {
          "output_type": "execute_result",
          "data": {
            "text/plain": [
              "False"
            ]
          },
          "metadata": {},
          "execution_count": 6
        }
      ]
    },
    {
      "cell_type": "code",
      "source": [
        "15 != 16"
      ],
      "metadata": {
        "colab": {
          "base_uri": "https://localhost:8080/"
        },
        "id": "2kPHTp_CrFIB",
        "outputId": "76ab1a6f-d5cf-4cf7-9398-375224a02c42"
      },
      "execution_count": null,
      "outputs": [
        {
          "output_type": "execute_result",
          "data": {
            "text/plain": [
              "True"
            ]
          },
          "metadata": {},
          "execution_count": 7
        }
      ]
    },
    {
      "cell_type": "markdown",
      "source": [
        "## Chained Comparison Operators\n",
        "An interesting feature of Python is the ability to chain multiple comparisons to perform a more complex test. You can use these chained comparisons as shorthand for larger Boolean Expressions.\n",
        "\n",
        "In this lecture we will learn how to chain comparison operators and we will also introduce two other important statements in Python: **and** and **or**."
      ],
      "metadata": {
        "id": "yHiyAq2K5_fw"
      }
    },
    {
      "cell_type": "markdown",
      "source": [
        "## or"
      ],
      "metadata": {
        "id": "yfIQZ_d88Rkf"
      }
    },
    {
      "cell_type": "code",
      "source": [
        "(15 == 15) or (15 > 10)"
      ],
      "metadata": {
        "id": "3h_Q7IBm6CNj",
        "colab": {
          "base_uri": "https://localhost:8080/"
        },
        "outputId": "12830037-6948-4498-9045-610e70fefd0a"
      },
      "execution_count": null,
      "outputs": [
        {
          "output_type": "execute_result",
          "data": {
            "text/plain": [
              "True"
            ]
          },
          "metadata": {},
          "execution_count": 8
        }
      ]
    },
    {
      "cell_type": "code",
      "source": [
        "print(True or False)"
      ],
      "metadata": {
        "colab": {
          "base_uri": "https://localhost:8080/"
        },
        "id": "2tG3t1TorZ_a",
        "outputId": "62c024ad-aeb4-4d4d-fbef-3ba4fcaaf640"
      },
      "execution_count": null,
      "outputs": [
        {
          "output_type": "execute_result",
          "data": {
            "text/plain": [
              "True"
            ]
          },
          "metadata": {},
          "execution_count": 9
        }
      ]
    },
    {
      "cell_type": "code",
      "source": [
        "x = (15 == 15) or (15 > 10)\n",
        "print(x)"
      ],
      "metadata": {
        "colab": {
          "base_uri": "https://localhost:8080/"
        },
        "id": "ji8fqElyreTS",
        "outputId": "b999332b-d661-4ea4-a326-68b977d87f78"
      },
      "execution_count": null,
      "outputs": [
        {
          "output_type": "stream",
          "name": "stdout",
          "text": [
            "True\n"
          ]
        }
      ]
    },
    {
      "cell_type": "markdown",
      "source": [
        "## and"
      ],
      "metadata": {
        "id": "uu18X5Hz8Sw5"
      }
    },
    {
      "cell_type": "code",
      "source": [
        "True and False"
      ],
      "metadata": {
        "id": "3k5-WSKO8T97",
        "colab": {
          "base_uri": "https://localhost:8080/"
        },
        "outputId": "ca7271af-449d-44b8-cba9-e47f82e645bd"
      },
      "execution_count": null,
      "outputs": [
        {
          "output_type": "execute_result",
          "data": {
            "text/plain": [
              "False"
            ]
          },
          "metadata": {},
          "execution_count": 11
        }
      ]
    },
    {
      "cell_type": "markdown",
      "source": [
        "## Useful Operators"
      ],
      "metadata": {
        "id": "10xXHmS57gT7"
      }
    },
    {
      "cell_type": "markdown",
      "source": [
        "### in operator"
      ],
      "metadata": {
        "id": "oQtNGzSg74HU"
      }
    },
    {
      "cell_type": "code",
      "source": [
        "x = [4, 5, 10]\n",
        "4 in x\n"
      ],
      "metadata": {
        "id": "w9uMSYpn7rCh",
        "colab": {
          "base_uri": "https://localhost:8080/"
        },
        "outputId": "11020d7f-785f-480e-f454-4e352cad8233"
      },
      "execution_count": null,
      "outputs": [
        {
          "output_type": "execute_result",
          "data": {
            "text/plain": [
              "True"
            ]
          },
          "metadata": {},
          "execution_count": 12
        }
      ]
    },
    {
      "cell_type": "markdown",
      "source": [
        "### not\n"
      ],
      "metadata": {
        "id": "FUpEyt7z75s1"
      }
    },
    {
      "cell_type": "code",
      "source": [
        "4 not in x"
      ],
      "metadata": {
        "id": "DJ_qqnMk7_k2",
        "colab": {
          "base_uri": "https://localhost:8080/"
        },
        "outputId": "0f98f34c-5e56-44b7-80dc-26149bdf1b07"
      },
      "execution_count": null,
      "outputs": [
        {
          "output_type": "execute_result",
          "data": {
            "text/plain": [
              "False"
            ]
          },
          "metadata": {},
          "execution_count": 13
        }
      ]
    },
    {
      "cell_type": "markdown",
      "source": [
        "### is"
      ],
      "metadata": {
        "id": "R6LSFm6B8Agl"
      }
    },
    {
      "cell_type": "code",
      "source": [
        "15 is 15"
      ],
      "metadata": {
        "id": "A1O3oFFr8EKW",
        "colab": {
          "base_uri": "https://localhost:8080/"
        },
        "outputId": "2489d425-b98c-40ad-f3fa-fa656998fe4d"
      },
      "execution_count": null,
      "outputs": [
        {
          "output_type": "stream",
          "name": "stderr",
          "text": [
            "<>:1: SyntaxWarning: \"is\" with a literal. Did you mean \"==\"?\n",
            "<>:1: SyntaxWarning: \"is\" with a literal. Did you mean \"==\"?\n",
            "<ipython-input-14-7b449fd71a56>:1: SyntaxWarning: \"is\" with a literal. Did you mean \"==\"?\n",
            "  15 is 15\n"
          ]
        },
        {
          "output_type": "execute_result",
          "data": {
            "text/plain": [
              "True"
            ]
          },
          "metadata": {},
          "execution_count": 14
        }
      ]
    },
    {
      "cell_type": "markdown",
      "source": [
        "### is Vs =="
      ],
      "metadata": {
        "id": "KvGHc8ca8Gie"
      }
    },
    {
      "cell_type": "code",
      "source": [
        "x = [4, 6, 1]\n",
        "y = [4, 6, 1]\n",
        "z = x\n",
        "\n",
        "print(x == y)\n",
        "print(x == z)\n",
        "print(x is y)\n",
        "print(x is z)\n"
      ],
      "metadata": {
        "id": "Y42Lwzcp8OEz",
        "colab": {
          "base_uri": "https://localhost:8080/"
        },
        "outputId": "d19d63d0-931d-491c-b594-c6a91bdad924"
      },
      "execution_count": null,
      "outputs": [
        {
          "output_type": "stream",
          "name": "stdout",
          "text": [
            "True\n",
            "True\n",
            "False\n",
            "True\n"
          ]
        }
      ]
    },
    {
      "cell_type": "markdown",
      "source": [
        "## if"
      ],
      "metadata": {
        "id": "g1EqCXVK6PNh"
      }
    },
    {
      "cell_type": "code",
      "source": [
        "# if shart:\n",
        "#   dastor"
      ],
      "metadata": {
        "id": "tPFoasTr6QXp"
      },
      "execution_count": null,
      "outputs": []
    },
    {
      "cell_type": "code",
      "source": [
        "if True:\n",
        "  print('Hello')"
      ],
      "metadata": {
        "colab": {
          "base_uri": "https://localhost:8080/"
        },
        "id": "tbfYDF_zfTNw",
        "outputId": "48432360-097a-4d92-cad6-2f0503d77476"
      },
      "execution_count": 2,
      "outputs": [
        {
          "output_type": "stream",
          "name": "stdout",
          "text": [
            "Hello\n"
          ]
        }
      ]
    },
    {
      "cell_type": "code",
      "source": [
        "if False:\n",
        "  print('a')"
      ],
      "metadata": {
        "id": "-kZbBnTVfazZ"
      },
      "execution_count": 3,
      "outputs": []
    },
    {
      "cell_type": "code",
      "source": [
        "if 15 > 17:\n",
        "  print('15 > 17')"
      ],
      "metadata": {
        "id": "YQVjjLwTe2p4"
      },
      "execution_count": 1,
      "outputs": []
    },
    {
      "cell_type": "code",
      "source": [
        "x = 15\n",
        "y = 15\n",
        "if x != y:\n",
        "  print('hello')"
      ],
      "metadata": {
        "id": "9SbL6W87fvee"
      },
      "execution_count": 4,
      "outputs": []
    },
    {
      "cell_type": "code",
      "source": [
        "if x == y:\n",
        "print('hello')"
      ],
      "metadata": {
        "colab": {
          "base_uri": "https://localhost:8080/",
          "height": 106
        },
        "id": "acQooaBWgCE4",
        "outputId": "4d9cc616-23da-41d1-af6f-0f34f5be8c08"
      },
      "execution_count": 5,
      "outputs": [
        {
          "output_type": "error",
          "ename": "IndentationError",
          "evalue": "expected an indented block after 'if' statement on line 1 (<ipython-input-5-92a15ab4f63d>, line 2)",
          "traceback": [
            "\u001b[0;36m  File \u001b[0;32m\"<ipython-input-5-92a15ab4f63d>\"\u001b[0;36m, line \u001b[0;32m2\u001b[0m\n\u001b[0;31m    print('hello')\u001b[0m\n\u001b[0m    ^\u001b[0m\n\u001b[0;31mIndentationError\u001b[0m\u001b[0;31m:\u001b[0m expected an indented block after 'if' statement on line 1\n"
          ]
        }
      ]
    },
    {
      "cell_type": "markdown",
      "source": [
        "## elif"
      ],
      "metadata": {
        "id": "7UIiD69o6Q1H"
      }
    },
    {
      "cell_type": "code",
      "source": [
        "if 15 > 17:\n",
        "  print('15 > 17')\n",
        "elif 15 < 17:\n",
        "  print('15 < 17')\n",
        "elif 15 == 17:\n",
        "  print('15 == 17')"
      ],
      "metadata": {
        "id": "uMpXxM196SXz",
        "colab": {
          "base_uri": "https://localhost:8080/"
        },
        "outputId": "9151566c-9cf8-466c-e77c-d8a14c0809dc"
      },
      "execution_count": 6,
      "outputs": [
        {
          "output_type": "stream",
          "name": "stdout",
          "text": [
            "15 < 17\n"
          ]
        }
      ]
    },
    {
      "cell_type": "markdown",
      "source": [
        "## else"
      ],
      "metadata": {
        "id": "tCWQDVPT6Sr8"
      }
    },
    {
      "cell_type": "code",
      "source": [
        "if 15 > 17:\n",
        "  print('15 > 17')\n",
        "elif 15 < 17:\n",
        "  print('15 < 17')\n",
        "else:\n",
        "  print('15 == 17')"
      ],
      "metadata": {
        "id": "QHyfD9XG6UYG"
      },
      "execution_count": null,
      "outputs": []
    },
    {
      "cell_type": "code",
      "source": [
        "age = 18\n",
        "sex = 'male'\n",
        "if age <= 10 and sex == 'male':\n",
        "  print('kodak ast va pesar')\n",
        "elif age <= 10 and sex == 'female':\n",
        "  print('kodak ast va dokhtar')\n",
        "elif (18 <= age >=10) and sex == 'male':\n",
        "  print('nojavan ast va pesar')\n",
        "elif (age > 10 and age < 18) and sex == 'female':\n",
        "  print('nojavan ast va dokhtar')\n",
        "elif age >= 18 and sex == 'male':\n",
        "  print('bozorgsal ast va pesar')\n",
        "elif age >= 18 and sex == 'female':\n",
        "  print('bozorgsal ast va dokhtar')"
      ],
      "metadata": {
        "colab": {
          "base_uri": "https://localhost:8080/"
        },
        "id": "pFDDW-aYhjdB",
        "outputId": "3222987d-5a72-4034-e303-fea84fd80e37"
      },
      "execution_count": 10,
      "outputs": [
        {
          "output_type": "stream",
          "name": "stdout",
          "text": [
            "nojavan ast va pesar\n"
          ]
        }
      ]
    }
  ]
}