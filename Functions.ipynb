{
  "nbformat": 4,
  "nbformat_minor": 0,
  "metadata": {
    "colab": {
      "provenance": [],
      "authorship_tag": "ABX9TyP2WB2fEJmACqIhACmDa5bO",
      "include_colab_link": true
    },
    "kernelspec": {
      "name": "python3",
      "display_name": "Python 3"
    },
    "language_info": {
      "name": "python"
    }
  },
  "cells": [
    {
      "cell_type": "markdown",
      "metadata": {
        "id": "view-in-github",
        "colab_type": "text"
      },
      "source": [
        "<a href=\"https://colab.research.google.com/github/alirezasaharkhiz9/MyPythonWorkshop-at-FerdowsiUniversity/blob/main/Functions.ipynb\" target=\"_parent\"><img src=\"https://colab.research.google.com/assets/colab-badge.svg\" alt=\"Open In Colab\"/></a>"
      ]
    },
    {
      "cell_type": "markdown",
      "source": [
        "# Functions\n",
        "\n",
        "### Introduction to Functions\n",
        "This lecture will consist of explaining what a function is in Python and how to create one. Functions will be one of our main building blocks when we construct larger and larger amounts of code to solve problems.\n",
        "\n",
        "### What is a function?\n",
        "Formally, a function is a useful device that groups together a set of statements so they can be run more than once. They can also let us specify parameters that can serve as inputs to the functions.\n",
        "\n",
        "On a more fundamental level, functions allow us to not have to repeatedly write the same code again and again. If you remember back to the lessons on strings and lists, remember that we used a function len() to get the length of a string. Since checking the length of a sequence is a common task you would want to write a function that can do this repeatedly at command.\n",
        "\n",
        "Functions will be one of most basic levels of reusing code in Python, and it will also allow us to start thinking of program design (we will dive much deeper into the ideas of design when we learn about Object Oriented Programming).\n",
        "\n",
        "\n",
        "### Why even use functions?\n",
        "Put simply, you should use functions when you plan on using a block of code multiple times. The function will allow you to call the same block of code without having to write it multiple times. This in turn will allow you to create more complex Python scripts. To really understand this though, we should actually write our own functions!\n",
        "\n",
        "## Function Topics\n",
        "- def keyword\n",
        "- parameters, arguments\n",
        "- Default parameters\n",
        "- Using return\n",
        "- What is the difference between return and print?\n",
        "- DocStrings\n",
        "- Clean Code\n",
        "- *args and double *kwargs\n",
        "- Scope\n",
        "- Lambda Expressions\n",
        "- Built-in Functions"
      ],
      "metadata": {
        "id": "EoaaeMgLE_sP"
      }
    },
    {
      "cell_type": "code",
      "source": [
        "# print()\n",
        "# max()\n",
        "# sorted()"
      ],
      "metadata": {
        "id": "vT2Rmo30u_CQ"
      },
      "execution_count": null,
      "outputs": []
    },
    {
      "cell_type": "markdown",
      "source": [
        "## def keyword"
      ],
      "metadata": {
        "id": "-llpqbNSJwA9"
      }
    },
    {
      "cell_type": "code",
      "source": [
        "# def function_name():\n",
        "#   dastorat"
      ],
      "metadata": {
        "id": "_E0NbSTiv2mL"
      },
      "execution_count": null,
      "outputs": []
    },
    {
      "cell_type": "code",
      "execution_count": 2,
      "metadata": {
        "id": "saDD9dvtD-mP",
        "colab": {
          "base_uri": "https://localhost:8080/"
        },
        "outputId": "a4b1509f-13c1-4d26-ed8a-decf97cf739f"
      },
      "outputs": [
        {
          "output_type": "stream",
          "name": "stdout",
          "text": [
            "alireza saharkhiz\n"
          ]
        }
      ],
      "source": [
        "def printName():\n",
        "  print('alireza saharkhiz')\n",
        "\n",
        "printName()"
      ]
    },
    {
      "cell_type": "code",
      "source": [
        "def sum_number():\n",
        "  print(50+50)\n",
        "\n",
        "sum_number()"
      ],
      "metadata": {
        "colab": {
          "base_uri": "https://localhost:8080/"
        },
        "id": "LkOtJDkMwjzR",
        "outputId": "0d007b23-0f89-4a72-d6f8-db177d3317dc"
      },
      "execution_count": 4,
      "outputs": [
        {
          "output_type": "stream",
          "name": "stdout",
          "text": [
            "100\n"
          ]
        }
      ]
    },
    {
      "cell_type": "markdown",
      "source": [
        "## parameters, arguments"
      ],
      "metadata": {
        "id": "nQOSxLzoJyc3"
      }
    },
    {
      "cell_type": "code",
      "source": [
        "def sum_number(a, b):\n",
        "  print(a+b)\n",
        "\n",
        "sum_number(10, 20)"
      ],
      "metadata": {
        "id": "u-MW4iiJJ0mW",
        "colab": {
          "base_uri": "https://localhost:8080/"
        },
        "outputId": "9add1448-821e-4551-ae64-285ff47869a4"
      },
      "execution_count": 7,
      "outputs": [
        {
          "output_type": "stream",
          "name": "stdout",
          "text": [
            "30\n"
          ]
        }
      ]
    },
    {
      "cell_type": "code",
      "source": [
        "def sum_number(number):\n",
        "  print(number + 10)\n",
        "\n",
        "sum_number(number=210)"
      ],
      "metadata": {
        "colab": {
          "base_uri": "https://localhost:8080/"
        },
        "id": "5gYZLS96xfue",
        "outputId": "554b81a5-48b0-475a-efe3-78c5a4e8665f"
      },
      "execution_count": 9,
      "outputs": [
        {
          "output_type": "stream",
          "name": "stdout",
          "text": [
            "220\n"
          ]
        }
      ]
    },
    {
      "cell_type": "markdown",
      "source": [
        "## Default parameters"
      ],
      "metadata": {
        "id": "WbMXCdteJ0-9"
      }
    },
    {
      "cell_type": "code",
      "source": [
        "def sum_number(number=10):\n",
        "  print(number + 10)\n",
        "\n",
        "sum_number(20)"
      ],
      "metadata": {
        "id": "6OhG3XhOJ3W9",
        "colab": {
          "base_uri": "https://localhost:8080/"
        },
        "outputId": "44e3943f-a7d4-46ac-a54d-0ba611485b5d"
      },
      "execution_count": 11,
      "outputs": [
        {
          "output_type": "stream",
          "name": "stdout",
          "text": [
            "30\n"
          ]
        }
      ]
    },
    {
      "cell_type": "markdown",
      "source": [
        "## Using return\n",
        "\n",
        "So far we've only seen print() used, but if we actually want to save the resulting variable we need to use the return keyword.\n",
        "\n",
        "Let's see some example that use a return statement. return allows a function to return a result that can then be stored as a variable, or used in whatever manner a user wants."
      ],
      "metadata": {
        "id": "43qFHxzZJ3yu"
      }
    },
    {
      "cell_type": "code",
      "source": [
        "def sum_number(number):\n",
        "  return number + 10\n",
        "\n",
        "x = sum_number(20)\n",
        "print(x)"
      ],
      "metadata": {
        "id": "uXTD4l-jJ5z5",
        "colab": {
          "base_uri": "https://localhost:8080/"
        },
        "outputId": "57d6f21c-f7d9-4322-e800-efd5d6bef281"
      },
      "execution_count": 13,
      "outputs": [
        {
          "output_type": "stream",
          "name": "stdout",
          "text": [
            "30\n"
          ]
        }
      ]
    },
    {
      "cell_type": "markdown",
      "source": [
        "## What is the difference between return and print?\n",
        "\n",
        "The return keyword allows you to actually save the result of the output of a function as a variable. The print() function simply displays the output to you, but doesn't save it for future use. Let's explore this in more detail\n",
        "\n"
      ],
      "metadata": {
        "id": "e62LplEdJ6Ja"
      }
    },
    {
      "cell_type": "code",
      "source": [
        "def sum_number(number):\n",
        "  return number + 10\n",
        "\n",
        "x = sum_number(20)\n",
        "print(x)"
      ],
      "metadata": {
        "id": "jo3o-Eb7J95q",
        "colab": {
          "base_uri": "https://localhost:8080/"
        },
        "outputId": "4bc087bb-4ff1-4846-9a20-fc01ad8ad95b"
      },
      "execution_count": 15,
      "outputs": [
        {
          "output_type": "stream",
          "name": "stdout",
          "text": [
            "30\n"
          ]
        }
      ]
    },
    {
      "cell_type": "code",
      "source": [
        "def sum_number(number):\n",
        "  print(number + 10)\n",
        "\n",
        "x = sum_number(20)\n",
        "print(x)\n"
      ],
      "metadata": {
        "colab": {
          "base_uri": "https://localhost:8080/"
        },
        "id": "AK-du5gYzAvV",
        "outputId": "5ffd4ff6-fe5c-4b74-bd29-ff094430487b"
      },
      "execution_count": 14,
      "outputs": [
        {
          "output_type": "stream",
          "name": "stdout",
          "text": [
            "30\n",
            "None\n"
          ]
        }
      ]
    },
    {
      "cell_type": "markdown",
      "source": [
        "## DocStrings"
      ],
      "metadata": {
        "id": "Frnj8Y69J-N_"
      }
    },
    {
      "cell_type": "code",
      "source": [],
      "metadata": {
        "id": "kNRiNc_sKCXg"
      },
      "execution_count": null,
      "outputs": []
    },
    {
      "cell_type": "markdown",
      "source": [
        "## Clean Code"
      ],
      "metadata": {
        "id": "mQ2RV0oQKCrp"
      }
    },
    {
      "cell_type": "code",
      "source": [],
      "metadata": {
        "id": "oIp92yUcKGVU"
      },
      "execution_count": null,
      "outputs": []
    },
    {
      "cell_type": "markdown",
      "source": [
        "## args and kwargs\n",
        "\n",
        "args: When a function parameter starts with an asterisk, it allows for an arbitrary number of arguments, and the function takes them in as a tuple of values.\n",
        "\n",
        "kwargs: Similarly, Python offers a way to handle arbitrary numbers of keyworded arguments. Instead of creating a tuple of values, **kwargs builds a dictionary of key/value pairs."
      ],
      "metadata": {
        "id": "yicgrNAEKF9_"
      }
    },
    {
      "cell_type": "code",
      "source": [],
      "metadata": {
        "id": "hmky6Sb3KLEq"
      },
      "execution_count": null,
      "outputs": []
    },
    {
      "cell_type": "markdown",
      "source": [
        "## Scope"
      ],
      "metadata": {
        "id": "9J1ACpSqKNVw"
      }
    },
    {
      "cell_type": "code",
      "source": [],
      "metadata": {
        "id": "PFCNV4qNKOSu"
      },
      "execution_count": null,
      "outputs": []
    },
    {
      "cell_type": "markdown",
      "source": [
        "## Lambda Expressions\n",
        "One of Pythons most useful (and for beginners, confusing) tools is the lambda expression. lambda expressions allow us to create \"anonymous\" functions. This basically means we can quickly make ad-hoc functions without needing to properly define a function using def."
      ],
      "metadata": {
        "id": "aiLMJXa1KQYG"
      }
    },
    {
      "cell_type": "code",
      "source": [],
      "metadata": {
        "id": "sSgBVbAkKRdU"
      },
      "execution_count": null,
      "outputs": []
    },
    {
      "cell_type": "markdown",
      "source": [
        "## Built-in Functions"
      ],
      "metadata": {
        "id": "ZMvBpjWhKT7H"
      }
    },
    {
      "cell_type": "markdown",
      "source": [
        "### map()"
      ],
      "metadata": {
        "id": "WSFGfQLuL8lC"
      }
    },
    {
      "cell_type": "code",
      "source": [],
      "metadata": {
        "id": "kkSQ8bqOKUzU"
      },
      "execution_count": null,
      "outputs": []
    },
    {
      "cell_type": "markdown",
      "source": [
        "### filter()"
      ],
      "metadata": {
        "id": "33n8u2v7L-2m"
      }
    },
    {
      "cell_type": "code",
      "source": [],
      "metadata": {
        "id": "tO3Hy7MxMCEy"
      },
      "execution_count": null,
      "outputs": []
    }
  ]
}