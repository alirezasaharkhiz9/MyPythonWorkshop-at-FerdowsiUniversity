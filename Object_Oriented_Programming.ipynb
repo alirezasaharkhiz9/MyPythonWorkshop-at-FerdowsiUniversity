{
  "nbformat": 4,
  "nbformat_minor": 0,
  "metadata": {
    "colab": {
      "provenance": [],
      "toc_visible": true,
      "authorship_tag": "ABX9TyNkHXmYbqCMZZOMEzrkb+Ok",
      "include_colab_link": true
    },
    "kernelspec": {
      "name": "python3",
      "display_name": "Python 3"
    },
    "language_info": {
      "name": "python"
    }
  },
  "cells": [
    {
      "cell_type": "markdown",
      "metadata": {
        "id": "view-in-github",
        "colab_type": "text"
      },
      "source": [
        "<a href=\"https://colab.research.google.com/github/alirezasaharkhiz9/MyPythonWorkshop-at-FerdowsiUniversity/blob/main/Object_Oriented_Programming.ipynb\" target=\"_parent\"><img src=\"https://colab.research.google.com/assets/colab-badge.svg\" alt=\"Open In Colab\"/></a>"
      ]
    },
    {
      "cell_type": "markdown",
      "source": [
        "# Object Oriented Programming\n",
        "\n",
        "in this lesson we'll learn:\n",
        "- class keyword\n",
        "- Attributes\n",
        "- Methods\n",
        "- classmethod\n",
        "- staticmethods\n",
        "- Private Variables\n",
        "- Properties\n",
        "- Inheritance\n",
        "- Special Methods\n"
      ],
      "metadata": {
        "id": "hQFdotKLVVTo"
      }
    },
    {
      "cell_type": "markdown",
      "source": [
        "## class keyword\n",
        "User defined objects are created using the class keyword. The class is a blueprint that defines the nature of a future object. From classes we can construct instances. An instance is a specific object created from a particular class.\n"
      ],
      "metadata": {
        "id": "WuyZ-FDPVwox"
      }
    },
    {
      "cell_type": "code",
      "execution_count": null,
      "metadata": {
        "id": "0Xf-uoSRRsSv",
        "colab": {
          "base_uri": "https://localhost:8080/"
        },
        "outputId": "3d072cfa-95f3-48ac-8f33-fdb74dd1e814"
      },
      "outputs": [
        {
          "output_type": "stream",
          "name": "stdout",
          "text": [
            "<class 'list'>\n",
            "[0, 1, 2, 3, 4, 5, 6, 7, 8, 9]\n"
          ]
        }
      ],
      "source": [
        "x = [4, 7, 10]\n",
        "y = [4, 4]\n",
        "z = [4]\n",
        "print(type(x))\n",
        "# x.append()\n",
        "\n",
        "x = (7, 7, 5)\n",
        "\n",
        "x = list(range(10))\n",
        "print(x)\n"
      ]
    },
    {
      "cell_type": "code",
      "source": [
        "class User:\n",
        "  pass\n",
        "\n",
        "\n",
        "x = User()"
      ],
      "metadata": {
        "id": "pS6XZf474MIr"
      },
      "execution_count": null,
      "outputs": []
    },
    {
      "cell_type": "code",
      "source": [
        "# function\n",
        "print()\n",
        "len()\n",
        "max()\n",
        "\n",
        "# method\n",
        "x = [4, 7, 10]\n",
        "x.append()\n",
        "\n",
        "# class\n",
        "list()\n",
        "tuple()"
      ],
      "metadata": {
        "id": "Qg6hGF1K5CVX"
      },
      "execution_count": null,
      "outputs": []
    },
    {
      "cell_type": "markdown",
      "source": [
        "## Attributes\n",
        "\n",
        "The syntax for creating an attribute is:\n",
        "\n",
        "    self.attribute = something\n",
        "\n",
        "There is a special method called:\n",
        "\n",
        "    __init__()\n",
        "\n",
        "This method is used to initialize the attributes of an object"
      ],
      "metadata": {
        "id": "C-SLNmQCWwB-"
      }
    },
    {
      "cell_type": "code",
      "source": [
        "class User:\n",
        "\n",
        "  def __init__(self, name, age):\n",
        "    self.name = name\n",
        "    self.age = age\n",
        "\n",
        "\n",
        "x = User('ali', 50)\n",
        "print(x.name)\n",
        "print(x.age)\n",
        "print(type(x))\n",
        "\n"
      ],
      "metadata": {
        "id": "trahbjC5WyEJ",
        "colab": {
          "base_uri": "https://localhost:8080/"
        },
        "outputId": "57ab051a-83c6-4a30-ffaf-48fb19ba903e"
      },
      "execution_count": null,
      "outputs": [
        {
          "output_type": "stream",
          "name": "stdout",
          "text": [
            "ali\n",
            "50\n",
            "<class '__main__.User'>\n"
          ]
        }
      ]
    },
    {
      "cell_type": "markdown",
      "source": [
        "## Methods\n",
        "\n",
        "Methods are functions defined inside the body of a class. They are used to perform operations with the attributes of our objects. Methods are a key concept of the OOP paradigm. They are essential to dividing responsibilities in programming, especially in large applications.\n",
        "\n",
        "You can basically think of methods as functions acting on an Object that take the Object itself into account through its self argument."
      ],
      "metadata": {
        "id": "Rm2gWSIqW0FE"
      }
    },
    {
      "cell_type": "code",
      "source": [
        "class User:\n",
        "\n",
        "  def __init__(self, name, age):\n",
        "    self.name = name\n",
        "    self.age = age\n",
        "\n",
        "  def info(self):\n",
        "    return f'{self.name} is {self.age} years old'\n",
        "\n",
        "  def a():\n",
        "    pass\n",
        "\n",
        "\n",
        "\n",
        "ali = User('ali', 50)\n",
        "print(ali.info())\n"
      ],
      "metadata": {
        "id": "161uOF5AW1WB",
        "colab": {
          "base_uri": "https://localhost:8080/"
        },
        "outputId": "0f20993f-87b1-43e9-88b0-d9ba81c04338"
      },
      "execution_count": null,
      "outputs": [
        {
          "output_type": "stream",
          "name": "stdout",
          "text": [
            "ali is 50 years old\n"
          ]
        }
      ]
    },
    {
      "cell_type": "markdown",
      "source": [
        "## classmethod"
      ],
      "metadata": {
        "id": "snwXXcV0mKoM"
      }
    },
    {
      "cell_type": "code",
      "source": [
        "class User:\n",
        "    user_count = 0\n",
        "\n",
        "    def __init__(self, name):\n",
        "        self.name = name\n",
        "        User.user_count += 1\n",
        "\n",
        "    @classmethod\n",
        "    def get_user_count(cls):\n",
        "        return f\"Total users: {cls.user_count}\"\n",
        "\n",
        "user1 = User(\"ali\")\n",
        "user2 = User(\"reza\")\n",
        "user3 = User(\"mohammad\")\n",
        "\n",
        "print(User.get_user_count())\n"
      ],
      "metadata": {
        "id": "71HtPM5CmL-F",
        "colab": {
          "base_uri": "https://localhost:8080/"
        },
        "outputId": "7e8d52f9-449f-4b94-a77f-039f935316da"
      },
      "execution_count": 2,
      "outputs": [
        {
          "output_type": "stream",
          "name": "stdout",
          "text": [
            "Total users: 3\n"
          ]
        }
      ]
    },
    {
      "cell_type": "markdown",
      "source": [
        "## Private Variables"
      ],
      "metadata": {
        "id": "UWQ4cIbmY8YG"
      }
    },
    {
      "cell_type": "code",
      "source": [
        "class User:\n",
        "\n",
        "  def __init__(self, name, age):\n",
        "    self.__name = name\n",
        "    self.__age = age\n",
        "\n",
        "  def info(self):\n",
        "    return f'{self.__name} is {self.__age} years old'\n",
        "\n",
        "\n",
        "ali = User('ali', 50)\n",
        "print(ali.info())\n",
        "# private attribute ---> not show\n",
        "print(ali.__name)"
      ],
      "metadata": {
        "id": "JaklMHtLmQzl",
        "colab": {
          "base_uri": "https://localhost:8080/",
          "height": 193
        },
        "outputId": "29a35ef5-6f47-4395-f3e2-df63766f2a60"
      },
      "execution_count": 3,
      "outputs": [
        {
          "output_type": "stream",
          "name": "stdout",
          "text": [
            "ali is 50 years old\n"
          ]
        },
        {
          "output_type": "error",
          "ename": "AttributeError",
          "evalue": "'User' object has no attribute '__name'",
          "traceback": [
            "\u001b[0;31m---------------------------------------------------------------------------\u001b[0m",
            "\u001b[0;31mAttributeError\u001b[0m                            Traceback (most recent call last)",
            "\u001b[0;32m<ipython-input-3-bff0a1ad3005>\u001b[0m in \u001b[0;36m<cell line: 13>\u001b[0;34m()\u001b[0m\n\u001b[1;32m     11\u001b[0m \u001b[0mali\u001b[0m \u001b[0;34m=\u001b[0m \u001b[0mUser\u001b[0m\u001b[0;34m(\u001b[0m\u001b[0;34m'ali'\u001b[0m\u001b[0;34m,\u001b[0m \u001b[0;36m50\u001b[0m\u001b[0;34m)\u001b[0m\u001b[0;34m\u001b[0m\u001b[0;34m\u001b[0m\u001b[0m\n\u001b[1;32m     12\u001b[0m \u001b[0mprint\u001b[0m\u001b[0;34m(\u001b[0m\u001b[0mali\u001b[0m\u001b[0;34m.\u001b[0m\u001b[0minfo\u001b[0m\u001b[0;34m(\u001b[0m\u001b[0;34m)\u001b[0m\u001b[0;34m)\u001b[0m\u001b[0;34m\u001b[0m\u001b[0;34m\u001b[0m\u001b[0m\n\u001b[0;32m---> 13\u001b[0;31m \u001b[0mprint\u001b[0m\u001b[0;34m(\u001b[0m\u001b[0mali\u001b[0m\u001b[0;34m.\u001b[0m\u001b[0m__name\u001b[0m\u001b[0;34m)\u001b[0m\u001b[0;34m\u001b[0m\u001b[0;34m\u001b[0m\u001b[0m\n\u001b[0m",
            "\u001b[0;31mAttributeError\u001b[0m: 'User' object has no attribute '__name'"
          ]
        }
      ]
    },
    {
      "cell_type": "markdown",
      "source": [
        "## staticmethods"
      ],
      "metadata": {
        "id": "e-jQ-BX6mOtU"
      }
    },
    {
      "cell_type": "code",
      "source": [
        "class Math:\n",
        "\n",
        "    @staticmethod\n",
        "    def add(a, b):\n",
        "        return f\"Sum: {a + b}\"\n",
        "\n",
        "    @staticmethod\n",
        "    def subtract(a, b):\n",
        "        return f\"Difference: {a - b}\"\n",
        "\n",
        "\n",
        "result_add = Math.add(5, 3)\n",
        "result_sub = Math.subtract(10, 4)\n",
        "\n",
        "print(result_add)  # Sum: 8\n",
        "print(result_sub)  # Difference: 6\n"
      ],
      "metadata": {
        "id": "t6T1Uqq-mQWt",
        "colab": {
          "base_uri": "https://localhost:8080/"
        },
        "outputId": "5744b6a0-d4ef-4007-f296-28a68913239c"
      },
      "execution_count": 6,
      "outputs": [
        {
          "output_type": "stream",
          "name": "stdout",
          "text": [
            "Sum: 8\n",
            "Difference: 6\n"
          ]
        }
      ]
    },
    {
      "cell_type": "markdown",
      "source": [
        "## Properties\n",
        "\n",
        "#### @property / setter"
      ],
      "metadata": {
        "id": "8sZlhT13saaG"
      }
    },
    {
      "cell_type": "code",
      "source": [
        "class Person:\n",
        "\n",
        "  def __init__(self, age, name):\n",
        "    if age > 0:\n",
        "      self._age = age\n",
        "    else:\n",
        "      self._age = None\n",
        "    self.name = name\n",
        "\n",
        "  @property\n",
        "  def age(self):\n",
        "    return f\"my age : {self._age}\"\n",
        "\n",
        "  @age.setter\n",
        "  def age(self, value):\n",
        "    if value > 0:\n",
        "      self._age = value\n",
        "    else:\n",
        "      self._age = None\n",
        "\n",
        "\n",
        "person = Person(-5, \"alireza\")\n",
        "print(person.age)\n",
        "\n",
        "person.age = 4\n",
        "print(person.age)\n",
        "\n",
        "person.age = -47\n",
        "print(person.age)\n",
        "\n",
        "person.age = 47\n",
        "print(person.age)"
      ],
      "metadata": {
        "id": "-ITTQvEGsbXZ",
        "colab": {
          "base_uri": "https://localhost:8080/"
        },
        "outputId": "b326cc6b-9317-4bef-c4bd-65177b9d760f"
      },
      "execution_count": 16,
      "outputs": [
        {
          "output_type": "stream",
          "name": "stdout",
          "text": [
            "my age : None\n",
            "my age : 4\n",
            "my age : None\n",
            "my age : 47\n"
          ]
        }
      ]
    },
    {
      "cell_type": "markdown",
      "source": [
        "## Inheritance\n",
        "\n",
        "Inheritance is a way to form new classes using classes that have already been defined. The newly formed classes are called derived classes, the classes that we derive from are called base classes. Important benefits of inheritance are code reuse and reduction of complexity of a program. The derived classes (descendants) override or extend the functionality of base classes (ancestors).\n",
        "\n"
      ],
      "metadata": {
        "id": "rjZimXjJW2yD"
      }
    },
    {
      "cell_type": "code",
      "source": [
        "class Parent:  # Base Class\n",
        "    def __init__(self, name):\n",
        "        self.name = name\n",
        "\n",
        "    def greet(self):\n",
        "        print(f\"Hello, my name is {self.name}\")\n",
        "\n",
        "class Child(Parent):  # Subclass\n",
        "    def __init__(self, name, age):\n",
        "        super().__init__(name)\n",
        "        self.age = age\n",
        "\n",
        "    # Method Overriding\n",
        "    def greet(self):\n",
        "        print(f\"I am {self.name}, I am {self.age} years old.\")\n",
        "\n",
        "parent = Parent(\"Reza\")\n",
        "parent.greet()\n",
        "\n",
        "print('----------------------')\n",
        "\n",
        "child = Child(\"Ali\", 12)\n",
        "child.greet()\n"
      ],
      "metadata": {
        "id": "K5aWBI5cW3xI",
        "colab": {
          "base_uri": "https://localhost:8080/"
        },
        "outputId": "74ae3215-ee54-4aa5-e68a-017163c0b8ef"
      },
      "execution_count": 22,
      "outputs": [
        {
          "output_type": "stream",
          "name": "stdout",
          "text": [
            "Hello, my name is Reza\n",
            "----------------------\n",
            "Hello, my name is Ali\n"
          ]
        }
      ]
    },
    {
      "cell_type": "markdown",
      "source": [
        "## Special Methods\n",
        "\n",
        "Classes in Python can implement certain operations with special method names. These methods are not actually called directly but by Python specific language syntax.\n",
        "\n",
        "#### `__len__`\n",
        "#### `__str__`"
      ],
      "metadata": {
        "id": "1e68rif3W8Up"
      }
    },
    {
      "cell_type": "code",
      "source": [
        "class MyList:\n",
        "\n",
        "  def __init__(self, *args):\n",
        "    self.args = args\n",
        "\n",
        "  def __len__(self):\n",
        "    return len(self.args)\n",
        "\n",
        "  def __str__(self):\n",
        "    # show data --->> exmple : 1 ; 2 ; 3; 4\n",
        "    for i in self.args:\n",
        "      print(i, end=' ; ')\n",
        "    return ''\n",
        "\n",
        "data = MyList(1, 5, 7, 10, 1, 4)\n",
        "print(data)\n",
        "print(len(data))\n",
        "print(type(data))"
      ],
      "metadata": {
        "id": "Wv09Q-KGW9Q9",
        "colab": {
          "base_uri": "https://localhost:8080/"
        },
        "outputId": "8cd839e8-2a75-400d-bb8c-a66b491ccde2"
      },
      "execution_count": 15,
      "outputs": [
        {
          "output_type": "stream",
          "name": "stdout",
          "text": [
            "1 ; 5 ; 7 ; 10 ; 1 ; 4 ; \n",
            "6\n",
            "<class '__main__.MyList'>\n"
          ]
        }
      ]
    },
    {
      "cell_type": "markdown",
      "source": [
        "## exp1"
      ],
      "metadata": {
        "id": "Yfy8PWcodPMp"
      }
    },
    {
      "cell_type": "code",
      "source": [
        "class BankAccount:\n",
        "    def __init__(self, number_account, balance=0):\n",
        "        self.__number_account = number_account\n",
        "        self.__balance = balance\n",
        "\n",
        "    def deposit(self, amount):\n",
        "        \"\"\" Deposit amount from account \"\"\"\n",
        "        if amount > 0:\n",
        "            self.__balance += amount\n",
        "            print(f\"Deposited: {amount}. New balance: {self.__balance}\")\n",
        "        else:\n",
        "            print(\"Deposit amount must be positive.\")\n",
        "\n",
        "    def withdraw(self, amount):\n",
        "        \"\"\" Withdrawing money from the account \"\"\"\n",
        "        if amount > 0:\n",
        "            if amount <= self.__balance:\n",
        "                self.__balance -= amount\n",
        "                print(f\"Withdrew: {amount}. New balance: {self.__balance}\")\n",
        "            else:\n",
        "                print(\"Insufficient funds.\")\n",
        "        else:\n",
        "            print(\"Withdrawal amount must be positive.\")\n",
        "\n",
        "    def balance_get(self):\n",
        "        \"\"\" View account balance \"\"\"\n",
        "        return f\"Account balance: {self.__balance}\"\n",
        "\n",
        "account1 = BankAccount(\"123456789\", 1000)\n",
        "\n",
        "account1.deposit(500)\n",
        "\n",
        "account1.withdraw(200)\n",
        "\n",
        "print(account1.balance_get())\n",
        "\n",
        "account1.withdraw(1500)\n"
      ],
      "metadata": {
        "id": "Xf7K_vsWdRMN",
        "colab": {
          "base_uri": "https://localhost:8080/"
        },
        "outputId": "39d997b7-7921-4ace-9565-4b3031754286"
      },
      "execution_count": 23,
      "outputs": [
        {
          "output_type": "stream",
          "name": "stdout",
          "text": [
            "Deposited: 500. New balance: 1500\n",
            "Withdrew: 200. New balance: 1300\n",
            "Account balance: 1300\n",
            "Insufficient funds.\n"
          ]
        }
      ]
    },
    {
      "cell_type": "markdown",
      "source": [
        "## exp2"
      ],
      "metadata": {
        "id": "kZcLOX9cdR6q"
      }
    },
    {
      "cell_type": "code",
      "source": [
        "import statistics\n",
        "\n",
        "class Student:\n",
        "    def __init__(self, name, student_id, age):\n",
        "        self.name = name\n",
        "        self.student_id = student_id\n",
        "        self.age = age\n",
        "        self.grades = {}\n",
        "\n",
        "    def add_grade(self, subject, grade):\n",
        "        \"\"\"Add a grade for a subject\"\"\"\n",
        "        self.grades[subject] = grade\n",
        "        print(f\"Grade for {subject} added: {grade}\")\n",
        "\n",
        "    def update_grade(self, subject, new_grade):\n",
        "        \"\"\"Update the grade for an existing subject\"\"\"\n",
        "        if subject in self.grades:\n",
        "            old_grade = self.grades[subject]\n",
        "            self.grades[subject] = new_grade\n",
        "            print(f\"Grade for {subject} updated from {old_grade} to {new_grade}\")\n",
        "        else:\n",
        "            print(f\"Subject {subject} not found!\")\n",
        "\n",
        "    def calculate_average(self):\n",
        "        \"\"\"Calculate the average grade\"\"\"\n",
        "        if self.grades:\n",
        "            average = sum(self.grades.values()) / len(self.grades)\n",
        "            return average\n",
        "        else:\n",
        "            return 0\n",
        "\n",
        "    def calculate_variance(self):\n",
        "        \"\"\"Calculate the variance of grades\"\"\"\n",
        "        if len(self.grades) > 1:\n",
        "            variance = statistics.variance(self.grades.values())\n",
        "            return variance\n",
        "        else:\n",
        "            return 0\n",
        "\n",
        "    def display_info(self):\n",
        "        \"\"\"Display the student's information\"\"\"\n",
        "        print(f\"Student Name: {self.name}\")\n",
        "        print(f\"Student ID: {self.student_id}\")\n",
        "        print(f\"Age: {self.age}\")\n",
        "        print(\"Grades:\")\n",
        "        for subject, grade in self.grades.items():\n",
        "            print(f\"  {subject}: {grade}\")\n",
        "        print(f\"Average Grade: {self.calculate_average()}\")\n",
        "        print(f\"Grade Variance: {self.calculate_variance()}\")\n",
        "\n",
        "# Create a Student object\n",
        "student1 = Student(\"Ali\", 12345, 17)\n",
        "\n",
        "# Adding grades\n",
        "student1.add_grade(\"Math\", 85)\n",
        "student1.add_grade(\"Physics\", 90)\n",
        "student1.add_grade(\"Chemistry\", 88)\n",
        "\n",
        "# Updating a grade\n",
        "student1.update_grade(\"Math\", 95)\n",
        "\n",
        "print(' -------------------- ')\n",
        "\n",
        "# Displaying student information\n",
        "student1.display_info()\n"
      ],
      "metadata": {
        "id": "CR9w586PdTuC",
        "colab": {
          "base_uri": "https://localhost:8080/"
        },
        "outputId": "f7b94011-9c25-4448-91d5-53200e074c91"
      },
      "execution_count": 25,
      "outputs": [
        {
          "output_type": "stream",
          "name": "stdout",
          "text": [
            "Grade for Math added: 85\n",
            "Grade for Physics added: 90\n",
            "Grade for Chemistry added: 88\n",
            "Grade for Math updated from 85 to 95\n",
            " -------------------- \n",
            "Student Name: Ali\n",
            "Student ID: 12345\n",
            "Age: 17\n",
            "Grades:\n",
            "  Math: 95\n",
            "  Physics: 90\n",
            "  Chemistry: 88\n",
            "Average Grade: 91.0\n",
            "Grade Variance: 13\n"
          ]
        }
      ]
    }
  ]
}