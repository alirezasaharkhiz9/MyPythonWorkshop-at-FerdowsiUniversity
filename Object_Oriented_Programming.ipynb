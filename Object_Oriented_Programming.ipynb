{
  "nbformat": 4,
  "nbformat_minor": 0,
  "metadata": {
    "colab": {
      "provenance": [],
      "authorship_tag": "ABX9TyMCN9tdfSmy76pWSLQWM0+N",
      "include_colab_link": true
    },
    "kernelspec": {
      "name": "python3",
      "display_name": "Python 3"
    },
    "language_info": {
      "name": "python"
    }
  },
  "cells": [
    {
      "cell_type": "markdown",
      "metadata": {
        "id": "view-in-github",
        "colab_type": "text"
      },
      "source": [
        "<a href=\"https://colab.research.google.com/github/alirezasaharkhiz9/MyPythonWorkshop-at-FerdowsiUniversity/blob/main/Object_Oriented_Programming.ipynb\" target=\"_parent\"><img src=\"https://colab.research.google.com/assets/colab-badge.svg\" alt=\"Open In Colab\"/></a>"
      ]
    },
    {
      "cell_type": "markdown",
      "source": [
        "# Object Oriented Programming\n",
        "\n",
        "in this lesson we'll learn:\n",
        "- class keyword\n",
        "- Attributes\n",
        "- Methods\n",
        "- classmethod\n",
        "- staticmethods\n",
        "- Private Variables\n",
        "- Properties\n",
        "- Inheritance\n",
        "- Special Methods\n"
      ],
      "metadata": {
        "id": "hQFdotKLVVTo"
      }
    },
    {
      "cell_type": "markdown",
      "source": [
        "## class keyword\n",
        "User defined objects are created using the class keyword. The class is a blueprint that defines the nature of a future object. From classes we can construct instances. An instance is a specific object created from a particular class.\n"
      ],
      "metadata": {
        "id": "WuyZ-FDPVwox"
      }
    },
    {
      "cell_type": "code",
      "execution_count": null,
      "metadata": {
        "id": "0Xf-uoSRRsSv",
        "colab": {
          "base_uri": "https://localhost:8080/"
        },
        "outputId": "3d072cfa-95f3-48ac-8f33-fdb74dd1e814"
      },
      "outputs": [
        {
          "output_type": "stream",
          "name": "stdout",
          "text": [
            "<class 'list'>\n",
            "[0, 1, 2, 3, 4, 5, 6, 7, 8, 9]\n"
          ]
        }
      ],
      "source": [
        "x = [4, 7, 10]\n",
        "y = [4, 4]\n",
        "z = [4]\n",
        "print(type(x))\n",
        "# x.append()\n",
        "\n",
        "x = (7, 7, 5)\n",
        "\n",
        "x = list(range(10))\n",
        "print(x)\n"
      ]
    },
    {
      "cell_type": "code",
      "source": [
        "class User:\n",
        "  pass\n",
        "\n",
        "\n",
        "x = User()"
      ],
      "metadata": {
        "id": "pS6XZf474MIr"
      },
      "execution_count": null,
      "outputs": []
    },
    {
      "cell_type": "code",
      "source": [
        "# function\n",
        "print()\n",
        "len()\n",
        "max()\n",
        "\n",
        "# method\n",
        "x = [4, 7, 10]\n",
        "x.append()\n",
        "\n",
        "# class\n",
        "list()\n",
        "tuple()"
      ],
      "metadata": {
        "id": "Qg6hGF1K5CVX"
      },
      "execution_count": null,
      "outputs": []
    },
    {
      "cell_type": "markdown",
      "source": [
        "## Attributes\n",
        "\n",
        "The syntax for creating an attribute is:\n",
        "\n",
        "    self.attribute = something\n",
        "\n",
        "There is a special method called:\n",
        "\n",
        "    __init__()\n",
        "\n",
        "This method is used to initialize the attributes of an object"
      ],
      "metadata": {
        "id": "C-SLNmQCWwB-"
      }
    },
    {
      "cell_type": "code",
      "source": [
        "class User:\n",
        "\n",
        "  def __init__(self, name, age):\n",
        "    self.name = name\n",
        "    self.age = age\n",
        "\n",
        "\n",
        "x = User('ali', 50)\n",
        "print(x.name)\n",
        "print(x.age)\n",
        "print(type(x))\n",
        "\n"
      ],
      "metadata": {
        "id": "trahbjC5WyEJ",
        "colab": {
          "base_uri": "https://localhost:8080/"
        },
        "outputId": "57ab051a-83c6-4a30-ffaf-48fb19ba903e"
      },
      "execution_count": null,
      "outputs": [
        {
          "output_type": "stream",
          "name": "stdout",
          "text": [
            "ali\n",
            "50\n",
            "<class '__main__.User'>\n"
          ]
        }
      ]
    },
    {
      "cell_type": "markdown",
      "source": [
        "## Methods\n",
        "\n",
        "Methods are functions defined inside the body of a class. They are used to perform operations with the attributes of our objects. Methods are a key concept of the OOP paradigm. They are essential to dividing responsibilities in programming, especially in large applications.\n",
        "\n",
        "You can basically think of methods as functions acting on an Object that take the Object itself into account through its self argument."
      ],
      "metadata": {
        "id": "Rm2gWSIqW0FE"
      }
    },
    {
      "cell_type": "code",
      "source": [
        "class User:\n",
        "\n",
        "  def __init__(self, name, age):\n",
        "    self.name = name\n",
        "    self.age = age\n",
        "\n",
        "  def info(self):\n",
        "    return f'{self.name} is {self.age} years old'\n",
        "\n",
        "  def a():\n",
        "    pass\n",
        "\n",
        "\n",
        "\n",
        "ali = User('ali', 50)\n",
        "print(ali.info())\n"
      ],
      "metadata": {
        "id": "161uOF5AW1WB",
        "colab": {
          "base_uri": "https://localhost:8080/"
        },
        "outputId": "0f20993f-87b1-43e9-88b0-d9ba81c04338"
      },
      "execution_count": null,
      "outputs": [
        {
          "output_type": "stream",
          "name": "stdout",
          "text": [
            "ali is 50 years old\n"
          ]
        }
      ]
    },
    {
      "cell_type": "code",
      "source": [],
      "metadata": {
        "id": "2hcWQPYBY9jx"
      },
      "execution_count": null,
      "outputs": []
    },
    {
      "cell_type": "markdown",
      "source": [
        "## classmethod"
      ],
      "metadata": {
        "id": "snwXXcV0mKoM"
      }
    },
    {
      "cell_type": "code",
      "source": [],
      "metadata": {
        "id": "71HtPM5CmL-F"
      },
      "execution_count": null,
      "outputs": []
    },
    {
      "cell_type": "markdown",
      "source": [
        "## Private Variables"
      ],
      "metadata": {
        "id": "UWQ4cIbmY8YG"
      }
    },
    {
      "cell_type": "code",
      "source": [],
      "metadata": {
        "id": "JaklMHtLmQzl"
      },
      "execution_count": null,
      "outputs": []
    },
    {
      "cell_type": "markdown",
      "source": [
        "## staticmethods"
      ],
      "metadata": {
        "id": "e-jQ-BX6mOtU"
      }
    },
    {
      "cell_type": "code",
      "source": [],
      "metadata": {
        "id": "t6T1Uqq-mQWt"
      },
      "execution_count": null,
      "outputs": []
    },
    {
      "cell_type": "markdown",
      "source": [
        "## Properties\n",
        "\n",
        "#### @property / setter"
      ],
      "metadata": {
        "id": "8sZlhT13saaG"
      }
    },
    {
      "cell_type": "code",
      "source": [],
      "metadata": {
        "id": "-ITTQvEGsbXZ"
      },
      "execution_count": null,
      "outputs": []
    },
    {
      "cell_type": "markdown",
      "source": [
        "## Inheritance\n",
        "\n",
        "Inheritance is a way to form new classes using classes that have already been defined. The newly formed classes are called derived classes, the classes that we derive from are called base classes. Important benefits of inheritance are code reuse and reduction of complexity of a program. The derived classes (descendants) override or extend the functionality of base classes (ancestors).\n",
        "\n"
      ],
      "metadata": {
        "id": "rjZimXjJW2yD"
      }
    },
    {
      "cell_type": "code",
      "source": [],
      "metadata": {
        "id": "K5aWBI5cW3xI"
      },
      "execution_count": null,
      "outputs": []
    },
    {
      "cell_type": "markdown",
      "source": [
        "## Special Methods\n",
        "\n",
        "Classes in Python can implement certain operations with special method names. These methods are not actually called directly but by Python specific language syntax.\n",
        "\n",
        "#### `__len__`\n",
        "#### `__str__`"
      ],
      "metadata": {
        "id": "1e68rif3W8Up"
      }
    },
    {
      "cell_type": "code",
      "source": [],
      "metadata": {
        "id": "Wv09Q-KGW9Q9"
      },
      "execution_count": null,
      "outputs": []
    }
  ]
}